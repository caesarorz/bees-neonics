{
 "cells": [
  {
   "cell_type": "code",
   "execution_count": 2,
   "metadata": {},
   "outputs": [],
   "source": [
    "import pandas as pd\n",
    "import numpy as np\n",
    "\n",
    "import seaborn as sns\n",
    "import matplotlib.pyplot as plt\n",
    "import plotly.graph_objects as go\n",
    "import plotly.express as px\n",
    "from plotly.subplots import make_subplots\n",
    "\n",
    "from sklearn.impute import SimpleImputer\n",
    "from sklearn.preprocessing import LabelEncoder, OneHotEncoder\n",
    "from sklearn.compose import ColumnTransformer\n",
    "from sklearn.model_selection import train_test_split\n",
    "from sklearn.preprocessing import StandardScaler\n",
    "from sklearn.linear_model import LinearRegression\n",
    "import statsmodels.regression.linear_model as lm"
   ]
  },
  {
   "cell_type": "markdown",
   "metadata": {},
   "source": [
    "# EDA"
   ]
  },
  {
   "cell_type": "code",
   "execution_count": 3,
   "metadata": {},
   "outputs": [],
   "source": [
    "df02 = pd.read_csv('./data/vHoneyNeonic_v02.csv')\n",
    "df03 = pd.read_csv('./data/vHoneyNeonic_v03.csv')"
   ]
  },
  {
   "cell_type": "code",
   "execution_count": 4,
   "metadata": {},
   "outputs": [
    {
     "name": "stdout",
     "output_type": "stream",
     "text": [
      "<class 'pandas.core.frame.DataFrame'>\n",
      "RangeIndex: 825 entries, 0 to 824\n",
      "Data columns (total 16 columns):\n",
      " #   Column         Non-Null Count  Dtype  \n",
      "---  ------         --------------  -----  \n",
      " 0   state          825 non-null    object \n",
      " 1   numcol         825 non-null    float64\n",
      " 2   yieldpercol    825 non-null    int64  \n",
      " 3   totalprod      825 non-null    float64\n",
      " 4   stocks         825 non-null    float64\n",
      " 5   priceperlb     825 non-null    float64\n",
      " 6   prodvalue      825 non-null    float64\n",
      " 7   year           825 non-null    int64  \n",
      " 8   StateName      825 non-null    object \n",
      " 9   Region         825 non-null    object \n",
      " 10  nCLOTHIANIDIN  761 non-null    float64\n",
      " 11  nIMIDACLOPRID  761 non-null    float64\n",
      " 12  nTHIAMETHOXAM  761 non-null    float64\n",
      " 13  nACETAMIPRID   761 non-null    float64\n",
      " 14  nTHIACLOPRID   761 non-null    float64\n",
      " 15  nAllNeonic     761 non-null    float64\n",
      "dtypes: float64(11), int64(2), object(3)\n",
      "memory usage: 103.2+ KB\n"
     ]
    }
   ],
   "source": [
    "df02.info()"
   ]
  },
  {
   "cell_type": "code",
   "execution_count": 5,
   "metadata": {},
   "outputs": [
    {
     "name": "stdout",
     "output_type": "stream",
     "text": [
      "<class 'pandas.core.frame.DataFrame'>\n",
      "RangeIndex: 1132 entries, 0 to 1131\n",
      "Data columns (total 17 columns):\n",
      " #   Column         Non-Null Count  Dtype  \n",
      "---  ------         --------------  -----  \n",
      " 0   state          1132 non-null   object \n",
      " 1   numcol         1132 non-null   float64\n",
      " 2   yieldpercol    1132 non-null   int64  \n",
      " 3   totalprod      1132 non-null   float64\n",
      " 4   stocks         1132 non-null   float64\n",
      " 5   priceperlb     1132 non-null   float64\n",
      " 6   prodvalue      1132 non-null   float64\n",
      " 7   year           1132 non-null   int64  \n",
      " 8   StateName      1132 non-null   object \n",
      " 9   Region         1132 non-null   object \n",
      " 10  FIPS           1132 non-null   int64  \n",
      " 11  nCLOTHIANIDIN  895 non-null    float64\n",
      " 12  nIMIDACLOPRID  895 non-null    float64\n",
      " 13  nTHIAMETHOXAM  895 non-null    float64\n",
      " 14  nACETAMIPRID   895 non-null    float64\n",
      " 15  nTHIACLOPRID   895 non-null    float64\n",
      " 16  nAllNeonic     895 non-null    float64\n",
      "dtypes: float64(11), int64(3), object(3)\n",
      "memory usage: 150.5+ KB\n"
     ]
    }
   ],
   "source": [
    "df03.info()"
   ]
  },
  {
   "cell_type": "markdown",
   "metadata": {},
   "source": [
    "- Let's check if df02 and df03 both are different."
   ]
  },
  {
   "cell_type": "code",
   "execution_count": 6,
   "metadata": {},
   "outputs": [
    {
     "name": "stdout",
     "output_type": "stream",
     "text": [
      "[1998 1999 2000 2001 2002 2003 2004 2005 2006 2007 2008 2009 2010 2011\n",
      " 2012 2013 2014 2015 2016 2017]\n",
      "[1991 1992 1993 1994 1995 1996 1997 1998 1999 2000 2001 2002 2003 2004\n",
      " 2005 2006 2007 2008 2009 2010 2011 2012 2013 2014 2015 2016 2017]\n"
     ]
    }
   ],
   "source": [
    "print(np.sort(df02['year'].unique()))\n",
    "print(np.sort(df03['year'].unique()))"
   ]
  },
  {
   "cell_type": "code",
   "execution_count": 7,
   "metadata": {},
   "outputs": [
    {
     "name": "stdout",
     "output_type": "stream",
     "text": [
      "(825, 16) (1132, 17)\n"
     ]
    }
   ],
   "source": [
    "print(df02.shape, df03.shape)"
   ]
  },
  {
   "cell_type": "markdown",
   "metadata": {},
   "source": [
    "Just need to work with df03 (VHoneyNeonic_v03.csv)"
   ]
  },
  {
   "cell_type": "code",
   "execution_count": 8,
   "metadata": {},
   "outputs": [
    {
     "name": "stdout",
     "output_type": "stream",
     "text": [
      "nCLOTHIANIDIN    237\n",
      "nIMIDACLOPRID    237\n",
      "nTHIAMETHOXAM    237\n",
      "nACETAMIPRID     237\n",
      "nTHIACLOPRID     237\n",
      "nAllNeonic       237\n",
      "dtype: int64\n"
     ]
    },
    {
     "data": {
      "image/png": "[encoded data removed]",
      "text/plain": [
       "<Figure size 432x288 with 1 Axes>"
      ]
     },
     "metadata": {
      "needs_background": "light"
     },
     "output_type": "display_data"
    }
   ],
   "source": [
    "# fig = go.Figure([go.Bar(\n",
    "#                 x=df03.isnull().sum().index, \n",
    "#                 y=df03.isnull().sum())\n",
    "#                 ])\n",
    "# fig.update_layout(title='NaN values by column. Total 237 for chemical', width=400)\n",
    "# fig.show()\n",
    "# print(df03.isna().sum())\n",
    "# for all chemicals, there is some NAs\n",
    "sns.heatmap(df03.isnull(),yticklabels=False,cbar=False,cmap='viridis')\n",
    "print(df03.isna().sum()[df03.isna().sum() > 0])"
   ]
  },
  {
   "cell_type": "markdown",
   "metadata": {},
   "source": [
    "For all neonics we have a lot of NAN. Fortunaly, plotly manage NAN values for us."
   ]
  },
  {
   "cell_type": "code",
   "execution_count": 9,
   "metadata": {},
   "outputs": [],
   "source": [
    "# sort the entire df for future use\n",
    "df = df03.sort_values(['StateName','year'],ascending=True)"
   ]
  },
  {
   "cell_type": "code",
   "execution_count": 10,
   "metadata": {},
   "outputs": [
    {
     "data": {
      "text/html": [
       "<div>\n",
       "<style scoped>\n",
       "    .dataframe tbody tr th:only-of-type {\n",
       "        vertical-align: middle;\n",
       "    }\n",
       "\n",
       "    .dataframe tbody tr th {\n",
       "        vertical-align: top;\n",
       "    }\n",
       "\n",
       "    .dataframe thead th {\n",
       "        text-align: right;\n",
       "    }\n",
       "</style>\n",
       "<table border=\"1\" class=\"dataframe\">\n",
       "  <thead>\n",
       "    <tr style=\"text-align: right;\">\n",
       "      <th></th>\n",
       "      <th>numcol</th>\n",
       "      <th>yieldpercol</th>\n",
       "      <th>totalprod</th>\n",
       "      <th>stocks</th>\n",
       "      <th>priceperlb</th>\n",
       "      <th>prodvalue</th>\n",
       "      <th>year</th>\n",
       "      <th>FIPS</th>\n",
       "      <th>nCLOTHIANIDIN</th>\n",
       "      <th>nIMIDACLOPRID</th>\n",
       "      <th>nTHIAMETHOXAM</th>\n",
       "      <th>nACETAMIPRID</th>\n",
       "      <th>nTHIACLOPRID</th>\n",
       "      <th>nAllNeonic</th>\n",
       "    </tr>\n",
       "  </thead>\n",
       "  <tbody>\n",
       "    <tr>\n",
       "      <th>numcol</th>\n",
       "      <td>1.000000</td>\n",
       "      <td>0.241379</td>\n",
       "      <td>0.952677</td>\n",
       "      <td>0.809360</td>\n",
       "      <td>-0.187786</td>\n",
       "      <td>0.873836</td>\n",
       "      <td>0.004369</td>\n",
       "      <td>-0.103073</td>\n",
       "      <td>0.022015</td>\n",
       "      <td>0.409895</td>\n",
       "      <td>0.092107</td>\n",
       "      <td>0.318224</td>\n",
       "      <td>-0.032633</td>\n",
       "      <td>0.189996</td>\n",
       "    </tr>\n",
       "    <tr>\n",
       "      <th>yieldpercol</th>\n",
       "      <td>0.241379</td>\n",
       "      <td>1.000000</td>\n",
       "      <td>0.396507</td>\n",
       "      <td>0.352407</td>\n",
       "      <td>-0.337930</td>\n",
       "      <td>0.239500</td>\n",
       "      <td>-0.215072</td>\n",
       "      <td>-0.109588</td>\n",
       "      <td>-0.048182</td>\n",
       "      <td>-0.081020</td>\n",
       "      <td>0.021389</td>\n",
       "      <td>-0.116265</td>\n",
       "      <td>-0.105431</td>\n",
       "      <td>-0.058936</td>\n",
       "    </tr>\n",
       "    <tr>\n",
       "      <th>totalprod</th>\n",
       "      <td>0.952677</td>\n",
       "      <td>0.396507</td>\n",
       "      <td>1.000000</td>\n",
       "      <td>0.851490</td>\n",
       "      <td>-0.220494</td>\n",
       "      <td>0.853131</td>\n",
       "      <td>-0.060457</td>\n",
       "      <td>-0.064675</td>\n",
       "      <td>0.002455</td>\n",
       "      <td>0.274404</td>\n",
       "      <td>0.068303</td>\n",
       "      <td>0.165876</td>\n",
       "      <td>-0.055876</td>\n",
       "      <td>0.118631</td>\n",
       "    </tr>\n",
       "    <tr>\n",
       "      <th>stocks</th>\n",
       "      <td>0.809360</td>\n",
       "      <td>0.352407</td>\n",
       "      <td>0.851490</td>\n",
       "      <td>1.000000</td>\n",
       "      <td>-0.224134</td>\n",
       "      <td>0.711388</td>\n",
       "      <td>-0.046603</td>\n",
       "      <td>0.036676</td>\n",
       "      <td>0.001051</td>\n",
       "      <td>0.160943</td>\n",
       "      <td>0.029506</td>\n",
       "      <td>0.114871</td>\n",
       "      <td>-0.019246</td>\n",
       "      <td>0.068194</td>\n",
       "    </tr>\n",
       "    <tr>\n",
       "      <th>priceperlb</th>\n",
       "      <td>-0.187786</td>\n",
       "      <td>-0.337930</td>\n",
       "      <td>-0.220494</td>\n",
       "      <td>-0.224134</td>\n",
       "      <td>1.000000</td>\n",
       "      <td>-0.003350</td>\n",
       "      <td>0.764124</td>\n",
       "      <td>0.082300</td>\n",
       "      <td>0.262087</td>\n",
       "      <td>0.198470</td>\n",
       "      <td>0.261383</td>\n",
       "      <td>0.041519</td>\n",
       "      <td>0.109933</td>\n",
       "      <td>0.279994</td>\n",
       "    </tr>\n",
       "    <tr>\n",
       "      <th>prodvalue</th>\n",
       "      <td>0.873836</td>\n",
       "      <td>0.239500</td>\n",
       "      <td>0.853131</td>\n",
       "      <td>0.711388</td>\n",
       "      <td>-0.003350</td>\n",
       "      <td>1.000000</td>\n",
       "      <td>0.215962</td>\n",
       "      <td>-0.024985</td>\n",
       "      <td>0.104103</td>\n",
       "      <td>0.357058</td>\n",
       "      <td>0.215125</td>\n",
       "      <td>0.217413</td>\n",
       "      <td>-0.007690</td>\n",
       "      <td>0.240381</td>\n",
       "    </tr>\n",
       "    <tr>\n",
       "      <th>year</th>\n",
       "      <td>0.004369</td>\n",
       "      <td>-0.215072</td>\n",
       "      <td>-0.060457</td>\n",
       "      <td>-0.046603</td>\n",
       "      <td>0.764124</td>\n",
       "      <td>0.215962</td>\n",
       "      <td>1.000000</td>\n",
       "      <td>-0.007667</td>\n",
       "      <td>0.315925</td>\n",
       "      <td>0.354881</td>\n",
       "      <td>0.467843</td>\n",
       "      <td>0.169439</td>\n",
       "      <td>0.179026</td>\n",
       "      <td>0.415524</td>\n",
       "    </tr>\n",
       "    <tr>\n",
       "      <th>FIPS</th>\n",
       "      <td>-0.103073</td>\n",
       "      <td>-0.109588</td>\n",
       "      <td>-0.064675</td>\n",
       "      <td>0.036676</td>\n",
       "      <td>0.082300</td>\n",
       "      <td>-0.024985</td>\n",
       "      <td>-0.007667</td>\n",
       "      <td>1.000000</td>\n",
       "      <td>-0.081233</td>\n",
       "      <td>-0.264478</td>\n",
       "      <td>-0.085272</td>\n",
       "      <td>-0.084765</td>\n",
       "      <td>0.142158</td>\n",
       "      <td>-0.160150</td>\n",
       "    </tr>\n",
       "    <tr>\n",
       "      <th>nCLOTHIANIDIN</th>\n",
       "      <td>0.022015</td>\n",
       "      <td>-0.048182</td>\n",
       "      <td>0.002455</td>\n",
       "      <td>0.001051</td>\n",
       "      <td>0.262087</td>\n",
       "      <td>0.104103</td>\n",
       "      <td>0.315925</td>\n",
       "      <td>-0.081233</td>\n",
       "      <td>1.000000</td>\n",
       "      <td>0.510284</td>\n",
       "      <td>0.750403</td>\n",
       "      <td>0.019093</td>\n",
       "      <td>-0.009031</td>\n",
       "      <td>0.920872</td>\n",
       "    </tr>\n",
       "    <tr>\n",
       "      <th>nIMIDACLOPRID</th>\n",
       "      <td>0.409895</td>\n",
       "      <td>-0.081020</td>\n",
       "      <td>0.274404</td>\n",
       "      <td>0.160943</td>\n",
       "      <td>0.198470</td>\n",
       "      <td>0.357058</td>\n",
       "      <td>0.354881</td>\n",
       "      <td>-0.264478</td>\n",
       "      <td>0.510284</td>\n",
       "      <td>1.000000</td>\n",
       "      <td>0.534640</td>\n",
       "      <td>0.542934</td>\n",
       "      <td>-0.018258</td>\n",
       "      <td>0.784714</td>\n",
       "    </tr>\n",
       "    <tr>\n",
       "      <th>nTHIAMETHOXAM</th>\n",
       "      <td>0.092107</td>\n",
       "      <td>0.021389</td>\n",
       "      <td>0.068303</td>\n",
       "      <td>0.029506</td>\n",
       "      <td>0.261383</td>\n",
       "      <td>0.215125</td>\n",
       "      <td>0.467843</td>\n",
       "      <td>-0.085272</td>\n",
       "      <td>0.750403</td>\n",
       "      <td>0.534640</td>\n",
       "      <td>1.000000</td>\n",
       "      <td>0.073276</td>\n",
       "      <td>0.001360</td>\n",
       "      <td>0.836556</td>\n",
       "    </tr>\n",
       "    <tr>\n",
       "      <th>nACETAMIPRID</th>\n",
       "      <td>0.318224</td>\n",
       "      <td>-0.116265</td>\n",
       "      <td>0.165876</td>\n",
       "      <td>0.114871</td>\n",
       "      <td>0.041519</td>\n",
       "      <td>0.217413</td>\n",
       "      <td>0.169439</td>\n",
       "      <td>-0.084765</td>\n",
       "      <td>0.019093</td>\n",
       "      <td>0.542934</td>\n",
       "      <td>0.073276</td>\n",
       "      <td>1.000000</td>\n",
       "      <td>0.211978</td>\n",
       "      <td>0.267330</td>\n",
       "    </tr>\n",
       "    <tr>\n",
       "      <th>nTHIACLOPRID</th>\n",
       "      <td>-0.032633</td>\n",
       "      <td>-0.105431</td>\n",
       "      <td>-0.055876</td>\n",
       "      <td>-0.019246</td>\n",
       "      <td>0.109933</td>\n",
       "      <td>-0.007690</td>\n",
       "      <td>0.179026</td>\n",
       "      <td>0.142158</td>\n",
       "      <td>-0.009031</td>\n",
       "      <td>-0.018258</td>\n",
       "      <td>0.001360</td>\n",
       "      <td>0.211978</td>\n",
       "      <td>1.000000</td>\n",
       "      <td>0.008478</td>\n",
       "    </tr>\n",
       "    <tr>\n",
       "      <th>nAllNeonic</th>\n",
       "      <td>0.189996</td>\n",
       "      <td>-0.058936</td>\n",
       "      <td>0.118631</td>\n",
       "      <td>0.068194</td>\n",
       "      <td>0.279994</td>\n",
       "      <td>0.240381</td>\n",
       "      <td>0.415524</td>\n",
       "      <td>-0.160150</td>\n",
       "      <td>0.920872</td>\n",
       "      <td>0.784714</td>\n",
       "      <td>0.836556</td>\n",
       "      <td>0.267330</td>\n",
       "      <td>0.008478</td>\n",
       "      <td>1.000000</td>\n",
       "    </tr>\n",
       "  </tbody>\n",
       "</table>\n",
       "</div>"
      ],
      "text/plain": [
       "                 numcol  yieldpercol  totalprod    stocks  priceperlb  \\\n",
       "numcol         1.000000     0.241379   0.952677  0.809360   -0.187786   \n",
       "yieldpercol    0.241379     1.000000   0.396507  0.352407   -0.337930   \n",
       "totalprod      0.952677     0.396507   1.000000  0.851490   -0.220494   \n",
       "stocks         0.809360     0.352407   0.851490  1.000000   -0.224134   \n",
       "priceperlb    -0.187786    -0.337930  -0.220494 -0.224134    1.000000   \n",
       "prodvalue      0.873836     0.239500   0.853131  0.711388   -0.003350   \n",
       "year           0.004369    -0.215072  -0.060457 -0.046603    0.764124   \n",
       "FIPS          -0.103073    -0.109588  -0.064675  0.036676    0.082300   \n",
       "nCLOTHIANIDIN  0.022015    -0.048182   0.002455  0.001051    0.262087   \n",
       "nIMIDACLOPRID  0.409895    -0.081020   0.274404  0.160943    0.198470   \n",
       "nTHIAMETHOXAM  0.092107     0.021389   0.068303  0.029506    0.261383   \n",
       "nACETAMIPRID   0.318224    -0.116265   0.165876  0.114871    0.041519   \n",
       "nTHIACLOPRID  -0.032633    -0.105431  -0.055876 -0.019246    0.109933   \n",
       "nAllNeonic     0.189996    -0.058936   0.118631  0.068194    0.279994   \n",
       "\n",
       "               prodvalue      year      FIPS  nCLOTHIANIDIN  nIMIDACLOPRID  \\\n",
       "numcol          0.873836  0.004369 -0.103073       0.022015       0.409895   \n",
       "yieldpercol     0.239500 -0.215072 -0.109588      -0.048182      -0.081020   \n",
       "totalprod       0.853131 -0.060457 -0.064675       0.002455       0.274404   \n",
       "stocks          0.711388 -0.046603  0.036676       0.001051       0.160943   \n",
       "priceperlb     -0.003350  0.764124  0.082300       0.262087       0.198470   \n",
       "prodvalue       1.000000  0.215962 -0.024985       0.104103       0.357058   \n",
       "year            0.215962  1.000000 -0.007667       0.315925       0.354881   \n",
       "FIPS           -0.024985 -0.007667  1.000000      -0.081233      -0.264478   \n",
       "nCLOTHIANIDIN   0.104103  0.315925 -0.081233       1.000000       0.510284   \n",
       "nIMIDACLOPRID   0.357058  0.354881 -0.264478       0.510284       1.000000   \n",
       "nTHIAMETHOXAM   0.215125  0.467843 -0.085272       0.750403       0.534640   \n",
       "nACETAMIPRID    0.217413  0.169439 -0.084765       0.019093       0.542934   \n",
       "nTHIACLOPRID   -0.007690  0.179026  0.142158      -0.009031      -0.018258   \n",
       "nAllNeonic      0.240381  0.415524 -0.160150       0.920872       0.784714   \n",
       "\n",
       "               nTHIAMETHOXAM  nACETAMIPRID  nTHIACLOPRID  nAllNeonic  \n",
       "numcol              0.092107      0.318224     -0.032633    0.189996  \n",
       "yieldpercol         0.021389     -0.116265     -0.105431   -0.058936  \n",
       "totalprod           0.068303      0.165876     -0.055876    0.118631  \n",
       "stocks              0.029506      0.114871     -0.019246    0.068194  \n",
       "priceperlb          0.261383      0.041519      0.109933    0.279994  \n",
       "prodvalue           0.215125      0.217413     -0.007690    0.240381  \n",
       "year                0.467843      0.169439      0.179026    0.415524  \n",
       "FIPS               -0.085272     -0.084765      0.142158   -0.160150  \n",
       "nCLOTHIANIDIN       0.750403      0.019093     -0.009031    0.920872  \n",
       "nIMIDACLOPRID       0.534640      0.542934     -0.018258    0.784714  \n",
       "nTHIAMETHOXAM       1.000000      0.073276      0.001360    0.836556  \n",
       "nACETAMIPRID        0.073276      1.000000      0.211978    0.267330  \n",
       "nTHIACLOPRID        0.001360      0.211978      1.000000    0.008478  \n",
       "nAllNeonic          0.836556      0.267330      0.008478    1.000000  "
      ]
     },
     "execution_count": 10,
     "metadata": {},
     "output_type": "execute_result"
    }
   ],
   "source": [
    "df.corr()"
   ]
  },
  {
   "cell_type": "code",
   "execution_count": 11,
   "metadata": {},
   "outputs": [],
   "source": [
    "#sns.pairplot(df[[\"numcol\",\"year\",\"totalprod\", \"nCLOTHIANIDIN\", \"nIMIDACLOPRID\", \"nTHIAMETHOXAM\",\"nACETAMIPRID\",\t\"nTHIACLOPRID\",\t\"nAllNeonic\"]])"
   ]
  },
  {
   "cell_type": "code",
   "execution_count": 12,
   "metadata": {},
   "outputs": [],
   "source": [
    "# df_filter = df.groupby('year').agg(numcol = ('numcol', sum), prod = ('totalprod', sum) ,neoc = ('nAllNeonic', sum))\n",
    "\n",
    "# fig = make_subplots(\n",
    "#             rows=2, \n",
    "#             cols=2, \n",
    "#             specs=[[{}, {}],[{\"colspan\": 2}, None]],\n",
    "#             subplot_titles=(\"Number of colonies\",\"Producion\", \"Neocotinoids usage (kg)\")\n",
    "# )\n",
    "# fig.add_trace(\n",
    "#     go.Scatter(x=df_filter.index, y=df_filter['numcol']),\n",
    "#     row=1, col=1\n",
    "# )\n",
    "# fig.add_trace(\n",
    "#     go.Scatter(x=df_filter.index, y=df_filter['prod']),\n",
    "#     row=1, col=2\n",
    "# )\n",
    "# fig.add_trace(\n",
    "#     go.Scatter(x=df_filter.index, y=df_filter['neoc']),\n",
    "#     row=2, col=1\n",
    "# )\n",
    "# fig.update_layout(showlegend=False, title_text=\"Specs with Subplot Title\")\n",
    "# fig.show()"
   ]
  },
  {
   "cell_type": "code",
   "execution_count": 13,
   "metadata": {},
   "outputs": [
    {
     "data": {
      "text/plain": [
       "'{\"columns\": [\"numcol\", \"prod\", \"neoc\"], \"index\": [1991, 1992, 1993, 1994, 1995, 1996, 1997, 1998, 1999, 2000, 2001, 2002, 2003, 2004, 2005, 2006, 2007, 2008, 2009, 2010, 2011, 2012, 2013, 2014, 2015, 2016, 2017], \"data\": [[3169000.0, 218883000.0, 0.0], [3021000.0, 220349000.0, 0.0], [2868000.0, 230444000.0, 0.0], [2764000.0, 216968000.0, 11207.2], [2640000.0, 210278000.0, 82134.0], [2558000.0, 197908000.0, 101002.5], [2617000.0, 195303000.0, 185898.7], [2621000.0, 219519000.0, 166324.4], [2637000.0, 202387000.0, 140227.8], [2604000.0, 219558000.0, 133949.2], [2542000.0, 185748000.0, 143690.4], [2565000.0, 171265000.0, 168746.2], [2591000.0, 181372000.0, 203264.0], [2539000.0, 182729000.0, 604129.3], [2394000.0, 173969000.0, 725936.4], [2378000.0, 154238000.0, 784637.7], [2428000.0, 147621000.0, 1039977.8], [2326000.0, 162972000.0, 1225943.7], [2472000.0, 145068000.0, 1467880.1], [2666000.0, 175294000.0, 1708859.8], [2466000.0, 147201000.0, 2247466.3], [2509000.0, 140907000.0, 2732574.3], [2607000.0, 148204000.0, 3084539.6], [2709000.0, 176866000.0, 3478478.9], [2630000.0, 155376000.0, 801069.0], [2740000.0, 160357000.0, 438780.4], [2635000.0, 146165000.0, 0.0]]}'"
      ]
     },
     "execution_count": 13,
     "metadata": {},
     "output_type": "execute_result"
    }
   ],
   "source": [
    "df_filter = df.groupby('year').agg(numcol = ('numcol', sum), prod = ('totalprod', sum) ,neoc = ('nAllNeonic', sum))\n",
    "result = df_filter.to_json(orient=\"split\")\n",
    "parsed = json.loads(result)\n",
    "json.dumps(parsed) "
   ]
  },
  {
   "cell_type": "code",
   "execution_count": 14,
   "metadata": {},
   "outputs": [],
   "source": [
    "# import json\n",
    "# df = pd.DataFrame(\n",
    "#     [[\"a\", \"b\"], [\"c\", \"d\"]],\n",
    "#     index=[\"row 1\", \"row 2\"],\n",
    "#     columns=[\"col 1\", \"col 2\"],\n",
    "# )\n",
    "# result = df.to_json(orient=\"split\")\n",
    "# parsed = json.loads(result)\n",
    "# json.dumps(parsed) "
   ]
  },
  {
   "cell_type": "code",
   "execution_count": 15,
   "metadata": {},
   "outputs": [
    {
     "data": {
      "application/vnd.plotly.v1+json": {
       "config": {
        "plotlyServerURL": "https://plot.ly"
       },
       "data": [
        {
         "type": "scatter",
         "x": [
          1991,
          1992,
          1993,
          1994,
          1995,
          1996,
          1997,
          1998,
          1999,
          2000,
          2001,
          2002,
          2003,
          2004,
          2005,
          2006,
          2007,
          2008,
          2009,
          2010,
          2011,
          2012,
          2013,
          2014,
          2015,
          2016,
          2017
         ],
         "xaxis": "x",
         "y": [
          3169000,
          3021000,
          2868000,
          2764000,
          2640000,
          2558000,
          2617000,
          2621000,
          2637000,
          2604000,
          2542000,
          2565000,
          2591000,
          2539000,
          2394000,
          2378000,
          2428000,
          2326000,
          2472000,
          2666000,
          2466000,
          2509000,
          2607000,
          2709000,
          2630000,
          2740000,
          2635000
         ],
         "yaxis": "y"
        },
        {
         "type": "scatter",
         "x": [
          1991,
          1992,
          1993,
          1994,
          1995,
          1996,
          1997,
          1998,
          1999,
          2000,
          2001,
          2002,
          2003,
          2004,
          2005,
          2006,
          2007,
          2008,
          2009,
          2010,
          2011,
          2012,
          2013,
          2014,
          2015,
          2016,
          2017
         ],
         "xaxis": "x2",
         "y": [
          218883000,
          220349000,
          230444000,
          216968000,
          210278000,
          197908000,
          195303000,
          219519000,
          202387000,
          219558000,
          185748000,
          171265000,
          181372000,
          182729000,
          173969000,
          154238000,
          147621000,
          162972000,
          145068000,
          175294000,
          147201000,
          140907000,
          148204000,
          176866000,
          155376000,
          160357000,
          146165000
         ],
         "yaxis": "y2"
        },
        {
         "type": "scatter",
         "x": [
          1991,
          1992,
          1993,
          1994,
          1995,
          1996,
          1997,
          1998,
          1999,
          2000,
          2001,
          2002,
          2003,
          2004,
          2005,
          2006,
          2007,
          2008,
          2009,
          2010,
          2011,
          2012,
          2013,
          2014,
          2015,
          2016,
          2017
         ],
         "xaxis": "x3",
         "y": [
          0,
          0,
          0,
          11207.2,
          82134,
          101002.5,
          185898.7,
          166324.4,
          140227.8,
          133949.2,
          143690.4,
          168746.19999999998,
          203264,
          604129.3,
          725936.4,
          784637.7,
          1039977.8,
          1225943.7,
          1467880.1,
          1708859.8,
          2247466.3,
          2732574.3,
          3084539.6,
          3478478.9,
          801069,
          438780.4,
          0
         ],
         "yaxis": "y3"
        }
       ],
       "layout": {
        "annotations": [
         {
          "font": {
           "size": 16
          },
          "showarrow": false,
          "text": "Number of colonies",
          "x": 0.5,
          "xanchor": "center",
          "xref": "paper",
          "y": 1,
          "yanchor": "bottom",
          "yref": "paper"
         },
         {
          "font": {
           "size": 16
          },
          "showarrow": false,
          "text": "Production",
          "x": 0.5,
          "xanchor": "center",
          "xref": "paper",
          "y": 0.6111111111111112,
          "yanchor": "bottom",
          "yref": "paper"
         },
         {
          "font": {
           "size": 16
          },
          "showarrow": false,
          "text": "Neocotinoids usage (kg)",
          "x": 0.5,
          "xanchor": "center",
          "xref": "paper",
          "y": 0.22222222222222224,
          "yanchor": "bottom",
          "yref": "paper"
         }
        ],
        "autosize": false,
        "height": 600,
        "showlegend": false,
        "template": {
         "data": {
          "bar": [
           {
            "error_x": {
             "color": "#2a3f5f"
            },
            "error_y": {
             "color": "#2a3f5f"
            },
            "marker": {
             "line": {
              "color": "#E5ECF6",
              "width": 0.5
             },
             "pattern": {
              "fillmode": "overlay",
              "size": 10,
              "solidity": 0.2
             }
            },
            "type": "bar"
           }
          ],
          "barpolar": [
           {
            "marker": {
             "line": {
              "color": "#E5ECF6",
              "width": 0.5
             },
             "pattern": {
              "fillmode": "overlay",
              "size": 10,
              "solidity": 0.2
             }
            },
            "type": "barpolar"
           }
          ],
          "carpet": [
           {
            "aaxis": {
             "endlinecolor": "#2a3f5f",
             "gridcolor": "white",
             "linecolor": "white",
             "minorgridcolor": "white",
             "startlinecolor": "#2a3f5f"
            },
            "baxis": {
             "endlinecolor": "#2a3f5f",
             "gridcolor": "white",
             "linecolor": "white",
             "minorgridcolor": "white",
             "startlinecolor": "#2a3f5f"
            },
            "type": "carpet"
           }
          ],
          "choropleth": [
           {
            "colorbar": {
             "outlinewidth": 0,
             "ticks": ""
            },
            "type": "choropleth"
           }
          ],
          "contour": [
           {
            "colorbar": {
             "outlinewidth": 0,
             "ticks": ""
            },
            "colorscale": [
             [
              0,
              "#0d0887"
             ],
             [
              0.1111111111111111,
              "#46039f"
             ],
             [
              0.2222222222222222,
              "#7201a8"
             ],
             [
              0.3333333333333333,
              "#9c179e"
             ],
             [
              0.4444444444444444,
              "#bd3786"
             ],
             [
              0.5555555555555556,
              "#d8576b"
             ],
             [
              0.6666666666666666,
              "#ed7953"
             ],
             [
              0.7777777777777778,
              "#fb9f3a"
             ],
             [
              0.8888888888888888,
              "#fdca26"
             ],
             [
              1,
              "#f0f921"
             ]
            ],
            "type": "contour"
           }
          ],
          "contourcarpet": [
           {
            "colorbar": {
             "outlinewidth": 0,
             "ticks": ""
            },
            "type": "contourcarpet"
           }
          ],
          "heatmap": [
           {
            "colorbar": {
             "outlinewidth": 0,
             "ticks": ""
            },
            "colorscale": [
             [
              0,
              "#0d0887"
             ],
             [
              0.1111111111111111,
              "#46039f"
             ],
             [
              0.2222222222222222,
              "#7201a8"
             ],
             [
              0.3333333333333333,
              "#9c179e"
             ],
             [
              0.4444444444444444,
              "#bd3786"
             ],
             [
              0.5555555555555556,
              "#d8576b"
             ],
             [
              0.6666666666666666,
              "#ed7953"
             ],
             [
              0.7777777777777778,
              "#fb9f3a"
             ],
             [
              0.8888888888888888,
              "#fdca26"
             ],
             [
              1,
              "#f0f921"
             ]
            ],
            "type": "heatmap"
           }
          ],
          "heatmapgl": [
           {
            "colorbar": {
             "outlinewidth": 0,
             "ticks": ""
            },
            "colorscale": [
             [
              0,
              "#0d0887"
             ],
             [
              0.1111111111111111,
              "#46039f"
             ],
             [
              0.2222222222222222,
              "#7201a8"
             ],
             [
              0.3333333333333333,
              "#9c179e"
             ],
             [
              0.4444444444444444,
              "#bd3786"
             ],
             [
              0.5555555555555556,
              "#d8576b"
             ],
             [
              0.6666666666666666,
              "#ed7953"
             ],
             [
              0.7777777777777778,
              "#fb9f3a"
             ],
             [
              0.8888888888888888,
              "#fdca26"
             ],
             [
              1,
              "#f0f921"
             ]
            ],
            "type": "heatmapgl"
           }
          ],
          "histogram": [
           {
            "marker": {
             "pattern": {
              "fillmode": "overlay",
              "size": 10,
              "solidity": 0.2
             }
            },
            "type": "histogram"
           }
          ],
          "histogram2d": [
           {
            "colorbar": {
             "outlinewidth": 0,
             "ticks": ""
            },
            "colorscale": [
             [
              0,
              "#0d0887"
             ],
             [
              0.1111111111111111,
              "#46039f"
             ],
             [
              0.2222222222222222,
              "#7201a8"
             ],
             [
              0.3333333333333333,
              "#9c179e"
             ],
             [
              0.4444444444444444,
              "#bd3786"
             ],
             [
              0.5555555555555556,
              "#d8576b"
             ],
             [
              0.6666666666666666,
              "#ed7953"
             ],
             [
              0.7777777777777778,
              "#fb9f3a"
             ],
             [
              0.8888888888888888,
              "#fdca26"
             ],
             [
              1,
              "#f0f921"
             ]
            ],
            "type": "histogram2d"
           }
          ],
          "histogram2dcontour": [
           {
            "colorbar": {
             "outlinewidth": 0,
             "ticks": ""
            },
            "colorscale": [
             [
              0,
              "#0d0887"
             ],
             [
              0.1111111111111111,
              "#46039f"
             ],
             [
              0.2222222222222222,
              "#7201a8"
             ],
             [
              0.3333333333333333,
              "#9c179e"
             ],
             [
              0.4444444444444444,
              "#bd3786"
             ],
             [
              0.5555555555555556,
              "#d8576b"
             ],
             [
              0.6666666666666666,
              "#ed7953"
             ],
             [
              0.7777777777777778,
              "#fb9f3a"
             ],
             [
              0.8888888888888888,
              "#fdca26"
             ],
             [
              1,
              "#f0f921"
             ]
            ],
            "type": "histogram2dcontour"
           }
          ],
          "mesh3d": [
           {
            "colorbar": {
             "outlinewidth": 0,
             "ticks": ""
            },
            "type": "mesh3d"
           }
          ],
          "parcoords": [
           {
            "line": {
             "colorbar": {
              "outlinewidth": 0,
              "ticks": ""
             }
            },
            "type": "parcoords"
           }
          ],
          "pie": [
           {
            "automargin": true,
            "type": "pie"
           }
          ],
          "scatter": [
           {
            "marker": {
             "colorbar": {
              "outlinewidth": 0,
              "ticks": ""
             }
            },
            "type": "scatter"
           }
          ],
          "scatter3d": [
           {
            "line": {
             "colorbar": {
              "outlinewidth": 0,
              "ticks": ""
             }
            },
            "marker": {
             "colorbar": {
              "outlinewidth": 0,
              "ticks": ""
             }
            },
            "type": "scatter3d"
           }
          ],
          "scattercarpet": [
           {
            "marker": {
             "colorbar": {
              "outlinewidth": 0,
              "ticks": ""
             }
            },
            "type": "scattercarpet"
           }
          ],
          "scattergeo": [
           {
            "marker": {
             "colorbar": {
              "outlinewidth": 0,
              "ticks": ""
             }
            },
            "type": "scattergeo"
           }
          ],
          "scattergl": [
           {
            "marker": {
             "colorbar": {
              "outlinewidth": 0,
              "ticks": ""
             }
            },
            "type": "scattergl"
           }
          ],
          "scattermapbox": [
           {
            "marker": {
             "colorbar": {
              "outlinewidth": 0,
              "ticks": ""
             }
            },
            "type": "scattermapbox"
           }
          ],
          "scatterpolar": [
           {
            "marker": {
             "colorbar": {
              "outlinewidth": 0,
              "ticks": ""
             }
            },
            "type": "scatterpolar"
           }
          ],
          "scatterpolargl": [
           {
            "marker": {
             "colorbar": {
              "outlinewidth": 0,
              "ticks": ""
             }
            },
            "type": "scatterpolargl"
           }
          ],
          "scatterternary": [
           {
            "marker": {
             "colorbar": {
              "outlinewidth": 0,
              "ticks": ""
             }
            },
            "type": "scatterternary"
           }
          ],
          "surface": [
           {
            "colorbar": {
             "outlinewidth": 0,
             "ticks": ""
            },
            "colorscale": [
             [
              0,
              "#0d0887"
             ],
             [
              0.1111111111111111,
              "#46039f"
             ],
             [
              0.2222222222222222,
              "#7201a8"
             ],
             [
              0.3333333333333333,
              "#9c179e"
             ],
             [
              0.4444444444444444,
              "#bd3786"
             ],
             [
              0.5555555555555556,
              "#d8576b"
             ],
             [
              0.6666666666666666,
              "#ed7953"
             ],
             [
              0.7777777777777778,
              "#fb9f3a"
             ],
             [
              0.8888888888888888,
              "#fdca26"
             ],
             [
              1,
              "#f0f921"
             ]
            ],
            "type": "surface"
           }
          ],
          "table": [
           {
            "cells": {
             "fill": {
              "color": "#EBF0F8"
             },
             "line": {
              "color": "white"
             }
            },
            "header": {
             "fill": {
              "color": "#C8D4E3"
             },
             "line": {
              "color": "white"
             }
            },
            "type": "table"
           }
          ]
         },
         "layout": {
          "annotationdefaults": {
           "arrowcolor": "#2a3f5f",
           "arrowhead": 0,
           "arrowwidth": 1
          },
          "autotypenumbers": "strict",
          "coloraxis": {
           "colorbar": {
            "outlinewidth": 0,
            "ticks": ""
           }
          },
          "colorscale": {
           "diverging": [
            [
             0,
             "#8e0152"
            ],
            [
             0.1,
             "#c51b7d"
            ],
            [
             0.2,
             "#de77ae"
            ],
            [
             0.3,
             "#f1b6da"
            ],
            [
             0.4,
             "#fde0ef"
            ],
            [
             0.5,
             "#f7f7f7"
            ],
            [
             0.6,
             "#e6f5d0"
            ],
            [
             0.7,
             "#b8e186"
            ],
            [
             0.8,
             "#7fbc41"
            ],
            [
             0.9,
             "#4d9221"
            ],
            [
             1,
             "#276419"
            ]
           ],
           "sequential": [
            [
             0,
             "#0d0887"
            ],
            [
             0.1111111111111111,
             "#46039f"
            ],
            [
             0.2222222222222222,
             "#7201a8"
            ],
            [
             0.3333333333333333,
             "#9c179e"
            ],
            [
             0.4444444444444444,
             "#bd3786"
            ],
            [
             0.5555555555555556,
             "#d8576b"
            ],
            [
             0.6666666666666666,
             "#ed7953"
            ],
            [
             0.7777777777777778,
             "#fb9f3a"
            ],
            [
             0.8888888888888888,
             "#fdca26"
            ],
            [
             1,
             "#f0f921"
            ]
           ],
           "sequentialminus": [
            [
             0,
             "#0d0887"
            ],
            [
             0.1111111111111111,
             "#46039f"
            ],
            [
             0.2222222222222222,
             "#7201a8"
            ],
            [
             0.3333333333333333,
             "#9c179e"
            ],
            [
             0.4444444444444444,
             "#bd3786"
            ],
            [
             0.5555555555555556,
             "#d8576b"
            ],
            [
             0.6666666666666666,
             "#ed7953"
            ],
            [
             0.7777777777777778,
             "#fb9f3a"
            ],
            [
             0.8888888888888888,
             "#fdca26"
            ],
            [
             1,
             "#f0f921"
            ]
           ]
          },
          "colorway": [
           "#636efa",
           "#EF553B",
           "#00cc96",
           "#ab63fa",
           "#FFA15A",
           "#19d3f3",
           "#FF6692",
           "#B6E880",
           "#FF97FF",
           "#FECB52"
          ],
          "font": {
           "color": "#2a3f5f"
          },
          "geo": {
           "bgcolor": "white",
           "lakecolor": "white",
           "landcolor": "#E5ECF6",
           "showlakes": true,
           "showland": true,
           "subunitcolor": "white"
          },
          "hoverlabel": {
           "align": "left"
          },
          "hovermode": "closest",
          "mapbox": {
           "style": "light"
          },
          "paper_bgcolor": "white",
          "plot_bgcolor": "#E5ECF6",
          "polar": {
           "angularaxis": {
            "gridcolor": "white",
            "linecolor": "white",
            "ticks": ""
           },
           "bgcolor": "#E5ECF6",
           "radialaxis": {
            "gridcolor": "white",
            "linecolor": "white",
            "ticks": ""
           }
          },
          "scene": {
           "xaxis": {
            "backgroundcolor": "#E5ECF6",
            "gridcolor": "white",
            "gridwidth": 2,
            "linecolor": "white",
            "showbackground": true,
            "ticks": "",
            "zerolinecolor": "white"
           },
           "yaxis": {
            "backgroundcolor": "#E5ECF6",
            "gridcolor": "white",
            "gridwidth": 2,
            "linecolor": "white",
            "showbackground": true,
            "ticks": "",
            "zerolinecolor": "white"
           },
           "zaxis": {
            "backgroundcolor": "#E5ECF6",
            "gridcolor": "white",
            "gridwidth": 2,
            "linecolor": "white",
            "showbackground": true,
            "ticks": "",
            "zerolinecolor": "white"
           }
          },
          "shapedefaults": {
           "line": {
            "color": "#2a3f5f"
           }
          },
          "ternary": {
           "aaxis": {
            "gridcolor": "white",
            "linecolor": "white",
            "ticks": ""
           },
           "baxis": {
            "gridcolor": "white",
            "linecolor": "white",
            "ticks": ""
           },
           "bgcolor": "#E5ECF6",
           "caxis": {
            "gridcolor": "white",
            "linecolor": "white",
            "ticks": ""
           }
          },
          "title": {
           "x": 0.05
          },
          "xaxis": {
           "automargin": true,
           "gridcolor": "white",
           "linecolor": "white",
           "ticks": "",
           "title": {
            "standoff": 15
           },
           "zerolinecolor": "white",
           "zerolinewidth": 2
          },
          "yaxis": {
           "automargin": true,
           "gridcolor": "white",
           "linecolor": "white",
           "ticks": "",
           "title": {
            "standoff": 15
           },
           "zerolinecolor": "white",
           "zerolinewidth": 2
          }
         }
        },
        "title": {
         "text": "Specs with Subplot Title"
        },
        "width": 600,
        "xaxis": {
         "anchor": "y",
         "domain": [
          0,
          1
         ]
        },
        "xaxis2": {
         "anchor": "y2",
         "domain": [
          0,
          1
         ]
        },
        "xaxis3": {
         "anchor": "y3",
         "domain": [
          0,
          1
         ]
        },
        "yaxis": {
         "anchor": "x",
         "domain": [
          0.7777777777777778,
          1
         ]
        },
        "yaxis2": {
         "anchor": "x2",
         "domain": [
          0.3888888888888889,
          0.6111111111111112
         ]
        },
        "yaxis3": {
         "anchor": "x3",
         "domain": [
          0,
          0.22222222222222224
         ]
        }
       }
      }
     },
     "metadata": {},
     "output_type": "display_data"
    }
   ],
   "source": [
    "df_filter = df.groupby('year').agg(numcol = ('numcol', sum), prod = ('totalprod', sum) ,neoc = ('nAllNeonic', sum))\n",
    "\n",
    "fig = make_subplots(\n",
    "            rows=3, cols=1, \n",
    "            specs=[[{}], [{}], [{}]],\n",
    "            subplot_titles=(\"Number of colonies\",\"Production\", \"Neocotinoids usage (kg)\")\n",
    ")\n",
    "fig.add_trace(\n",
    "    go.Scatter(x=df_filter.index, y=df_filter['numcol']),\n",
    "    row=1, col=1\n",
    ")\n",
    "fig.add_trace(\n",
    "    go.Scatter(x=df_filter.index, y=df_filter['prod']),\n",
    "    row=2, col=1\n",
    ")\n",
    "fig.add_trace(\n",
    "    go.Scatter(x=df_filter.index, y=df_filter['neoc']),\n",
    "    row=3, col=1\n",
    ")\n",
    "fig.update_layout(\n",
    "    showlegend=False, \n",
    "    title_text=\"Specs with Subplot Title\",     \n",
    "    autosize=False,\n",
    "    width=600,\n",
    "    height=600,)\n",
    "fig.show()\n"
   ]
  },
  {
   "cell_type": "markdown",
   "metadata": {},
   "source": [
    "The trred is clear, from 1991 to 2014, the usage of neonics has increased dramatically. It's not the case for the number of colonies. In 1991 there was 3.17 million of colonies for the entire nation, but in 2014 there was 2.7 million of colonies. Production is not different. From 1991 the production was 220.3 million. In 2014 it reached 176.8 million. Certainly, seems to be a relashionship between the usage of neonics and the decrease in production and the number of colonies overall.\n",
    "\n",
    "However, a second look shows that there is no clear relashionship, since in 1994 the usage of neonics started, but the number of colonies and production already were declining. At least this dataset doesn't show a good correlation. \n",
    "Let's better take a look the states separately and the regions to dive deeper.   "
   ]
  },
  {
   "cell_type": "code",
   "execution_count": 16,
   "metadata": {},
   "outputs": [
    {
     "data": {
      "application/vnd.plotly.v1+json": {
       "config": {
        "plotlyServerURL": "https://plot.ly"
       },
       "data": [
        {
         "domain": {
          "x": [
           0,
           0.2888888888888889
          ],
          "y": [
           0,
           1
          ]
         },
         "hole": 0.4,
         "hoverinfo": "label+percent+name",
         "labels": [
          "Alabama",
          "Alabama",
          "Alabama",
          "Alabama",
          "Alabama",
          "Alabama",
          "Alabama",
          "Alabama",
          "Alabama",
          "Alabama",
          "Alabama",
          "Alabama",
          "Alabama",
          "Alabama",
          "Alabama",
          "Alabama",
          "Alabama",
          "Alabama",
          "Alabama",
          "Alabama",
          "Alabama",
          "Alabama",
          "Alabama",
          "Alabama",
          "Alabama",
          "Alabama",
          "Alabama",
          "Arizona",
          "Arizona",
          "Arizona",
          "Arizona",
          "Arizona",
          "Arizona",
          "Arizona",
          "Arizona",
          "Arizona",
          "Arizona",
          "Arizona",
          "Arizona",
          "Arizona",
          "Arizona",
          "Arizona",
          "Arizona",
          "Arizona",
          "Arizona",
          "Arizona",
          "Arizona",
          "Arizona",
          "Arizona",
          "Arizona",
          "Arizona",
          "Arizona",
          "Arizona",
          "Arizona",
          "Arkansas",
          "Arkansas",
          "Arkansas",
          "Arkansas",
          "Arkansas",
          "Arkansas",
          "Arkansas",
          "Arkansas",
          "Arkansas",
          "Arkansas",
          "Arkansas",
          "Arkansas",
          "Arkansas",
          "Arkansas",
          "Arkansas",
          "Arkansas",
          "Arkansas",
          "Arkansas",
          "Arkansas",
          "Arkansas",
          "Arkansas",
          "Arkansas",
          "Arkansas",
          "Arkansas",
          "Arkansas",
          "Arkansas",
          "Arkansas",
          "California",
          "California",
          "California",
          "California",
          "California",
          "California",
          "California",
          "California",
          "California",
          "California",
          "California",
          "California",
          "California",
          "California",
          "California",
          "California",
          "California",
          "California",
          "California",
          "California",
          "California",
          "California",
          "California",
          "California",
          "California",
          "California",
          "California",
          "Colorado",
          "Colorado",
          "Colorado",
          "Colorado",
          "Colorado",
          "Colorado",
          "Colorado",
          "Colorado",
          "Colorado",
          "Colorado",
          "Colorado",
          "Colorado",
          "Colorado",
          "Colorado",
          "Colorado",
          "Colorado",
          "Colorado",
          "Colorado",
          "Colorado",
          "Colorado",
          "Colorado",
          "Colorado",
          "Colorado",
          "Colorado",
          "Colorado",
          "Colorado",
          "Colorado",
          "Florida",
          "Florida",
          "Florida",
          "Florida",
          "Florida",
          "Florida",
          "Florida",
          "Florida",
          "Florida",
          "Florida",
          "Florida",
          "Florida",
          "Florida",
          "Florida",
          "Florida",
          "Florida",
          "Florida",
          "Florida",
          "Florida",
          "Florida",
          "Florida",
          "Florida",
          "Florida",
          "Florida",
          "Florida",
          "Florida",
          "Florida",
          "Georgia",
          "Georgia",
          "Georgia",
          "Georgia",
          "Georgia",
          "Georgia",
          "Georgia",
          "Georgia",
          "Georgia",
          "Georgia",
          "Georgia",
          "Georgia",
          "Georgia",
          "Georgia",
          "Georgia",
          "Georgia",
          "Georgia",
          "Georgia",
          "Georgia",
          "Georgia",
          "Georgia",
          "Georgia",
          "Georgia",
          "Georgia",
          "Georgia",
          "Georgia",
          "Georgia",
          "Hawaii",
          "Hawaii",
          "Hawaii",
          "Hawaii",
          "Hawaii",
          "Hawaii",
          "Hawaii",
          "Hawaii",
          "Hawaii",
          "Hawaii",
          "Hawaii",
          "Hawaii",
          "Hawaii",
          "Hawaii",
          "Hawaii",
          "Hawaii",
          "Hawaii",
          "Hawaii",
          "Hawaii",
          "Hawaii",
          "Hawaii",
          "Hawaii",
          "Hawaii",
          "Hawaii",
          "Hawaii",
          "Hawaii",
          "Hawaii",
          "Idaho",
          "Idaho",
          "Idaho",
          "Idaho",
          "Idaho",
          "Idaho",
          "Idaho",
          "Idaho",
          "Idaho",
          "Idaho",
          "Idaho",
          "Idaho",
          "Idaho",
          "Idaho",
          "Idaho",
          "Idaho",
          "Idaho",
          "Idaho",
          "Idaho",
          "Idaho",
          "Idaho",
          "Idaho",
          "Idaho",
          "Idaho",
          "Idaho",
          "Idaho",
          "Idaho",
          "Illinois",
          "Illinois",
          "Illinois",
          "Illinois",
          "Illinois",
          "Illinois",
          "Illinois",
          "Illinois",
          "Illinois",
          "Illinois",
          "Illinois",
          "Illinois",
          "Illinois",
          "Illinois",
          "Illinois",
          "Illinois",
          "Illinois",
          "Illinois",
          "Illinois",
          "Illinois",
          "Illinois",
          "Illinois",
          "Illinois",
          "Illinois",
          "Illinois",
          "Illinois",
          "Illinois",
          "Indiana",
          "Indiana",
          "Indiana",
          "Indiana",
          "Indiana",
          "Indiana",
          "Indiana",
          "Indiana",
          "Indiana",
          "Indiana",
          "Indiana",
          "Indiana",
          "Indiana",
          "Indiana",
          "Indiana",
          "Indiana",
          "Indiana",
          "Indiana",
          "Indiana",
          "Indiana",
          "Indiana",
          "Indiana",
          "Indiana",
          "Indiana",
          "Indiana",
          "Indiana",
          "Indiana",
          "Iowa",
          "Iowa",
          "Iowa",
          "Iowa",
          "Iowa",
          "Iowa",
          "Iowa",
          "Iowa",
          "Iowa",
          "Iowa",
          "Iowa",
          "Iowa",
          "Iowa",
          "Iowa",
          "Iowa",
          "Iowa",
          "Iowa",
          "Iowa",
          "Iowa",
          "Iowa",
          "Iowa",
          "Iowa",
          "Iowa",
          "Iowa",
          "Iowa",
          "Iowa",
          "Iowa",
          "Kansas",
          "Kansas",
          "Kansas",
          "Kansas",
          "Kansas",
          "Kansas",
          "Kansas",
          "Kansas",
          "Kansas",
          "Kansas",
          "Kansas",
          "Kansas",
          "Kansas",
          "Kansas",
          "Kansas",
          "Kansas",
          "Kansas",
          "Kansas",
          "Kansas",
          "Kansas",
          "Kansas",
          "Kansas",
          "Kansas",
          "Kansas",
          "Kansas",
          "Kansas",
          "Kansas",
          "Kentucky",
          "Kentucky",
          "Kentucky",
          "Kentucky",
          "Kentucky",
          "Kentucky",
          "Kentucky",
          "Kentucky",
          "Kentucky",
          "Kentucky",
          "Kentucky",
          "Kentucky",
          "Kentucky",
          "Kentucky",
          "Kentucky",
          "Kentucky",
          "Kentucky",
          "Kentucky",
          "Kentucky",
          "Kentucky",
          "Kentucky",
          "Kentucky",
          "Kentucky",
          "Kentucky",
          "Kentucky",
          "Kentucky",
          "Kentucky",
          "Louisiana",
          "Louisiana",
          "Louisiana",
          "Louisiana",
          "Louisiana",
          "Louisiana",
          "Louisiana",
          "Louisiana",
          "Louisiana",
          "Louisiana",
          "Louisiana",
          "Louisiana",
          "Louisiana",
          "Louisiana",
          "Louisiana",
          "Louisiana",
          "Louisiana",
          "Louisiana",
          "Louisiana",
          "Louisiana",
          "Louisiana",
          "Louisiana",
          "Louisiana",
          "Louisiana",
          "Louisiana",
          "Louisiana",
          "Louisiana",
          "Maine",
          "Maine",
          "Maine",
          "Maine",
          "Maine",
          "Maine",
          "Maine",
          "Maine",
          "Maine",
          "Maine",
          "Maine",
          "Maine",
          "Maine",
          "Maine",
          "Maine",
          "Maine",
          "Maine",
          "Maine",
          "Maine",
          "Maine",
          "Maine",
          "Maine",
          "Maine",
          "Maine",
          "Maine",
          "Maine",
          "Maine",
          "Maryland",
          "Maryland",
          "Maryland",
          "Maryland",
          "Maryland",
          "Maryland",
          "Maryland",
          "Maryland",
          "Maryland",
          "Maryland",
          "Maryland",
          "Maryland",
          "Maryland",
          "Michigan",
          "Michigan",
          "Michigan",
          "Michigan",
          "Michigan",
          "Michigan",
          "Michigan",
          "Michigan",
          "Michigan",
          "Michigan",
          "Michigan",
          "Michigan",
          "Michigan",
          "Michigan",
          "Michigan",
          "Michigan",
          "Michigan",
          "Michigan",
          "Michigan",
          "Michigan",
          "Michigan",
          "Michigan",
          "Michigan",
          "Michigan",
          "Michigan",
          "Michigan",
          "Michigan",
          "Minnesota",
          "Minnesota",
          "Minnesota",
          "Minnesota",
          "Minnesota",
          "Minnesota",
          "Minnesota",
          "Minnesota",
          "Minnesota",
          "Minnesota",
          "Minnesota",
          "Minnesota",
          "Minnesota",
          "Minnesota",
          "Minnesota",
          "Minnesota",
          "Minnesota",
          "Minnesota",
          "Minnesota",
          "Minnesota",
          "Minnesota",
          "Minnesota",
          "Minnesota",
          "Minnesota",
          "Minnesota",
          "Minnesota",
          "Minnesota",
          "Mississippi",
          "Mississippi",
          "Mississippi",
          "Mississippi",
          "Mississippi",
          "Mississippi",
          "Mississippi",
          "Mississippi",
          "Mississippi",
          "Mississippi",
          "Mississippi",
          "Mississippi",
          "Mississippi",
          "Mississippi",
          "Mississippi",
          "Mississippi",
          "Mississippi",
          "Mississippi",
          "Mississippi",
          "Mississippi",
          "Mississippi",
          "Mississippi",
          "Mississippi",
          "Mississippi",
          "Mississippi",
          "Mississippi",
          "Mississippi",
          "Missouri",
          "Missouri",
          "Missouri",
          "Missouri",
          "Missouri",
          "Missouri",
          "Missouri",
          "Missouri",
          "Missouri",
          "Missouri",
          "Missouri",
          "Missouri",
          "Missouri",
          "Missouri",
          "Missouri",
          "Missouri",
          "Missouri",
          "Missouri",
          "Missouri",
          "Missouri",
          "Missouri",
          "Missouri",
          "Missouri",
          "Missouri",
          "Missouri",
          "Missouri",
          "Missouri",
          "Montana",
          "Montana",
          "Montana",
          "Montana",
          "Montana",
          "Montana",
          "Montana",
          "Montana",
          "Montana",
          "Montana",
          "Montana",
          "Montana",
          "Montana",
          "Montana",
          "Montana",
          "Montana",
          "Montana",
          "Montana",
          "Montana",
          "Montana",
          "Montana",
          "Montana",
          "Montana",
          "Montana",
          "Montana",
          "Montana",
          "Montana",
          "Nebraska",
          "Nebraska",
          "Nebraska",
          "Nebraska",
          "Nebraska",
          "Nebraska",
          "Nebraska",
          "Nebraska",
          "Nebraska",
          "Nebraska",
          "Nebraska",
          "Nebraska",
          "Nebraska",
          "Nebraska",
          "Nebraska",
          "Nebraska",
          "Nebraska",
          "Nebraska",
          "Nebraska",
          "Nebraska",
          "Nebraska",
          "Nebraska",
          "Nebraska",
          "Nebraska",
          "Nebraska",
          "Nebraska",
          "Nebraska",
          "Nevada",
          "Nevada",
          "Nevada",
          "Nevada",
          "Nevada",
          "Nevada",
          "Nevada",
          "Nevada",
          "Nevada",
          "Nevada",
          "Nevada",
          "Nevada",
          "Nevada",
          "Nevada",
          "Nevada",
          "Nevada",
          "Nevada",
          "Nevada",
          "New Jersey",
          "New Jersey",
          "New Jersey",
          "New Jersey",
          "New Jersey",
          "New Jersey",
          "New Jersey",
          "New Jersey",
          "New Jersey",
          "New Jersey",
          "New Jersey",
          "New Jersey",
          "New Jersey",
          "New Jersey",
          "New Jersey",
          "New Jersey",
          "New Jersey",
          "New Jersey",
          "New Jersey",
          "New Jersey",
          "New Jersey",
          "New Jersey",
          "New Jersey",
          "New Jersey",
          "New Jersey",
          "New Jersey",
          "New Jersey",
          "New Mexico",
          "New Mexico",
          "New Mexico",
          "New Mexico",
          "New Mexico",
          "New Mexico",
          "New Mexico",
          "New Mexico",
          "New Mexico",
          "New Mexico",
          "New Mexico",
          "New Mexico",
          "New Mexico",
          "New Mexico",
          "New Mexico",
          "New Mexico",
          "New Mexico",
          "New Mexico",
          "New Mexico",
          "New Mexico",
          "New Mexico",
          "New Mexico",
          "New York",
          "New York",
          "New York",
          "New York",
          "New York",
          "New York",
          "New York",
          "New York",
          "New York",
          "New York",
          "New York",
          "New York",
          "New York",
          "New York",
          "New York",
          "New York",
          "New York",
          "New York",
          "New York",
          "New York",
          "New York",
          "New York",
          "New York",
          "New York",
          "New York",
          "New York",
          "New York",
          "North Carolina",
          "North Carolina",
          "North Carolina",
          "North Carolina",
          "North Carolina",
          "North Carolina",
          "North Carolina",
          "North Carolina",
          "North Carolina",
          "North Carolina",
          "North Carolina",
          "North Carolina",
          "North Carolina",
          "North Carolina",
          "North Carolina",
          "North Carolina",
          "North Carolina",
          "North Carolina",
          "North Carolina",
          "North Carolina",
          "North Carolina",
          "North Carolina",
          "North Carolina",
          "North Carolina",
          "North Carolina",
          "North Carolina",
          "North Carolina",
          "North Dakota",
          "North Dakota",
          "North Dakota",
          "North Dakota",
          "North Dakota",
          "North Dakota",
          "North Dakota",
          "North Dakota",
          "North Dakota",
          "North Dakota",
          "North Dakota",
          "North Dakota",
          "North Dakota",
          "North Dakota",
          "North Dakota",
          "North Dakota",
          "North Dakota",
          "North Dakota",
          "North Dakota",
          "North Dakota",
          "North Dakota",
          "North Dakota",
          "North Dakota",
          "North Dakota",
          "North Dakota",
          "North Dakota",
          "North Dakota",
          "Ohio",
          "Ohio",
          "Ohio",
          "Ohio",
          "Ohio",
          "Ohio",
          "Ohio",
          "Ohio",
          "Ohio",
          "Ohio",
          "Ohio",
          "Ohio",
          "Ohio",
          "Ohio",
          "Ohio",
          "Ohio",
          "Ohio",
          "Ohio",
          "Ohio",
          "Ohio",
          "Ohio",
          "Ohio",
          "Ohio",
          "Ohio",
          "Ohio",
          "Ohio",
          "Ohio",
          "Oklahoma",
          "Oklahoma",
          "Oklahoma",
          "Oklahoma",
          "Oklahoma",
          "Oklahoma",
          "Oklahoma",
          "Oklahoma",
          "Oklahoma",
          "Oklahoma",
          "Oklahoma",
          "Oklahoma",
          "Oklahoma",
          "Oregon",
          "Oregon",
          "Oregon",
          "Oregon",
          "Oregon",
          "Oregon",
          "Oregon",
          "Oregon",
          "Oregon",
          "Oregon",
          "Oregon",
          "Oregon",
          "Oregon",
          "Oregon",
          "Oregon",
          "Oregon",
          "Oregon",
          "Oregon",
          "Oregon",
          "Oregon",
          "Oregon",
          "Oregon",
          "Oregon",
          "Oregon",
          "Oregon",
          "Oregon",
          "Oregon",
          "Pennsylvania",
          "Pennsylvania",
          "Pennsylvania",
          "Pennsylvania",
          "Pennsylvania",
          "Pennsylvania",
          "Pennsylvania",
          "Pennsylvania",
          "Pennsylvania",
          "Pennsylvania",
          "Pennsylvania",
          "Pennsylvania",
          "Pennsylvania",
          "Pennsylvania",
          "Pennsylvania",
          "Pennsylvania",
          "Pennsylvania",
          "Pennsylvania",
          "Pennsylvania",
          "Pennsylvania",
          "Pennsylvania",
          "Pennsylvania",
          "Pennsylvania",
          "Pennsylvania",
          "Pennsylvania",
          "Pennsylvania",
          "Pennsylvania",
          "South Carolina",
          "South Carolina",
          "South Carolina",
          "South Carolina",
          "South Carolina",
          "South Carolina",
          "South Carolina",
          "South Carolina",
          "South Carolina",
          "South Carolina",
          "South Carolina",
          "South Carolina",
          "South Carolina",
          "South Dakota",
          "South Dakota",
          "South Dakota",
          "South Dakota",
          "South Dakota",
          "South Dakota",
          "South Dakota",
          "South Dakota",
          "South Dakota",
          "South Dakota",
          "South Dakota",
          "South Dakota",
          "South Dakota",
          "South Dakota",
          "South Dakota",
          "South Dakota",
          "South Dakota",
          "South Dakota",
          "South Dakota",
          "South Dakota",
          "South Dakota",
          "South Dakota",
          "South Dakota",
          "South Dakota",
          "South Dakota",
          "South Dakota",
          "South Dakota",
          "Tennessee",
          "Tennessee",
          "Tennessee",
          "Tennessee",
          "Tennessee",
          "Tennessee",
          "Tennessee",
          "Tennessee",
          "Tennessee",
          "Tennessee",
          "Tennessee",
          "Tennessee",
          "Tennessee",
          "Tennessee",
          "Tennessee",
          "Tennessee",
          "Tennessee",
          "Tennessee",
          "Tennessee",
          "Tennessee",
          "Tennessee",
          "Tennessee",
          "Tennessee",
          "Tennessee",
          "Tennessee",
          "Tennessee",
          "Tennessee",
          "Texas",
          "Texas",
          "Texas",
          "Texas",
          "Texas",
          "Texas",
          "Texas",
          "Texas",
          "Texas",
          "Texas",
          "Texas",
          "Texas",
          "Texas",
          "Texas",
          "Texas",
          "Texas",
          "Texas",
          "Texas",
          "Texas",
          "Texas",
          "Texas",
          "Texas",
          "Texas",
          "Texas",
          "Texas",
          "Texas",
          "Texas",
          "Utah",
          "Utah",
          "Utah",
          "Utah",
          "Utah",
          "Utah",
          "Utah",
          "Utah",
          "Utah",
          "Utah",
          "Utah",
          "Utah",
          "Utah",
          "Utah",
          "Utah",
          "Utah",
          "Utah",
          "Utah",
          "Utah",
          "Utah",
          "Utah",
          "Utah",
          "Utah",
          "Utah",
          "Utah",
          "Utah",
          "Utah",
          "Vermont",
          "Vermont",
          "Vermont",
          "Vermont",
          "Vermont",
          "Vermont",
          "Vermont",
          "Vermont",
          "Vermont",
          "Vermont",
          "Vermont",
          "Vermont",
          "Vermont",
          "Vermont",
          "Vermont",
          "Vermont",
          "Vermont",
          "Vermont",
          "Vermont",
          "Vermont",
          "Vermont",
          "Vermont",
          "Vermont",
          "Vermont",
          "Vermont",
          "Vermont",
          "Vermont",
          "Virginia",
          "Virginia",
          "Virginia",
          "Virginia",
          "Virginia",
          "Virginia",
          "Virginia",
          "Virginia",
          "Virginia",
          "Virginia",
          "Virginia",
          "Virginia",
          "Virginia",
          "Virginia",
          "Virginia",
          "Virginia",
          "Virginia",
          "Virginia",
          "Virginia",
          "Virginia",
          "Virginia",
          "Virginia",
          "Virginia",
          "Virginia",
          "Virginia",
          "Virginia",
          "Virginia",
          "Washington",
          "Washington",
          "Washington",
          "Washington",
          "Washington",
          "Washington",
          "Washington",
          "Washington",
          "Washington",
          "Washington",
          "Washington",
          "Washington",
          "Washington",
          "Washington",
          "Washington",
          "Washington",
          "Washington",
          "Washington",
          "Washington",
          "Washington",
          "Washington",
          "Washington",
          "Washington",
          "Washington",
          "Washington",
          "Washington",
          "Washington",
          "West Virginia",
          "West Virginia",
          "West Virginia",
          "West Virginia",
          "West Virginia",
          "West Virginia",
          "West Virginia",
          "West Virginia",
          "West Virginia",
          "West Virginia",
          "West Virginia",
          "West Virginia",
          "West Virginia",
          "West Virginia",
          "West Virginia",
          "West Virginia",
          "West Virginia",
          "West Virginia",
          "West Virginia",
          "West Virginia",
          "West Virginia",
          "West Virginia",
          "West Virginia",
          "West Virginia",
          "West Virginia",
          "West Virginia",
          "West Virginia",
          "Wisconsin",
          "Wisconsin",
          "Wisconsin",
          "Wisconsin",
          "Wisconsin",
          "Wisconsin",
          "Wisconsin",
          "Wisconsin",
          "Wisconsin",
          "Wisconsin",
          "Wisconsin",
          "Wisconsin",
          "Wisconsin",
          "Wisconsin",
          "Wisconsin",
          "Wisconsin",
          "Wisconsin",
          "Wisconsin",
          "Wisconsin",
          "Wisconsin",
          "Wisconsin",
          "Wisconsin",
          "Wisconsin",
          "Wisconsin",
          "Wisconsin",
          "Wisconsin",
          "Wisconsin",
          "Wyoming",
          "Wyoming",
          "Wyoming",
          "Wyoming",
          "Wyoming",
          "Wyoming",
          "Wyoming",
          "Wyoming",
          "Wyoming",
          "Wyoming",
          "Wyoming",
          "Wyoming",
          "Wyoming",
          "Wyoming",
          "Wyoming",
          "Wyoming",
          "Wyoming",
          "Wyoming",
          "Wyoming",
          "Wyoming",
          "Wyoming",
          "Wyoming",
          "Wyoming",
          "Wyoming",
          "Wyoming",
          "Wyoming",
          "Wyoming"
         ],
         "name": "Colonies",
         "textfont": {
          "size": 14
         },
         "textposition": "inside",
         "type": "pie",
         "values": [
          23000,
          25000,
          19000,
          18000,
          16000,
          15000,
          14000,
          16000,
          17000,
          16000,
          14000,
          12000,
          13000,
          12000,
          13000,
          11000,
          11000,
          9000,
          9000,
          9000,
          9000,
          8000,
          7000,
          7000,
          7000,
          7000,
          7000,
          75000,
          70000,
          55000,
          47000,
          52000,
          32000,
          42000,
          55000,
          52000,
          40000,
          43000,
          38000,
          35000,
          32000,
          36000,
          30000,
          30000,
          25000,
          20000,
          24000,
          23000,
          22000,
          29000,
          26000,
          26000,
          27000,
          22000,
          47000,
          45000,
          50000,
          50000,
          50000,
          40000,
          50000,
          53000,
          52000,
          52000,
          50000,
          45000,
          40000,
          40000,
          36000,
          32000,
          28000,
          28000,
          24000,
          25000,
          22000,
          25000,
          22000,
          21000,
          24000,
          24000,
          29000,
          520000,
          470000,
          500000,
          400000,
          420000,
          390000,
          420000,
          450000,
          465000,
          440000,
          460000,
          470000,
          480000,
          390000,
          400000,
          380000,
          340000,
          360000,
          355000,
          410000,
          370000,
          330000,
          330000,
          320000,
          275000,
          310000,
          335000,
          50000,
          52000,
          53000,
          45000,
          45000,
          30000,
          35000,
          27000,
          27000,
          29000,
          26000,
          24000,
          24000,
          23000,
          28000,
          36000,
          31000,
          27000,
          28000,
          34000,
          31000,
          25000,
          26000,
          27000,
          29000,
          32000,
          33000,
          225000,
          220000,
          200000,
          230000,
          230000,
          240000,
          240000,
          230000,
          228000,
          232000,
          220000,
          220000,
          210000,
          205000,
          160000,
          170000,
          160000,
          150000,
          170000,
          200000,
          180000,
          193000,
          220000,
          245000,
          220000,
          215000,
          205000,
          102000,
          85000,
          80000,
          80000,
          70000,
          75000,
          75000,
          75000,
          65000,
          55000,
          55000,
          50000,
          52000,
          63000,
          59000,
          63000,
          60000,
          65000,
          65000,
          55000,
          65000,
          59000,
          67000,
          73000,
          69000,
          96000,
          99000,
          10000,
          9000,
          9000,
          11000,
          8000,
          8000,
          9000,
          8000,
          8000,
          7000,
          8000,
          7000,
          7000,
          8000,
          9000,
          10000,
          10000,
          10000,
          10000,
          10000,
          9000,
          10000,
          13000,
          15000,
          14000,
          16000,
          12000,
          140000,
          135000,
          133000,
          127000,
          125000,
          110000,
          120000,
          120000,
          120000,
          100000,
          100000,
          100000,
          100000,
          100000,
          95000,
          95000,
          92000,
          90000,
          103000,
          97000,
          87000,
          92000,
          83000,
          100000,
          89000,
          97000,
          95000,
          21000,
          16000,
          15000,
          13000,
          11000,
          11000,
          7000,
          9000,
          9000,
          8000,
          6000,
          9000,
          7000,
          7000,
          8000,
          10000,
          9000,
          8000,
          8000,
          9000,
          7000,
          7000,
          7000,
          8000,
          8000,
          10000,
          11000,
          21000,
          15000,
          12000,
          13000,
          12000,
          9000,
          8000,
          9000,
          10000,
          8000,
          7000,
          8000,
          5000,
          7000,
          8000,
          7000,
          8000,
          7000,
          9000,
          10000,
          8000,
          8000,
          6000,
          5000,
          6000,
          7000,
          7000,
          70000,
          65000,
          60000,
          55000,
          50000,
          58000,
          45000,
          50000,
          40000,
          30000,
          33000,
          33000,
          32000,
          35000,
          28000,
          26000,
          26000,
          24000,
          26000,
          27000,
          25000,
          37000,
          39000,
          35000,
          36000,
          37000,
          35000,
          35000,
          28000,
          23000,
          19000,
          17000,
          16000,
          17000,
          16000,
          13000,
          15000,
          13000,
          17000,
          16000,
          14000,
          16000,
          14000,
          14000,
          10000,
          9000,
          9000,
          7000,
          6000,
          6000,
          7000,
          8000,
          7000,
          7000,
          7000,
          4000,
          4000,
          3000,
          3000,
          3000,
          3000,
          3000,
          3000,
          4000,
          4000,
          5000,
          5000,
          5000,
          5000,
          5000,
          4000,
          4000,
          5000,
          5000,
          4000,
          5000,
          3000,
          5000,
          5000,
          5000,
          5000,
          40000,
          45000,
          47000,
          35000,
          33000,
          37000,
          44000,
          41000,
          48000,
          43000,
          45000,
          35000,
          34000,
          35000,
          35000,
          30000,
          29000,
          40000,
          37000,
          36000,
          36000,
          41000,
          50000,
          48000,
          44000,
          50000,
          43000,
          13000,
          15000,
          13000,
          8000,
          11000,
          9000,
          8000,
          10000,
          14000,
          11000,
          11000,
          11000,
          8000,
          7000,
          8000,
          11000,
          9000,
          7000,
          6000,
          5000,
          4000,
          4000,
          7000,
          8000,
          10000,
          12000,
          12000,
          7000,
          6000,
          7000,
          7000,
          7000,
          7000,
          6000,
          7000,
          6000,
          6000,
          4000,
          3000,
          2000,
          105000,
          95000,
          90000,
          90000,
          97000,
          90000,
          85000,
          80000,
          73000,
          72000,
          76000,
          72000,
          65000,
          65000,
          65000,
          72000,
          72000,
          71000,
          66000,
          71000,
          74000,
          73000,
          85000,
          91000,
          90000,
          89000,
          87000,
          180000,
          190000,
          180000,
          170000,
          165000,
          150000,
          145000,
          140000,
          145000,
          150000,
          135000,
          117000,
          120000,
          135000,
          120000,
          125000,
          130000,
          122000,
          122000,
          128000,
          120000,
          125000,
          130000,
          132000,
          122000,
          124000,
          126000,
          28000,
          25000,
          17000,
          19000,
          16000,
          17000,
          19000,
          18000,
          18000,
          17000,
          17000,
          18000,
          21000,
          18000,
          16000,
          14000,
          15000,
          14000,
          14000,
          16000,
          18000,
          18000,
          17000,
          20000,
          15000,
          19000,
          13000,
          28000,
          25000,
          24000,
          25000,
          23000,
          22000,
          24000,
          23000,
          24000,
          23000,
          22000,
          18000,
          17000,
          16000,
          15000,
          15000,
          14000,
          11000,
          11000,
          11000,
          8000,
          7000,
          10000,
          12000,
          10000,
          8000,
          8000,
          86000,
          87000,
          95000,
          119000,
          106000,
          117000,
          107000,
          115000,
          122000,
          124000,
          136000,
          134000,
          145000,
          140000,
          130000,
          132000,
          135000,
          134000,
          146000,
          157000,
          145000,
          145000,
          159000,
          162000,
          146000,
          159000,
          145000,
          108000,
          96000,
          83000,
          72000,
          60000,
          65000,
          61000,
          64000,
          58000,
          50000,
          43000,
          43000,
          45000,
          51000,
          40000,
          47000,
          45000,
          36000,
          48000,
          41000,
          41000,
          43000,
          46000,
          50000,
          57000,
          48000,
          42000,
          15000,
          15000,
          14000,
          14000,
          10000,
          14000,
          14000,
          10000,
          9000,
          10000,
          9000,
          9000,
          6000,
          14000,
          12000,
          9000,
          10000,
          10000,
          11000,
          8000,
          9000,
          9000,
          8000,
          5000,
          10000,
          11000,
          10000,
          11000,
          11000,
          11000,
          10000,
          12000,
          12000,
          9000,
          9000,
          9000,
          11000,
          13000,
          11000,
          14000,
          11000,
          12000,
          12000,
          12000,
          13000,
          20000,
          18000,
          18000,
          19000,
          19000,
          15000,
          15000,
          14000,
          15000,
          15000,
          10000,
          11000,
          6000,
          8000,
          7000,
          7000,
          6000,
          6000,
          7000,
          7000,
          7000,
          5000,
          77000,
          70000,
          65000,
          68000,
          70000,
          68000,
          72000,
          65000,
          69000,
          58000,
          53000,
          60000,
          67000,
          64000,
          59000,
          58000,
          53000,
          50000,
          45000,
          45000,
          49000,
          51000,
          55000,
          60000,
          58000,
          64000,
          57000,
          18000,
          15000,
          15000,
          15000,
          12000,
          12000,
          8000,
          8000,
          9000,
          11000,
          13000,
          16000,
          10000,
          9000,
          10000,
          10000,
          12000,
          12000,
          11000,
          13000,
          14000,
          13000,
          10000,
          12000,
          12000,
          12000,
          11000,
          215000,
          240000,
          220000,
          235000,
          220000,
          230000,
          245000,
          230000,
          255000,
          300000,
          280000,
          320000,
          340000,
          390000,
          370000,
          350000,
          420000,
          400000,
          450000,
          510000,
          460000,
          480000,
          480000,
          490000,
          490000,
          485000,
          455000,
          48000,
          43000,
          30000,
          27000,
          25000,
          24000,
          22000,
          18000,
          20000,
          18000,
          18000,
          18000,
          15000,
          16000,
          15000,
          14000,
          14000,
          14000,
          11000,
          18000,
          15000,
          18000,
          17000,
          15000,
          17000,
          15000,
          15000,
          9000,
          9000,
          6000,
          5000,
          4000,
          4000,
          4000,
          4000,
          6000,
          7000,
          4000,
          3000,
          3000,
          56000,
          52000,
          53000,
          50000,
          52000,
          55000,
          50000,
          50000,
          45000,
          48000,
          44000,
          43000,
          42000,
          42000,
          39000,
          46000,
          46000,
          50000,
          55000,
          59000,
          60000,
          60000,
          62000,
          71000,
          71000,
          74000,
          78000,
          40000,
          30000,
          28000,
          27000,
          25000,
          23000,
          22000,
          26000,
          28000,
          25000,
          26000,
          29000,
          27000,
          30000,
          28000,
          28000,
          25000,
          23000,
          21000,
          30000,
          24000,
          16000,
          13000,
          17000,
          17000,
          19000,
          16000,
          11000,
          11000,
          11000,
          10000,
          9000,
          9000,
          7000,
          5000,
          4000,
          9000,
          14000,
          16000,
          16000,
          225000,
          240000,
          245000,
          260000,
          240000,
          240000,
          240000,
          225000,
          224000,
          235000,
          235000,
          225000,
          215000,
          215000,
          220000,
          225000,
          255000,
          225000,
          270000,
          265000,
          250000,
          260000,
          265000,
          280000,
          290000,
          280000,
          255000,
          14000,
          7000,
          8000,
          6000,
          5000,
          5000,
          7000,
          7000,
          8000,
          9000,
          8000,
          8000,
          6000,
          6000,
          7000,
          7000,
          7000,
          7000,
          7000,
          8000,
          7000,
          6000,
          7000,
          7000,
          7000,
          6000,
          7000,
          140000,
          125000,
          105000,
          103000,
          84000,
          82000,
          94000,
          91000,
          108000,
          105000,
          97000,
          114000,
          140000,
          116000,
          84000,
          82000,
          105000,
          77000,
          89000,
          100000,
          78000,
          92000,
          106000,
          116000,
          126000,
          133000,
          120000,
          45000,
          47000,
          42000,
          43000,
          32000,
          34000,
          32000,
          30000,
          26000,
          24000,
          23000,
          22000,
          25000,
          24000,
          24000,
          26000,
          28000,
          28000,
          26000,
          26000,
          23000,
          25000,
          30000,
          29000,
          27000,
          31000,
          27000,
          6000,
          6000,
          6000,
          5000,
          5000,
          4000,
          5000,
          6000,
          6000,
          7000,
          7000,
          7000,
          7000,
          6000,
          6000,
          6000,
          5000,
          5000,
          5000,
          4000,
          4000,
          4000,
          3000,
          3000,
          5000,
          6000,
          7000,
          16000,
          13000,
          10000,
          11000,
          9000,
          7000,
          8000,
          8000,
          7000,
          7000,
          9000,
          8000,
          6000,
          7000,
          8000,
          8000,
          6000,
          6000,
          6000,
          5000,
          4000,
          4000,
          5000,
          6000,
          6000,
          5000,
          5000,
          85000,
          80000,
          60000,
          60000,
          60000,
          57000,
          60000,
          58000,
          52000,
          52000,
          48000,
          50000,
          58000,
          56000,
          51000,
          49000,
          46000,
          49000,
          62000,
          71000,
          71000,
          62000,
          69000,
          68000,
          73000,
          84000,
          77000,
          26000,
          23000,
          20000,
          20000,
          13000,
          10000,
          8000,
          6000,
          6000,
          7000,
          7000,
          9000,
          8000,
          9000,
          8000,
          6000,
          6000,
          6000,
          5000,
          5000,
          4000,
          6000,
          6000,
          6000,
          5000,
          5000,
          6000,
          110000,
          105000,
          100000,
          75000,
          73000,
          69000,
          79000,
          89000,
          80000,
          84000,
          67000,
          70000,
          74000,
          68000,
          64000,
          64000,
          60000,
          58000,
          63000,
          64000,
          57000,
          60000,
          59000,
          53000,
          52000,
          54000,
          53000,
          41000,
          41000,
          34000,
          46000,
          38000,
          40000,
          38000,
          46000,
          37000,
          39000,
          38000,
          38000,
          39000,
          39000,
          40000,
          39000,
          43000,
          39000,
          37000,
          34000,
          35000,
          50000,
          47000,
          38000,
          38000,
          40000,
          39000
         ]
        },
        {
         "domain": {
          "x": [
           0.35555555555555557,
           0.6444444444444445
          ],
          "y": [
           0,
           1
          ]
         },
         "hole": 0.4,
         "hoverinfo": "label+percent+name",
         "labels": [
          "Alabama",
          "Alabama",
          "Alabama",
          "Alabama",
          "Alabama",
          "Alabama",
          "Alabama",
          "Alabama",
          "Alabama",
          "Alabama",
          "Alabama",
          "Alabama",
          "Alabama",
          "Alabama",
          "Alabama",
          "Alabama",
          "Alabama",
          "Alabama",
          "Alabama",
          "Alabama",
          "Alabama",
          "Alabama",
          "Alabama",
          "Alabama",
          "Alabama",
          "Alabama",
          "Alabama",
          "Arizona",
          "Arizona",
          "Arizona",
          "Arizona",
          "Arizona",
          "Arizona",
          "Arizona",
          "Arizona",
          "Arizona",
          "Arizona",
          "Arizona",
          "Arizona",
          "Arizona",
          "Arizona",
          "Arizona",
          "Arizona",
          "Arizona",
          "Arizona",
          "Arizona",
          "Arizona",
          "Arizona",
          "Arizona",
          "Arizona",
          "Arizona",
          "Arizona",
          "Arizona",
          "Arizona",
          "Arkansas",
          "Arkansas",
          "Arkansas",
          "Arkansas",
          "Arkansas",
          "Arkansas",
          "Arkansas",
          "Arkansas",
          "Arkansas",
          "Arkansas",
          "Arkansas",
          "Arkansas",
          "Arkansas",
          "Arkansas",
          "Arkansas",
          "Arkansas",
          "Arkansas",
          "Arkansas",
          "Arkansas",
          "Arkansas",
          "Arkansas",
          "Arkansas",
          "Arkansas",
          "Arkansas",
          "Arkansas",
          "Arkansas",
          "Arkansas",
          "California",
          "California",
          "California",
          "California",
          "California",
          "California",
          "California",
          "California",
          "California",
          "California",
          "California",
          "California",
          "California",
          "California",
          "California",
          "California",
          "California",
          "California",
          "California",
          "California",
          "California",
          "California",
          "California",
          "California",
          "California",
          "California",
          "California",
          "Colorado",
          "Colorado",
          "Colorado",
          "Colorado",
          "Colorado",
          "Colorado",
          "Colorado",
          "Colorado",
          "Colorado",
          "Colorado",
          "Colorado",
          "Colorado",
          "Colorado",
          "Colorado",
          "Colorado",
          "Colorado",
          "Colorado",
          "Colorado",
          "Colorado",
          "Colorado",
          "Colorado",
          "Colorado",
          "Colorado",
          "Colorado",
          "Colorado",
          "Colorado",
          "Colorado",
          "Florida",
          "Florida",
          "Florida",
          "Florida",
          "Florida",
          "Florida",
          "Florida",
          "Florida",
          "Florida",
          "Florida",
          "Florida",
          "Florida",
          "Florida",
          "Florida",
          "Florida",
          "Florida",
          "Florida",
          "Florida",
          "Florida",
          "Florida",
          "Florida",
          "Florida",
          "Florida",
          "Florida",
          "Florida",
          "Florida",
          "Florida",
          "Georgia",
          "Georgia",
          "Georgia",
          "Georgia",
          "Georgia",
          "Georgia",
          "Georgia",
          "Georgia",
          "Georgia",
          "Georgia",
          "Georgia",
          "Georgia",
          "Georgia",
          "Georgia",
          "Georgia",
          "Georgia",
          "Georgia",
          "Georgia",
          "Georgia",
          "Georgia",
          "Georgia",
          "Georgia",
          "Georgia",
          "Georgia",
          "Georgia",
          "Georgia",
          "Georgia",
          "Hawaii",
          "Hawaii",
          "Hawaii",
          "Hawaii",
          "Hawaii",
          "Hawaii",
          "Hawaii",
          "Hawaii",
          "Hawaii",
          "Hawaii",
          "Hawaii",
          "Hawaii",
          "Hawaii",
          "Hawaii",
          "Hawaii",
          "Hawaii",
          "Hawaii",
          "Hawaii",
          "Hawaii",
          "Hawaii",
          "Hawaii",
          "Hawaii",
          "Hawaii",
          "Hawaii",
          "Hawaii",
          "Hawaii",
          "Hawaii",
          "Idaho",
          "Idaho",
          "Idaho",
          "Idaho",
          "Idaho",
          "Idaho",
          "Idaho",
          "Idaho",
          "Idaho",
          "Idaho",
          "Idaho",
          "Idaho",
          "Idaho",
          "Idaho",
          "Idaho",
          "Idaho",
          "Idaho",
          "Idaho",
          "Idaho",
          "Idaho",
          "Idaho",
          "Idaho",
          "Idaho",
          "Idaho",
          "Idaho",
          "Idaho",
          "Idaho",
          "Illinois",
          "Illinois",
          "Illinois",
          "Illinois",
          "Illinois",
          "Illinois",
          "Illinois",
          "Illinois",
          "Illinois",
          "Illinois",
          "Illinois",
          "Illinois",
          "Illinois",
          "Illinois",
          "Illinois",
          "Illinois",
          "Illinois",
          "Illinois",
          "Illinois",
          "Illinois",
          "Illinois",
          "Illinois",
          "Illinois",
          "Illinois",
          "Illinois",
          "Illinois",
          "Illinois",
          "Indiana",
          "Indiana",
          "Indiana",
          "Indiana",
          "Indiana",
          "Indiana",
          "Indiana",
          "Indiana",
          "Indiana",
          "Indiana",
          "Indiana",
          "Indiana",
          "Indiana",
          "Indiana",
          "Indiana",
          "Indiana",
          "Indiana",
          "Indiana",
          "Indiana",
          "Indiana",
          "Indiana",
          "Indiana",
          "Indiana",
          "Indiana",
          "Indiana",
          "Indiana",
          "Indiana",
          "Iowa",
          "Iowa",
          "Iowa",
          "Iowa",
          "Iowa",
          "Iowa",
          "Iowa",
          "Iowa",
          "Iowa",
          "Iowa",
          "Iowa",
          "Iowa",
          "Iowa",
          "Iowa",
          "Iowa",
          "Iowa",
          "Iowa",
          "Iowa",
          "Iowa",
          "Iowa",
          "Iowa",
          "Iowa",
          "Iowa",
          "Iowa",
          "Iowa",
          "Iowa",
          "Iowa",
          "Kansas",
          "Kansas",
          "Kansas",
          "Kansas",
          "Kansas",
          "Kansas",
          "Kansas",
          "Kansas",
          "Kansas",
          "Kansas",
          "Kansas",
          "Kansas",
          "Kansas",
          "Kansas",
          "Kansas",
          "Kansas",
          "Kansas",
          "Kansas",
          "Kansas",
          "Kansas",
          "Kansas",
          "Kansas",
          "Kansas",
          "Kansas",
          "Kansas",
          "Kansas",
          "Kansas",
          "Kentucky",
          "Kentucky",
          "Kentucky",
          "Kentucky",
          "Kentucky",
          "Kentucky",
          "Kentucky",
          "Kentucky",
          "Kentucky",
          "Kentucky",
          "Kentucky",
          "Kentucky",
          "Kentucky",
          "Kentucky",
          "Kentucky",
          "Kentucky",
          "Kentucky",
          "Kentucky",
          "Kentucky",
          "Kentucky",
          "Kentucky",
          "Kentucky",
          "Kentucky",
          "Kentucky",
          "Kentucky",
          "Kentucky",
          "Kentucky",
          "Louisiana",
          "Louisiana",
          "Louisiana",
          "Louisiana",
          "Louisiana",
          "Louisiana",
          "Louisiana",
          "Louisiana",
          "Louisiana",
          "Louisiana",
          "Louisiana",
          "Louisiana",
          "Louisiana",
          "Louisiana",
          "Louisiana",
          "Louisiana",
          "Louisiana",
          "Louisiana",
          "Louisiana",
          "Louisiana",
          "Louisiana",
          "Louisiana",
          "Louisiana",
          "Louisiana",
          "Louisiana",
          "Louisiana",
          "Louisiana",
          "Maine",
          "Maine",
          "Maine",
          "Maine",
          "Maine",
          "Maine",
          "Maine",
          "Maine",
          "Maine",
          "Maine",
          "Maine",
          "Maine",
          "Maine",
          "Maine",
          "Maine",
          "Maine",
          "Maine",
          "Maine",
          "Maine",
          "Maine",
          "Maine",
          "Maine",
          "Maine",
          "Maine",
          "Maine",
          "Maine",
          "Maine",
          "Maryland",
          "Maryland",
          "Maryland",
          "Maryland",
          "Maryland",
          "Maryland",
          "Maryland",
          "Maryland",
          "Maryland",
          "Maryland",
          "Maryland",
          "Maryland",
          "Maryland",
          "Michigan",
          "Michigan",
          "Michigan",
          "Michigan",
          "Michigan",
          "Michigan",
          "Michigan",
          "Michigan",
          "Michigan",
          "Michigan",
          "Michigan",
          "Michigan",
          "Michigan",
          "Michigan",
          "Michigan",
          "Michigan",
          "Michigan",
          "Michigan",
          "Michigan",
          "Michigan",
          "Michigan",
          "Michigan",
          "Michigan",
          "Michigan",
          "Michigan",
          "Michigan",
          "Michigan",
          "Minnesota",
          "Minnesota",
          "Minnesota",
          "Minnesota",
          "Minnesota",
          "Minnesota",
          "Minnesota",
          "Minnesota",
          "Minnesota",
          "Minnesota",
          "Minnesota",
          "Minnesota",
          "Minnesota",
          "Minnesota",
          "Minnesota",
          "Minnesota",
          "Minnesota",
          "Minnesota",
          "Minnesota",
          "Minnesota",
          "Minnesota",
          "Minnesota",
          "Minnesota",
          "Minnesota",
          "Minnesota",
          "Minnesota",
          "Minnesota",
          "Mississippi",
          "Mississippi",
          "Mississippi",
          "Mississippi",
          "Mississippi",
          "Mississippi",
          "Mississippi",
          "Mississippi",
          "Mississippi",
          "Mississippi",
          "Mississippi",
          "Mississippi",
          "Mississippi",
          "Mississippi",
          "Mississippi",
          "Mississippi",
          "Mississippi",
          "Mississippi",
          "Mississippi",
          "Mississippi",
          "Mississippi",
          "Mississippi",
          "Mississippi",
          "Mississippi",
          "Mississippi",
          "Mississippi",
          "Mississippi",
          "Missouri",
          "Missouri",
          "Missouri",
          "Missouri",
          "Missouri",
          "Missouri",
          "Missouri",
          "Missouri",
          "Missouri",
          "Missouri",
          "Missouri",
          "Missouri",
          "Missouri",
          "Missouri",
          "Missouri",
          "Missouri",
          "Missouri",
          "Missouri",
          "Missouri",
          "Missouri",
          "Missouri",
          "Missouri",
          "Missouri",
          "Missouri",
          "Missouri",
          "Missouri",
          "Missouri",
          "Montana",
          "Montana",
          "Montana",
          "Montana",
          "Montana",
          "Montana",
          "Montana",
          "Montana",
          "Montana",
          "Montana",
          "Montana",
          "Montana",
          "Montana",
          "Montana",
          "Montana",
          "Montana",
          "Montana",
          "Montana",
          "Montana",
          "Montana",
          "Montana",
          "Montana",
          "Montana",
          "Montana",
          "Montana",
          "Montana",
          "Montana",
          "Nebraska",
          "Nebraska",
          "Nebraska",
          "Nebraska",
          "Nebraska",
          "Nebraska",
          "Nebraska",
          "Nebraska",
          "Nebraska",
          "Nebraska",
          "Nebraska",
          "Nebraska",
          "Nebraska",
          "Nebraska",
          "Nebraska",
          "Nebraska",
          "Nebraska",
          "Nebraska",
          "Nebraska",
          "Nebraska",
          "Nebraska",
          "Nebraska",
          "Nebraska",
          "Nebraska",
          "Nebraska",
          "Nebraska",
          "Nebraska",
          "Nevada",
          "Nevada",
          "Nevada",
          "Nevada",
          "Nevada",
          "Nevada",
          "Nevada",
          "Nevada",
          "Nevada",
          "Nevada",
          "Nevada",
          "Nevada",
          "Nevada",
          "Nevada",
          "Nevada",
          "Nevada",
          "Nevada",
          "Nevada",
          "New Jersey",
          "New Jersey",
          "New Jersey",
          "New Jersey",
          "New Jersey",
          "New Jersey",
          "New Jersey",
          "New Jersey",
          "New Jersey",
          "New Jersey",
          "New Jersey",
          "New Jersey",
          "New Jersey",
          "New Jersey",
          "New Jersey",
          "New Jersey",
          "New Jersey",
          "New Jersey",
          "New Jersey",
          "New Jersey",
          "New Jersey",
          "New Jersey",
          "New Jersey",
          "New Jersey",
          "New Jersey",
          "New Jersey",
          "New Jersey",
          "New Mexico",
          "New Mexico",
          "New Mexico",
          "New Mexico",
          "New Mexico",
          "New Mexico",
          "New Mexico",
          "New Mexico",
          "New Mexico",
          "New Mexico",
          "New Mexico",
          "New Mexico",
          "New Mexico",
          "New Mexico",
          "New Mexico",
          "New Mexico",
          "New Mexico",
          "New Mexico",
          "New Mexico",
          "New Mexico",
          "New Mexico",
          "New Mexico",
          "New York",
          "New York",
          "New York",
          "New York",
          "New York",
          "New York",
          "New York",
          "New York",
          "New York",
          "New York",
          "New York",
          "New York",
          "New York",
          "New York",
          "New York",
          "New York",
          "New York",
          "New York",
          "New York",
          "New York",
          "New York",
          "New York",
          "New York",
          "New York",
          "New York",
          "New York",
          "New York",
          "North Carolina",
          "North Carolina",
          "North Carolina",
          "North Carolina",
          "North Carolina",
          "North Carolina",
          "North Carolina",
          "North Carolina",
          "North Carolina",
          "North Carolina",
          "North Carolina",
          "North Carolina",
          "North Carolina",
          "North Carolina",
          "North Carolina",
          "North Carolina",
          "North Carolina",
          "North Carolina",
          "North Carolina",
          "North Carolina",
          "North Carolina",
          "North Carolina",
          "North Carolina",
          "North Carolina",
          "North Carolina",
          "North Carolina",
          "North Carolina",
          "North Dakota",
          "North Dakota",
          "North Dakota",
          "North Dakota",
          "North Dakota",
          "North Dakota",
          "North Dakota",
          "North Dakota",
          "North Dakota",
          "North Dakota",
          "North Dakota",
          "North Dakota",
          "North Dakota",
          "North Dakota",
          "North Dakota",
          "North Dakota",
          "North Dakota",
          "North Dakota",
          "North Dakota",
          "North Dakota",
          "North Dakota",
          "North Dakota",
          "North Dakota",
          "North Dakota",
          "North Dakota",
          "North Dakota",
          "North Dakota",
          "Ohio",
          "Ohio",
          "Ohio",
          "Ohio",
          "Ohio",
          "Ohio",
          "Ohio",
          "Ohio",
          "Ohio",
          "Ohio",
          "Ohio",
          "Ohio",
          "Ohio",
          "Ohio",
          "Ohio",
          "Ohio",
          "Ohio",
          "Ohio",
          "Ohio",
          "Ohio",
          "Ohio",
          "Ohio",
          "Ohio",
          "Ohio",
          "Ohio",
          "Ohio",
          "Ohio",
          "Oklahoma",
          "Oklahoma",
          "Oklahoma",
          "Oklahoma",
          "Oklahoma",
          "Oklahoma",
          "Oklahoma",
          "Oklahoma",
          "Oklahoma",
          "Oklahoma",
          "Oklahoma",
          "Oklahoma",
          "Oklahoma",
          "Oregon",
          "Oregon",
          "Oregon",
          "Oregon",
          "Oregon",
          "Oregon",
          "Oregon",
          "Oregon",
          "Oregon",
          "Oregon",
          "Oregon",
          "Oregon",
          "Oregon",
          "Oregon",
          "Oregon",
          "Oregon",
          "Oregon",
          "Oregon",
          "Oregon",
          "Oregon",
          "Oregon",
          "Oregon",
          "Oregon",
          "Oregon",
          "Oregon",
          "Oregon",
          "Oregon",
          "Pennsylvania",
          "Pennsylvania",
          "Pennsylvania",
          "Pennsylvania",
          "Pennsylvania",
          "Pennsylvania",
          "Pennsylvania",
          "Pennsylvania",
          "Pennsylvania",
          "Pennsylvania",
          "Pennsylvania",
          "Pennsylvania",
          "Pennsylvania",
          "Pennsylvania",
          "Pennsylvania",
          "Pennsylvania",
          "Pennsylvania",
          "Pennsylvania",
          "Pennsylvania",
          "Pennsylvania",
          "Pennsylvania",
          "Pennsylvania",
          "Pennsylvania",
          "Pennsylvania",
          "Pennsylvania",
          "Pennsylvania",
          "Pennsylvania",
          "South Carolina",
          "South Carolina",
          "South Carolina",
          "South Carolina",
          "South Carolina",
          "South Carolina",
          "South Carolina",
          "South Carolina",
          "South Carolina",
          "South Carolina",
          "South Carolina",
          "South Carolina",
          "South Carolina",
          "South Dakota",
          "South Dakota",
          "South Dakota",
          "South Dakota",
          "South Dakota",
          "South Dakota",
          "South Dakota",
          "South Dakota",
          "South Dakota",
          "South Dakota",
          "South Dakota",
          "South Dakota",
          "South Dakota",
          "South Dakota",
          "South Dakota",
          "South Dakota",
          "South Dakota",
          "South Dakota",
          "South Dakota",
          "South Dakota",
          "South Dakota",
          "South Dakota",
          "South Dakota",
          "South Dakota",
          "South Dakota",
          "South Dakota",
          "South Dakota",
          "Tennessee",
          "Tennessee",
          "Tennessee",
          "Tennessee",
          "Tennessee",
          "Tennessee",
          "Tennessee",
          "Tennessee",
          "Tennessee",
          "Tennessee",
          "Tennessee",
          "Tennessee",
          "Tennessee",
          "Tennessee",
          "Tennessee",
          "Tennessee",
          "Tennessee",
          "Tennessee",
          "Tennessee",
          "Tennessee",
          "Tennessee",
          "Tennessee",
          "Tennessee",
          "Tennessee",
          "Tennessee",
          "Tennessee",
          "Tennessee",
          "Texas",
          "Texas",
          "Texas",
          "Texas",
          "Texas",
          "Texas",
          "Texas",
          "Texas",
          "Texas",
          "Texas",
          "Texas",
          "Texas",
          "Texas",
          "Texas",
          "Texas",
          "Texas",
          "Texas",
          "Texas",
          "Texas",
          "Texas",
          "Texas",
          "Texas",
          "Texas",
          "Texas",
          "Texas",
          "Texas",
          "Texas",
          "Utah",
          "Utah",
          "Utah",
          "Utah",
          "Utah",
          "Utah",
          "Utah",
          "Utah",
          "Utah",
          "Utah",
          "Utah",
          "Utah",
          "Utah",
          "Utah",
          "Utah",
          "Utah",
          "Utah",
          "Utah",
          "Utah",
          "Utah",
          "Utah",
          "Utah",
          "Utah",
          "Utah",
          "Utah",
          "Utah",
          "Utah",
          "Vermont",
          "Vermont",
          "Vermont",
          "Vermont",
          "Vermont",
          "Vermont",
          "Vermont",
          "Vermont",
          "Vermont",
          "Vermont",
          "Vermont",
          "Vermont",
          "Vermont",
          "Vermont",
          "Vermont",
          "Vermont",
          "Vermont",
          "Vermont",
          "Vermont",
          "Vermont",
          "Vermont",
          "Vermont",
          "Vermont",
          "Vermont",
          "Vermont",
          "Vermont",
          "Vermont",
          "Virginia",
          "Virginia",
          "Virginia",
          "Virginia",
          "Virginia",
          "Virginia",
          "Virginia",
          "Virginia",
          "Virginia",
          "Virginia",
          "Virginia",
          "Virginia",
          "Virginia",
          "Virginia",
          "Virginia",
          "Virginia",
          "Virginia",
          "Virginia",
          "Virginia",
          "Virginia",
          "Virginia",
          "Virginia",
          "Virginia",
          "Virginia",
          "Virginia",
          "Virginia",
          "Virginia",
          "Washington",
          "Washington",
          "Washington",
          "Washington",
          "Washington",
          "Washington",
          "Washington",
          "Washington",
          "Washington",
          "Washington",
          "Washington",
          "Washington",
          "Washington",
          "Washington",
          "Washington",
          "Washington",
          "Washington",
          "Washington",
          "Washington",
          "Washington",
          "Washington",
          "Washington",
          "Washington",
          "Washington",
          "Washington",
          "Washington",
          "Washington",
          "West Virginia",
          "West Virginia",
          "West Virginia",
          "West Virginia",
          "West Virginia",
          "West Virginia",
          "West Virginia",
          "West Virginia",
          "West Virginia",
          "West Virginia",
          "West Virginia",
          "West Virginia",
          "West Virginia",
          "West Virginia",
          "West Virginia",
          "West Virginia",
          "West Virginia",
          "West Virginia",
          "West Virginia",
          "West Virginia",
          "West Virginia",
          "West Virginia",
          "West Virginia",
          "West Virginia",
          "West Virginia",
          "West Virginia",
          "West Virginia",
          "Wisconsin",
          "Wisconsin",
          "Wisconsin",
          "Wisconsin",
          "Wisconsin",
          "Wisconsin",
          "Wisconsin",
          "Wisconsin",
          "Wisconsin",
          "Wisconsin",
          "Wisconsin",
          "Wisconsin",
          "Wisconsin",
          "Wisconsin",
          "Wisconsin",
          "Wisconsin",
          "Wisconsin",
          "Wisconsin",
          "Wisconsin",
          "Wisconsin",
          "Wisconsin",
          "Wisconsin",
          "Wisconsin",
          "Wisconsin",
          "Wisconsin",
          "Wisconsin",
          "Wisconsin",
          "Wyoming",
          "Wyoming",
          "Wyoming",
          "Wyoming",
          "Wyoming",
          "Wyoming",
          "Wyoming",
          "Wyoming",
          "Wyoming",
          "Wyoming",
          "Wyoming",
          "Wyoming",
          "Wyoming",
          "Wyoming",
          "Wyoming",
          "Wyoming",
          "Wyoming",
          "Wyoming",
          "Wyoming",
          "Wyoming",
          "Wyoming",
          "Wyoming",
          "Wyoming",
          "Wyoming",
          "Wyoming",
          "Wyoming",
          "Wyoming"
         ],
         "name": "Production",
         "textfont": {
          "size": 14
         },
         "textposition": "inside",
         "type": "pie",
         "values": [
          552000,
          1025000,
          855000,
          900000,
          928000,
          960000,
          924000,
          1136000,
          1156000,
          1248000,
          1022000,
          1032000,
          1066000,
          1044000,
          858000,
          792000,
          616000,
          594000,
          450000,
          486000,
          450000,
          432000,
          364000,
          371000,
          329000,
          364000,
          315000,
          3750000,
          3780000,
          4235000,
          2773000,
          4108000,
          1920000,
          3360000,
          3300000,
          3224000,
          2360000,
          2537000,
          2394000,
          2520000,
          1760000,
          1800000,
          1950000,
          1920000,
          1600000,
          1040000,
          1848000,
          1219000,
          1012000,
          1044000,
          1014000,
          1274000,
          1242000,
          880000,
          3713000,
          2925000,
          3650000,
          3550000,
          3000000,
          3360000,
          4750000,
          3445000,
          4628000,
          4836000,
          4900000,
          3960000,
          3000000,
          2280000,
          2484000,
          2432000,
          2240000,
          2100000,
          1368000,
          1500000,
          1408000,
          1575000,
          1320000,
          1365000,
          1728000,
          1656000,
          2233000,
          32760000,
          31490000,
          45000000,
          24000000,
          39060000,
          27300000,
          31500000,
          37350000,
          27900000,
          30800000,
          28060000,
          23500000,
          32160000,
          17550000,
          30000000,
          19760000,
          13600000,
          18360000,
          11715000,
          27470000,
          17760000,
          11550000,
          10890000,
          12480000,
          8250000,
          11160000,
          13735000,
          3950000,
          3848000,
          3869000,
          3420000,
          2700000,
          2220000,
          1925000,
          1944000,
          2052000,
          1740000,
          1430000,
          1440000,
          2064000,
          1840000,
          1960000,
          2700000,
          1581000,
          1215000,
          1484000,
          1904000,
          1705000,
          1200000,
          1118000,
          999000,
          1479000,
          1280000,
          1419000,
          18675000,
          22880000,
          22600000,
          19320000,
          19780000,
          25200000,
          16080000,
          22540000,
          23256000,
          24360000,
          22000000,
          20460000,
          14910000,
          20090000,
          13760000,
          13770000,
          11360000,
          11850000,
          11560000,
          13800000,
          10980000,
          12352000,
          13420000,
          14700000,
          11880000,
          10750000,
          8815000,
          4284000,
          4675000,
          4480000,
          5040000,
          4340000,
          5100000,
          3450000,
          4200000,
          3315000,
          3135000,
          3135000,
          2600000,
          3380000,
          3087000,
          2891000,
          4662000,
          3480000,
          4615000,
          2665000,
          2530000,
          2795000,
          3009000,
          3350000,
          4526000,
          2760000,
          3744000,
          3168000,
          1310000,
          1242000,
          1593000,
          1100000,
          1032000,
          1240000,
          1314000,
          944000,
          640000,
          784000,
          696000,
          952000,
          798000,
          768000,
          1179000,
          930000,
          920000,
          900000,
          950000,
          770000,
          666000,
          750000,
          1079000,
          1395000,
          1428000,
          1808000,
          1572000,
          6440000,
          6885000,
          9443000,
          7493000,
          6000000,
          4950000,
          7680000,
          6000000,
          5760000,
          4700000,
          4600000,
          5700000,
          4600000,
          6300000,
          3515000,
          4180000,
          3772000,
          3600000,
          4738000,
          2619000,
          3132000,
          2944000,
          2656000,
          3400000,
          2848000,
          3298000,
          4180000,
          1092000,
          848000,
          720000,
          1040000,
          814000,
          814000,
          483000,
          639000,
          594000,
          488000,
          456000,
          720000,
          420000,
          385000,
          680000,
          660000,
          567000,
          448000,
          272000,
          369000,
          350000,
          427000,
          336000,
          392000,
          408000,
          480000,
          506000,
          1050000,
          465000,
          792000,
          702000,
          756000,
          675000,
          568000,
          828000,
          810000,
          520000,
          532000,
          496000,
          280000,
          413000,
          512000,
          378000,
          424000,
          469000,
          288000,
          430000,
          408000,
          472000,
          282000,
          310000,
          318000,
          434000,
          336000,
          4130000,
          4030000,
          2940000,
          3630000,
          3400000,
          3886000,
          3330000,
          3900000,
          2600000,
          2010000,
          1683000,
          2310000,
          1888000,
          2345000,
          2464000,
          2184000,
          2106000,
          1488000,
          1092000,
          1323000,
          1550000,
          2257000,
          1872000,
          1505000,
          1800000,
          1776000,
          2030000,
          1820000,
          1624000,
          1311000,
          893000,
          1139000,
          816000,
          1207000,
          736000,
          871000,
          1020000,
          663000,
          884000,
          912000,
          1120000,
          800000,
          770000,
          560000,
          610000,
          567000,
          468000,
          308000,
          330000,
          276000,
          525000,
          288000,
          336000,
          553000,
          175000,
          120000,
          240000,
          162000,
          132000,
          180000,
          180000,
          150000,
          150000,
          192000,
          312000,
          270000,
          240000,
          280000,
          250000,
          280000,
          244000,
          156000,
          175000,
          335000,
          156000,
          255000,
          123000,
          235000,
          230000,
          230000,
          190000,
          2800000,
          4815000,
          4042000,
          3430000,
          3927000,
          3922000,
          5060000,
          4551000,
          5472000,
          4042000,
          4770000,
          4340000,
          3060000,
          3430000,
          3395000,
          2700000,
          2581000,
          3080000,
          3811000,
          2880000,
          2772000,
          3526000,
          4900000,
          4032000,
          4356000,
          4300000,
          3483000,
          546000,
          330000,
          650000,
          440000,
          495000,
          207000,
          152000,
          260000,
          308000,
          231000,
          220000,
          451000,
          264000,
          217000,
          208000,
          253000,
          234000,
          294000,
          300000,
          205000,
          120000,
          136000,
          301000,
          376000,
          470000,
          408000,
          396000,
          175000,
          138000,
          189000,
          252000,
          245000,
          224000,
          240000,
          308000,
          276000,
          276000,
          184000,
          138000,
          84000,
          7665000,
          6460000,
          6930000,
          7740000,
          8924000,
          8640000,
          5950000,
          6800000,
          6205000,
          5400000,
          4560000,
          5544000,
          4810000,
          4355000,
          4420000,
          3960000,
          4608000,
          5183000,
          3960000,
          4118000,
          4736000,
          4161000,
          4675000,
          5733000,
          5220000,
          5340000,
          3915000,
          16380000,
          17100000,
          14400000,
          13430000,
          13530000,
          11550000,
          10585000,
          11060000,
          11890000,
          13500000,
          10935000,
          8541000,
          9960000,
          10125000,
          8880000,
          10000000,
          8840000,
          9516000,
          7930000,
          8448000,
          6360000,
          8375000,
          7540000,
          7920000,
          8296000,
          7316000,
          7812000,
          1008000,
          1625000,
          1037000,
          1007000,
          1120000,
          1360000,
          1387000,
          1548000,
          1314000,
          1224000,
          1122000,
          1404000,
          1449000,
          1170000,
          1280000,
          1372000,
          1380000,
          1372000,
          1456000,
          1568000,
          2070000,
          2124000,
          1972000,
          2240000,
          1245000,
          1615000,
          1040000,
          1820000,
          1925000,
          1752000,
          1925000,
          1541000,
          1628000,
          1848000,
          1518000,
          1560000,
          1725000,
          1342000,
          900000,
          901000,
          656000,
          750000,
          690000,
          644000,
          583000,
          517000,
          572000,
          344000,
          371000,
          470000,
          564000,
          520000,
          496000,
          520000,
          7912000,
          9570000,
          9310000,
          12495000,
          8480000,
          7020000,
          12840000,
          14030000,
          8540000,
          10912000,
          13872000,
          8442000,
          9570000,
          10780000,
          8710000,
          10428000,
          9180000,
          9380000,
          10220000,
          11618000,
          13340000,
          7540000,
          14946000,
          14256000,
          12118000,
          12243000,
          10440000,
          7236000,
          7200000,
          5810000,
          3960000,
          4380000,
          4875000,
          4087000,
          4480000,
          4466000,
          4350000,
          2064000,
          3225000,
          3330000,
          4539000,
          2720000,
          3431000,
          2205000,
          2412000,
          2688000,
          2255000,
          2419000,
          2795000,
          2760000,
          3750000,
          2736000,
          2208000,
          2646000,
          810000,
          975000,
          728000,
          756000,
          290000,
          854000,
          854000,
          460000,
          405000,
          350000,
          450000,
          558000,
          384000,
          770000,
          552000,
          333000,
          280000,
          290000,
          341000,
          176000,
          252000,
          297000,
          272000,
          225000,
          490000,
          539000,
          440000,
          385000,
          374000,
          440000,
          190000,
          324000,
          384000,
          324000,
          513000,
          360000,
          352000,
          455000,
          451000,
          462000,
          484000,
          360000,
          324000,
          324000,
          364000,
          1540000,
          1224000,
          1152000,
          1216000,
          1235000,
          1155000,
          900000,
          770000,
          780000,
          960000,
          700000,
          484000,
          246000,
          352000,
          343000,
          336000,
          354000,
          288000,
          420000,
          462000,
          392000,
          260000,
          4774000,
          4620000,
          4030000,
          4624000,
          5250000,
          5440000,
          4320000,
          5200000,
          4830000,
          4640000,
          3710000,
          5880000,
          4824000,
          4288000,
          4307000,
          3712000,
          3021000,
          3500000,
          2925000,
          2880000,
          2744000,
          2601000,
          2640000,
          3300000,
          3596000,
          3648000,
          3192000,
          1044000,
          675000,
          795000,
          885000,
          624000,
          528000,
          464000,
          472000,
          414000,
          539000,
          572000,
          672000,
          440000,
          360000,
          540000,
          500000,
          540000,
          624000,
          495000,
          598000,
          868000,
          507000,
          380000,
          516000,
          540000,
          444000,
          451000,
          22145000,
          21840000,
          19800000,
          32430000,
          23760000,
          19780000,
          24500000,
          29440000,
          26775000,
          34500000,
          26880000,
          24000000,
          29580000,
          30420000,
          33670000,
          25900000,
          31080000,
          36000000,
          34650000,
          46410000,
          32660000,
          33120000,
          33120000,
          42140000,
          36260000,
          37830000,
          33670000,
          2928000,
          1419000,
          1980000,
          1728000,
          1550000,
          1680000,
          1760000,
          1404000,
          1480000,
          1170000,
          1458000,
          1260000,
          750000,
          928000,
          1035000,
          784000,
          854000,
          742000,
          550000,
          1116000,
          990000,
          1080000,
          765000,
          915000,
          850000,
          1185000,
          1095000,
          630000,
          468000,
          402000,
          290000,
          304000,
          236000,
          232000,
          204000,
          270000,
          245000,
          188000,
          159000,
          141000,
          2576000,
          2548000,
          3551000,
          3250000,
          2704000,
          3245000,
          2650000,
          2250000,
          2565000,
          2448000,
          1936000,
          2107000,
          2142000,
          2268000,
          1638000,
          2208000,
          1978000,
          2150000,
          1870000,
          2301000,
          2040000,
          1920000,
          2170000,
          2840000,
          2698000,
          2590000,
          3120000,
          1800000,
          1230000,
          1120000,
          1269000,
          1075000,
          1058000,
          1056000,
          1716000,
          1680000,
          1125000,
          1482000,
          1653000,
          1350000,
          1620000,
          1568000,
          1120000,
          1050000,
          1104000,
          840000,
          1110000,
          1056000,
          960000,
          585000,
          782000,
          901000,
          950000,
          736000,
          671000,
          759000,
          990000,
          1000000,
          810000,
          810000,
          280000,
          470000,
          280000,
          486000,
          938000,
          720000,
          544000,
          22725000,
          20400000,
          24010000,
          26000000,
          20400000,
          23280000,
          15600000,
          21375000,
          23296000,
          28435000,
          15275000,
          11475000,
          15050000,
          22575000,
          17380000,
          10575000,
          13260000,
          21375000,
          17820000,
          15370000,
          16500000,
          16380000,
          14840000,
          24360000,
          19140000,
          19880000,
          14535000,
          532000,
          301000,
          408000,
          306000,
          265000,
          320000,
          434000,
          448000,
          408000,
          549000,
          472000,
          488000,
          240000,
          324000,
          385000,
          385000,
          455000,
          427000,
          357000,
          504000,
          308000,
          366000,
          315000,
          441000,
          413000,
          330000,
          287000,
          10920000,
          10625000,
          8610000,
          7622000,
          8904000,
          6806000,
          9964000,
          7007000,
          8748000,
          8295000,
          7663000,
          7638000,
          9380000,
          8816000,
          5964000,
          5740000,
          8610000,
          4928000,
          5607000,
          7200000,
          4524000,
          4784000,
          6254000,
          9048000,
          8316000,
          9310000,
          7920000,
          1530000,
          2632000,
          2226000,
          2537000,
          1056000,
          1564000,
          1664000,
          1740000,
          1170000,
          984000,
          874000,
          1298000,
          1425000,
          1680000,
          1080000,
          1300000,
          1176000,
          1344000,
          988000,
          780000,
          897000,
          950000,
          1020000,
          812000,
          1134000,
          992000,
          837000,
          450000,
          378000,
          492000,
          385000,
          335000,
          332000,
          315000,
          384000,
          396000,
          413000,
          567000,
          623000,
          581000,
          408000,
          546000,
          336000,
          320000,
          330000,
          245000,
          260000,
          172000,
          240000,
          153000,
          174000,
          260000,
          312000,
          315000,
          528000,
          494000,
          540000,
          572000,
          405000,
          350000,
          424000,
          296000,
          245000,
          294000,
          468000,
          304000,
          222000,
          266000,
          296000,
          336000,
          276000,
          252000,
          234000,
          185000,
          160000,
          164000,
          175000,
          246000,
          228000,
          190000,
          175000,
          3570000,
          3520000,
          2700000,
          3720000,
          3540000,
          3306000,
          3120000,
          2958000,
          2600000,
          2808000,
          2496000,
          2550000,
          3248000,
          3528000,
          2805000,
          2548000,
          2024000,
          2156000,
          2728000,
          2627000,
          2698000,
          2542000,
          2691000,
          2992000,
          3212000,
          2940000,
          3465000,
          624000,
          1265000,
          740000,
          880000,
          533000,
          590000,
          560000,
          330000,
          234000,
          378000,
          455000,
          459000,
          376000,
          495000,
          408000,
          252000,
          288000,
          258000,
          185000,
          200000,
          212000,
          288000,
          276000,
          186000,
          175000,
          160000,
          240000,
          7370000,
          6930000,
          8200000,
          5325000,
          5767000,
          5382000,
          4740000,
          8099000,
          6000000,
          7560000,
          5427000,
          6650000,
          5698000,
          5848000,
          5312000,
          5952000,
          5040000,
          4640000,
          3780000,
          4096000,
          3591000,
          4140000,
          3540000,
          2862000,
          3484000,
          3348000,
          2968000,
          2132000,
          2870000,
          1870000,
          3174000,
          1368000,
          2920000,
          2356000,
          2760000,
          2664000,
          3627000,
          2926000,
          2394000,
          3159000,
          2925000,
          2240000,
          3315000,
          3440000,
          2379000,
          1776000,
          1224000,
          1890000,
          2550000,
          3102000,
          2318000,
          2926000,
          2720000,
          2067000
         ]
        },
        {
         "domain": {
          "x": [
           0.7111111111111111,
           1
          ],
          "y": [
           0,
           1
          ]
         },
         "hole": 0.4,
         "hoverinfo": "label+percent+name",
         "labels": [
          "Alabama",
          "Alabama",
          "Alabama",
          "Alabama",
          "Alabama",
          "Alabama",
          "Alabama",
          "Alabama",
          "Alabama",
          "Alabama",
          "Alabama",
          "Alabama",
          "Alabama",
          "Alabama",
          "Alabama",
          "Alabama",
          "Alabama",
          "Alabama",
          "Alabama",
          "Alabama",
          "Alabama",
          "Alabama",
          "Alabama",
          "Alabama",
          "Alabama",
          "Alabama",
          "Alabama",
          "Arizona",
          "Arizona",
          "Arizona",
          "Arizona",
          "Arizona",
          "Arizona",
          "Arizona",
          "Arizona",
          "Arizona",
          "Arizona",
          "Arizona",
          "Arizona",
          "Arizona",
          "Arizona",
          "Arizona",
          "Arizona",
          "Arizona",
          "Arizona",
          "Arizona",
          "Arizona",
          "Arizona",
          "Arizona",
          "Arizona",
          "Arizona",
          "Arizona",
          "Arizona",
          "Arizona",
          "Arkansas",
          "Arkansas",
          "Arkansas",
          "Arkansas",
          "Arkansas",
          "Arkansas",
          "Arkansas",
          "Arkansas",
          "Arkansas",
          "Arkansas",
          "Arkansas",
          "Arkansas",
          "Arkansas",
          "Arkansas",
          "Arkansas",
          "Arkansas",
          "Arkansas",
          "Arkansas",
          "Arkansas",
          "Arkansas",
          "Arkansas",
          "Arkansas",
          "Arkansas",
          "Arkansas",
          "Arkansas",
          "Arkansas",
          "Arkansas",
          "California",
          "California",
          "California",
          "California",
          "California",
          "California",
          "California",
          "California",
          "California",
          "California",
          "California",
          "California",
          "California",
          "California",
          "California",
          "California",
          "California",
          "California",
          "California",
          "California",
          "California",
          "California",
          "California",
          "California",
          "California",
          "California",
          "California",
          "Colorado",
          "Colorado",
          "Colorado",
          "Colorado",
          "Colorado",
          "Colorado",
          "Colorado",
          "Colorado",
          "Colorado",
          "Colorado",
          "Colorado",
          "Colorado",
          "Colorado",
          "Colorado",
          "Colorado",
          "Colorado",
          "Colorado",
          "Colorado",
          "Colorado",
          "Colorado",
          "Colorado",
          "Colorado",
          "Colorado",
          "Colorado",
          "Colorado",
          "Colorado",
          "Colorado",
          "Florida",
          "Florida",
          "Florida",
          "Florida",
          "Florida",
          "Florida",
          "Florida",
          "Florida",
          "Florida",
          "Florida",
          "Florida",
          "Florida",
          "Florida",
          "Florida",
          "Florida",
          "Florida",
          "Florida",
          "Florida",
          "Florida",
          "Florida",
          "Florida",
          "Florida",
          "Florida",
          "Florida",
          "Florida",
          "Florida",
          "Florida",
          "Georgia",
          "Georgia",
          "Georgia",
          "Georgia",
          "Georgia",
          "Georgia",
          "Georgia",
          "Georgia",
          "Georgia",
          "Georgia",
          "Georgia",
          "Georgia",
          "Georgia",
          "Georgia",
          "Georgia",
          "Georgia",
          "Georgia",
          "Georgia",
          "Georgia",
          "Georgia",
          "Georgia",
          "Georgia",
          "Georgia",
          "Georgia",
          "Georgia",
          "Georgia",
          "Georgia",
          "Hawaii",
          "Hawaii",
          "Hawaii",
          "Hawaii",
          "Hawaii",
          "Hawaii",
          "Hawaii",
          "Hawaii",
          "Hawaii",
          "Hawaii",
          "Hawaii",
          "Hawaii",
          "Hawaii",
          "Hawaii",
          "Hawaii",
          "Hawaii",
          "Hawaii",
          "Hawaii",
          "Hawaii",
          "Hawaii",
          "Hawaii",
          "Hawaii",
          "Hawaii",
          "Hawaii",
          "Hawaii",
          "Hawaii",
          "Hawaii",
          "Idaho",
          "Idaho",
          "Idaho",
          "Idaho",
          "Idaho",
          "Idaho",
          "Idaho",
          "Idaho",
          "Idaho",
          "Idaho",
          "Idaho",
          "Idaho",
          "Idaho",
          "Idaho",
          "Idaho",
          "Idaho",
          "Idaho",
          "Idaho",
          "Idaho",
          "Idaho",
          "Idaho",
          "Idaho",
          "Idaho",
          "Idaho",
          "Idaho",
          "Idaho",
          "Idaho",
          "Illinois",
          "Illinois",
          "Illinois",
          "Illinois",
          "Illinois",
          "Illinois",
          "Illinois",
          "Illinois",
          "Illinois",
          "Illinois",
          "Illinois",
          "Illinois",
          "Illinois",
          "Illinois",
          "Illinois",
          "Illinois",
          "Illinois",
          "Illinois",
          "Illinois",
          "Illinois",
          "Illinois",
          "Illinois",
          "Illinois",
          "Illinois",
          "Illinois",
          "Illinois",
          "Illinois",
          "Indiana",
          "Indiana",
          "Indiana",
          "Indiana",
          "Indiana",
          "Indiana",
          "Indiana",
          "Indiana",
          "Indiana",
          "Indiana",
          "Indiana",
          "Indiana",
          "Indiana",
          "Indiana",
          "Indiana",
          "Indiana",
          "Indiana",
          "Indiana",
          "Indiana",
          "Indiana",
          "Indiana",
          "Indiana",
          "Indiana",
          "Indiana",
          "Indiana",
          "Indiana",
          "Indiana",
          "Iowa",
          "Iowa",
          "Iowa",
          "Iowa",
          "Iowa",
          "Iowa",
          "Iowa",
          "Iowa",
          "Iowa",
          "Iowa",
          "Iowa",
          "Iowa",
          "Iowa",
          "Iowa",
          "Iowa",
          "Iowa",
          "Iowa",
          "Iowa",
          "Iowa",
          "Iowa",
          "Iowa",
          "Iowa",
          "Iowa",
          "Iowa",
          "Iowa",
          "Iowa",
          "Iowa",
          "Kansas",
          "Kansas",
          "Kansas",
          "Kansas",
          "Kansas",
          "Kansas",
          "Kansas",
          "Kansas",
          "Kansas",
          "Kansas",
          "Kansas",
          "Kansas",
          "Kansas",
          "Kansas",
          "Kansas",
          "Kansas",
          "Kansas",
          "Kansas",
          "Kansas",
          "Kansas",
          "Kansas",
          "Kansas",
          "Kansas",
          "Kansas",
          "Kansas",
          "Kansas",
          "Kansas",
          "Kentucky",
          "Kentucky",
          "Kentucky",
          "Kentucky",
          "Kentucky",
          "Kentucky",
          "Kentucky",
          "Kentucky",
          "Kentucky",
          "Kentucky",
          "Kentucky",
          "Kentucky",
          "Kentucky",
          "Kentucky",
          "Kentucky",
          "Kentucky",
          "Kentucky",
          "Kentucky",
          "Kentucky",
          "Kentucky",
          "Kentucky",
          "Kentucky",
          "Kentucky",
          "Kentucky",
          "Kentucky",
          "Kentucky",
          "Kentucky",
          "Louisiana",
          "Louisiana",
          "Louisiana",
          "Louisiana",
          "Louisiana",
          "Louisiana",
          "Louisiana",
          "Louisiana",
          "Louisiana",
          "Louisiana",
          "Louisiana",
          "Louisiana",
          "Louisiana",
          "Louisiana",
          "Louisiana",
          "Louisiana",
          "Louisiana",
          "Louisiana",
          "Louisiana",
          "Louisiana",
          "Louisiana",
          "Louisiana",
          "Louisiana",
          "Louisiana",
          "Louisiana",
          "Louisiana",
          "Louisiana",
          "Maine",
          "Maine",
          "Maine",
          "Maine",
          "Maine",
          "Maine",
          "Maine",
          "Maine",
          "Maine",
          "Maine",
          "Maine",
          "Maine",
          "Maine",
          "Maine",
          "Maine",
          "Maine",
          "Maine",
          "Maine",
          "Maine",
          "Maine",
          "Maine",
          "Maine",
          "Maine",
          "Maine",
          "Maine",
          "Maine",
          "Maine",
          "Maryland",
          "Maryland",
          "Maryland",
          "Maryland",
          "Maryland",
          "Maryland",
          "Maryland",
          "Maryland",
          "Maryland",
          "Maryland",
          "Maryland",
          "Maryland",
          "Maryland",
          "Michigan",
          "Michigan",
          "Michigan",
          "Michigan",
          "Michigan",
          "Michigan",
          "Michigan",
          "Michigan",
          "Michigan",
          "Michigan",
          "Michigan",
          "Michigan",
          "Michigan",
          "Michigan",
          "Michigan",
          "Michigan",
          "Michigan",
          "Michigan",
          "Michigan",
          "Michigan",
          "Michigan",
          "Michigan",
          "Michigan",
          "Michigan",
          "Michigan",
          "Michigan",
          "Michigan",
          "Minnesota",
          "Minnesota",
          "Minnesota",
          "Minnesota",
          "Minnesota",
          "Minnesota",
          "Minnesota",
          "Minnesota",
          "Minnesota",
          "Minnesota",
          "Minnesota",
          "Minnesota",
          "Minnesota",
          "Minnesota",
          "Minnesota",
          "Minnesota",
          "Minnesota",
          "Minnesota",
          "Minnesota",
          "Minnesota",
          "Minnesota",
          "Minnesota",
          "Minnesota",
          "Minnesota",
          "Minnesota",
          "Minnesota",
          "Minnesota",
          "Mississippi",
          "Mississippi",
          "Mississippi",
          "Mississippi",
          "Mississippi",
          "Mississippi",
          "Mississippi",
          "Mississippi",
          "Mississippi",
          "Mississippi",
          "Mississippi",
          "Mississippi",
          "Mississippi",
          "Mississippi",
          "Mississippi",
          "Mississippi",
          "Mississippi",
          "Mississippi",
          "Mississippi",
          "Mississippi",
          "Mississippi",
          "Mississippi",
          "Mississippi",
          "Mississippi",
          "Mississippi",
          "Mississippi",
          "Mississippi",
          "Missouri",
          "Missouri",
          "Missouri",
          "Missouri",
          "Missouri",
          "Missouri",
          "Missouri",
          "Missouri",
          "Missouri",
          "Missouri",
          "Missouri",
          "Missouri",
          "Missouri",
          "Missouri",
          "Missouri",
          "Missouri",
          "Missouri",
          "Missouri",
          "Missouri",
          "Missouri",
          "Missouri",
          "Missouri",
          "Missouri",
          "Missouri",
          "Missouri",
          "Missouri",
          "Missouri",
          "Montana",
          "Montana",
          "Montana",
          "Montana",
          "Montana",
          "Montana",
          "Montana",
          "Montana",
          "Montana",
          "Montana",
          "Montana",
          "Montana",
          "Montana",
          "Montana",
          "Montana",
          "Montana",
          "Montana",
          "Montana",
          "Montana",
          "Montana",
          "Montana",
          "Montana",
          "Montana",
          "Montana",
          "Montana",
          "Montana",
          "Montana",
          "Nebraska",
          "Nebraska",
          "Nebraska",
          "Nebraska",
          "Nebraska",
          "Nebraska",
          "Nebraska",
          "Nebraska",
          "Nebraska",
          "Nebraska",
          "Nebraska",
          "Nebraska",
          "Nebraska",
          "Nebraska",
          "Nebraska",
          "Nebraska",
          "Nebraska",
          "Nebraska",
          "Nebraska",
          "Nebraska",
          "Nebraska",
          "Nebraska",
          "Nebraska",
          "Nebraska",
          "Nebraska",
          "Nebraska",
          "Nebraska",
          "Nevada",
          "Nevada",
          "Nevada",
          "Nevada",
          "Nevada",
          "Nevada",
          "Nevada",
          "Nevada",
          "Nevada",
          "Nevada",
          "Nevada",
          "Nevada",
          "Nevada",
          "Nevada",
          "Nevada",
          "Nevada",
          "Nevada",
          "Nevada",
          "New Jersey",
          "New Jersey",
          "New Jersey",
          "New Jersey",
          "New Jersey",
          "New Jersey",
          "New Jersey",
          "New Jersey",
          "New Jersey",
          "New Jersey",
          "New Jersey",
          "New Jersey",
          "New Jersey",
          "New Jersey",
          "New Jersey",
          "New Jersey",
          "New Jersey",
          "New Jersey",
          "New Jersey",
          "New Jersey",
          "New Jersey",
          "New Jersey",
          "New Jersey",
          "New Jersey",
          "New Jersey",
          "New Jersey",
          "New Jersey",
          "New Mexico",
          "New Mexico",
          "New Mexico",
          "New Mexico",
          "New Mexico",
          "New Mexico",
          "New Mexico",
          "New Mexico",
          "New Mexico",
          "New Mexico",
          "New Mexico",
          "New Mexico",
          "New Mexico",
          "New Mexico",
          "New Mexico",
          "New Mexico",
          "New Mexico",
          "New Mexico",
          "New Mexico",
          "New Mexico",
          "New Mexico",
          "New Mexico",
          "New York",
          "New York",
          "New York",
          "New York",
          "New York",
          "New York",
          "New York",
          "New York",
          "New York",
          "New York",
          "New York",
          "New York",
          "New York",
          "New York",
          "New York",
          "New York",
          "New York",
          "New York",
          "New York",
          "New York",
          "New York",
          "New York",
          "New York",
          "New York",
          "New York",
          "New York",
          "New York",
          "North Carolina",
          "North Carolina",
          "North Carolina",
          "North Carolina",
          "North Carolina",
          "North Carolina",
          "North Carolina",
          "North Carolina",
          "North Carolina",
          "North Carolina",
          "North Carolina",
          "North Carolina",
          "North Carolina",
          "North Carolina",
          "North Carolina",
          "North Carolina",
          "North Carolina",
          "North Carolina",
          "North Carolina",
          "North Carolina",
          "North Carolina",
          "North Carolina",
          "North Carolina",
          "North Carolina",
          "North Carolina",
          "North Carolina",
          "North Carolina",
          "North Dakota",
          "North Dakota",
          "North Dakota",
          "North Dakota",
          "North Dakota",
          "North Dakota",
          "North Dakota",
          "North Dakota",
          "North Dakota",
          "North Dakota",
          "North Dakota",
          "North Dakota",
          "North Dakota",
          "North Dakota",
          "North Dakota",
          "North Dakota",
          "North Dakota",
          "North Dakota",
          "North Dakota",
          "North Dakota",
          "North Dakota",
          "North Dakota",
          "North Dakota",
          "North Dakota",
          "North Dakota",
          "North Dakota",
          "North Dakota",
          "Ohio",
          "Ohio",
          "Ohio",
          "Ohio",
          "Ohio",
          "Ohio",
          "Ohio",
          "Ohio",
          "Ohio",
          "Ohio",
          "Ohio",
          "Ohio",
          "Ohio",
          "Ohio",
          "Ohio",
          "Ohio",
          "Ohio",
          "Ohio",
          "Ohio",
          "Ohio",
          "Ohio",
          "Ohio",
          "Ohio",
          "Ohio",
          "Ohio",
          "Ohio",
          "Ohio",
          "Oklahoma",
          "Oklahoma",
          "Oklahoma",
          "Oklahoma",
          "Oklahoma",
          "Oklahoma",
          "Oklahoma",
          "Oklahoma",
          "Oklahoma",
          "Oklahoma",
          "Oklahoma",
          "Oklahoma",
          "Oklahoma",
          "Oregon",
          "Oregon",
          "Oregon",
          "Oregon",
          "Oregon",
          "Oregon",
          "Oregon",
          "Oregon",
          "Oregon",
          "Oregon",
          "Oregon",
          "Oregon",
          "Oregon",
          "Oregon",
          "Oregon",
          "Oregon",
          "Oregon",
          "Oregon",
          "Oregon",
          "Oregon",
          "Oregon",
          "Oregon",
          "Oregon",
          "Oregon",
          "Oregon",
          "Oregon",
          "Oregon",
          "Pennsylvania",
          "Pennsylvania",
          "Pennsylvania",
          "Pennsylvania",
          "Pennsylvania",
          "Pennsylvania",
          "Pennsylvania",
          "Pennsylvania",
          "Pennsylvania",
          "Pennsylvania",
          "Pennsylvania",
          "Pennsylvania",
          "Pennsylvania",
          "Pennsylvania",
          "Pennsylvania",
          "Pennsylvania",
          "Pennsylvania",
          "Pennsylvania",
          "Pennsylvania",
          "Pennsylvania",
          "Pennsylvania",
          "Pennsylvania",
          "Pennsylvania",
          "Pennsylvania",
          "Pennsylvania",
          "Pennsylvania",
          "Pennsylvania",
          "South Carolina",
          "South Carolina",
          "South Carolina",
          "South Carolina",
          "South Carolina",
          "South Carolina",
          "South Carolina",
          "South Carolina",
          "South Carolina",
          "South Carolina",
          "South Carolina",
          "South Carolina",
          "South Carolina",
          "South Dakota",
          "South Dakota",
          "South Dakota",
          "South Dakota",
          "South Dakota",
          "South Dakota",
          "South Dakota",
          "South Dakota",
          "South Dakota",
          "South Dakota",
          "South Dakota",
          "South Dakota",
          "South Dakota",
          "South Dakota",
          "South Dakota",
          "South Dakota",
          "South Dakota",
          "South Dakota",
          "South Dakota",
          "South Dakota",
          "South Dakota",
          "South Dakota",
          "South Dakota",
          "South Dakota",
          "South Dakota",
          "South Dakota",
          "South Dakota",
          "Tennessee",
          "Tennessee",
          "Tennessee",
          "Tennessee",
          "Tennessee",
          "Tennessee",
          "Tennessee",
          "Tennessee",
          "Tennessee",
          "Tennessee",
          "Tennessee",
          "Tennessee",
          "Tennessee",
          "Tennessee",
          "Tennessee",
          "Tennessee",
          "Tennessee",
          "Tennessee",
          "Tennessee",
          "Tennessee",
          "Tennessee",
          "Tennessee",
          "Tennessee",
          "Tennessee",
          "Tennessee",
          "Tennessee",
          "Tennessee",
          "Texas",
          "Texas",
          "Texas",
          "Texas",
          "Texas",
          "Texas",
          "Texas",
          "Texas",
          "Texas",
          "Texas",
          "Texas",
          "Texas",
          "Texas",
          "Texas",
          "Texas",
          "Texas",
          "Texas",
          "Texas",
          "Texas",
          "Texas",
          "Texas",
          "Texas",
          "Texas",
          "Texas",
          "Texas",
          "Texas",
          "Texas",
          "Utah",
          "Utah",
          "Utah",
          "Utah",
          "Utah",
          "Utah",
          "Utah",
          "Utah",
          "Utah",
          "Utah",
          "Utah",
          "Utah",
          "Utah",
          "Utah",
          "Utah",
          "Utah",
          "Utah",
          "Utah",
          "Utah",
          "Utah",
          "Utah",
          "Utah",
          "Utah",
          "Utah",
          "Utah",
          "Utah",
          "Utah",
          "Vermont",
          "Vermont",
          "Vermont",
          "Vermont",
          "Vermont",
          "Vermont",
          "Vermont",
          "Vermont",
          "Vermont",
          "Vermont",
          "Vermont",
          "Vermont",
          "Vermont",
          "Vermont",
          "Vermont",
          "Vermont",
          "Vermont",
          "Vermont",
          "Vermont",
          "Vermont",
          "Vermont",
          "Vermont",
          "Vermont",
          "Vermont",
          "Vermont",
          "Vermont",
          "Vermont",
          "Virginia",
          "Virginia",
          "Virginia",
          "Virginia",
          "Virginia",
          "Virginia",
          "Virginia",
          "Virginia",
          "Virginia",
          "Virginia",
          "Virginia",
          "Virginia",
          "Virginia",
          "Virginia",
          "Virginia",
          "Virginia",
          "Virginia",
          "Virginia",
          "Virginia",
          "Virginia",
          "Virginia",
          "Virginia",
          "Virginia",
          "Virginia",
          "Virginia",
          "Virginia",
          "Virginia",
          "Washington",
          "Washington",
          "Washington",
          "Washington",
          "Washington",
          "Washington",
          "Washington",
          "Washington",
          "Washington",
          "Washington",
          "Washington",
          "Washington",
          "Washington",
          "Washington",
          "Washington",
          "Washington",
          "Washington",
          "Washington",
          "Washington",
          "Washington",
          "Washington",
          "Washington",
          "Washington",
          "Washington",
          "Washington",
          "Washington",
          "Washington",
          "West Virginia",
          "West Virginia",
          "West Virginia",
          "West Virginia",
          "West Virginia",
          "West Virginia",
          "West Virginia",
          "West Virginia",
          "West Virginia",
          "West Virginia",
          "West Virginia",
          "West Virginia",
          "West Virginia",
          "West Virginia",
          "West Virginia",
          "West Virginia",
          "West Virginia",
          "West Virginia",
          "West Virginia",
          "West Virginia",
          "West Virginia",
          "West Virginia",
          "West Virginia",
          "West Virginia",
          "West Virginia",
          "West Virginia",
          "West Virginia",
          "Wisconsin",
          "Wisconsin",
          "Wisconsin",
          "Wisconsin",
          "Wisconsin",
          "Wisconsin",
          "Wisconsin",
          "Wisconsin",
          "Wisconsin",
          "Wisconsin",
          "Wisconsin",
          "Wisconsin",
          "Wisconsin",
          "Wisconsin",
          "Wisconsin",
          "Wisconsin",
          "Wisconsin",
          "Wisconsin",
          "Wisconsin",
          "Wisconsin",
          "Wisconsin",
          "Wisconsin",
          "Wisconsin",
          "Wisconsin",
          "Wisconsin",
          "Wisconsin",
          "Wisconsin",
          "Wyoming",
          "Wyoming",
          "Wyoming",
          "Wyoming",
          "Wyoming",
          "Wyoming",
          "Wyoming",
          "Wyoming",
          "Wyoming",
          "Wyoming",
          "Wyoming",
          "Wyoming",
          "Wyoming",
          "Wyoming",
          "Wyoming",
          "Wyoming",
          "Wyoming",
          "Wyoming",
          "Wyoming",
          "Wyoming",
          "Wyoming",
          "Wyoming",
          "Wyoming",
          "Wyoming",
          "Wyoming",
          "Wyoming",
          "Wyoming"
         ],
         "name": "Neo",
         "textfont": {
          "size": 14
         },
         "textposition": "inside",
         "type": "pie",
         "values": [
          null,
          null,
          null,
          null,
          716.5,
          371.6,
          6704.8,
          1836.3,
          1251.2,
          1499.2,
          1490.8,
          2019.2,
          1260,
          7864.2,
          7992,
          10281.8,
          15103.9,
          9109.4,
          13155.3,
          8329.3,
          22484,
          18049.5,
          19479.3,
          24911.1,
          12077.1,
          null,
          null,
          null,
          null,
          null,
          2653.2,
          8260.6,
          6156.9,
          10204.2,
          4814.2,
          5171.6,
          10467.4,
          3732.7,
          6939.2,
          11062.1,
          12874.7,
          11284.3,
          13724.3,
          10070.2,
          10524.4,
          11348.1,
          12535,
          20910.2,
          15238.3,
          19569.3,
          19649.3,
          15136.5,
          null,
          null,
          null,
          null,
          null,
          null,
          11115.6,
          493.6,
          2353.7,
          1262.3,
          692.2,
          925.2,
          3569.7,
          2876.6,
          5567.4,
          25153.2,
          17652,
          33889.5,
          31712.8,
          37361.2,
          35961.9,
          34965.5,
          57431.8,
          51226.5,
          58521.1,
          56766.9,
          12427.3,
          null,
          null,
          null,
          null,
          null,
          2348,
          28576.6,
          33002.7,
          76719.6,
          61047.2,
          41778.9,
          30796.5,
          35178.6,
          44682.6,
          55419.8,
          59321.1,
          62021.8,
          64488.1,
          126006.2,
          101975.6,
          88386,
          111344.4,
          149528.3,
          140689.4,
          167111.2,
          178152.7,
          334951.8,
          null,
          null,
          null,
          null,
          null,
          null,
          655.2,
          669.3,
          4357.9,
          1724.5,
          913.9,
          263.8,
          1584.8,
          1566.8,
          866.4,
          5366,
          8374.3,
          5513.7,
          5094.4,
          8292.6,
          12113.3,
          24183.8,
          27480.5,
          21385,
          19268.3,
          18488.6,
          4774.8,
          null,
          null,
          null,
          null,
          null,
          3039.4,
          4828.5,
          12278,
          9347.5,
          11049.1,
          11173.8,
          6003.8,
          9378.8,
          7856.7,
          35597.6,
          16997.7,
          28811.1,
          21462,
          43614.8,
          33508.2,
          34864.8,
          33995.7,
          52534.8,
          58058.4,
          75748.8,
          44672.7,
          46749.8,
          64318.4,
          null,
          null,
          null,
          null,
          null,
          0.9,
          1008.8,
          10856.3,
          5259.6,
          3647.8,
          3065.3,
          4127.4,
          8185,
          13469.9,
          10421.4,
          6937.3,
          21680.5,
          17159.8,
          18027.3,
          23324.2,
          26117.3,
          58625.4,
          40839.5,
          44648.2,
          51932.7,
          29646.5,
          56815.8,
          null,
          null,
          null,
          null,
          null,
          null,
          null,
          null,
          null,
          null,
          null,
          null,
          null,
          null,
          null,
          null,
          null,
          null,
          null,
          null,
          null,
          null,
          null,
          null,
          null,
          null,
          null,
          null,
          null,
          null,
          null,
          52.7,
          182.1,
          1107.7,
          2210.1,
          2116.3,
          906.8,
          4524.8,
          2765.5,
          3489.4,
          4203.8,
          4566.5,
          5597.9,
          7928.9,
          10923.7,
          18230,
          28885.5,
          30260.6,
          31885,
          43390.3,
          39581.2,
          43294.4,
          21230.8,
          19037.6,
          null,
          null,
          null,
          null,
          null,
          50,
          69.8,
          143.2,
          200.9,
          231,
          416.4,
          650.8,
          309.4,
          858.6,
          49024.5,
          59397.5,
          50798.7,
          80607.6,
          111509.8,
          129031.6,
          188107.4,
          227276.1,
          309854,
          333325.6,
          403011.6,
          22796.7,
          10851.9,
          null,
          null,
          null,
          null,
          null,
          81.3,
          617.8,
          414.7,
          93.1,
          458.3,
          228.9,
          393.3,
          285.9,
          576.3,
          24730.9,
          48550.7,
          42630.8,
          62480.4,
          50642.4,
          66226.2,
          105513.8,
          125374.3,
          180853.6,
          184126.7,
          234848.3,
          3752.1,
          2748,
          null,
          null,
          null,
          null,
          null,
          23.7,
          38.6,
          47.7,
          322.4,
          65.5,
          61.4,
          58.2,
          105.8,
          93,
          35238.3,
          53829.4,
          71809.8,
          92980.3,
          150029,
          158088.1,
          185031.2,
          222931.1,
          276854.7,
          335529.9,
          375671.1,
          10956.3,
          4273.4,
          null,
          null,
          null,
          null,
          null,
          24.4,
          7.6,
          156.7,
          20.1,
          22.6,
          28.7,
          46.9,
          108.3,
          121.6,
          21711.5,
          19101.3,
          26332,
          28056.8,
          36639.9,
          59700.2,
          55371.6,
          73639.1,
          115430.2,
          130408.6,
          145887.5,
          4469.1,
          4629.8,
          null,
          null,
          null,
          null,
          null,
          78.8,
          34.5,
          1370.3,
          3317.9,
          4566.6,
          3284.7,
          2705.4,
          3000.1,
          2330.4,
          5523.5,
          4193.3,
          9809.5,
          13924.8,
          12936.8,
          17240.5,
          28909.9,
          35711.5,
          40419.9,
          51718,
          75819.2,
          4562.2,
          4845.5,
          null,
          null,
          null,
          null,
          null,
          945.9,
          1406.4,
          493.8,
          433.8,
          628.4,
          2964.7,
          3264.2,
          1605.8,
          2574.4,
          13017.1,
          9497.4,
          20781.5,
          15299.3,
          26733.7,
          24195.4,
          28646.6,
          46751.7,
          45566.9,
          37552.1,
          50077.3,
          13112.3,
          15834,
          null,
          null,
          null,
          null,
          null,
          2092.3,
          3235.5,
          2408.3,
          2915.3,
          4802.6,
          4299.4,
          3353.3,
          4961,
          5262.8,
          5202.1,
          3106.7,
          3085.7,
          2243.6,
          6593.5,
          5018.4,
          4576.5,
          5146.3,
          3774.9,
          3843.1,
          5151.4,
          2108.5,
          2520.5,
          null,
          null,
          null,
          null,
          null,
          361.9,
          864,
          475.1,
          474.7,
          313,
          318.2,
          339.5,
          562.5,
          268,
          null,
          null,
          null,
          null,
          1710.1,
          6142.1,
          3732.4,
          5238.3,
          3453,
          5003.6,
          4116.2,
          3735.7,
          4699.3,
          11956.8,
          16791.6,
          22293,
          29333,
          32531.8,
          40332.8,
          42550.7,
          52350.5,
          65881.9,
          81190.9,
          84335.5,
          18900.1,
          13769.1,
          null,
          null,
          null,
          null,
          null,
          834.7,
          6288.3,
          4246.7,
          2492.2,
          5829.8,
          3226.1,
          4105.1,
          4874.4,
          1768.8,
          13573.6,
          27054.5,
          40110.3,
          46841.6,
          72192.7,
          88769.6,
          109736,
          171089.8,
          190164.9,
          199628.6,
          266271.3,
          19055.2,
          10063.1,
          null,
          null,
          null,
          null,
          null,
          1533.6,
          696.6,
          2569,
          1404.8,
          2514.3,
          851.4,
          4795.9,
          7697.7,
          7172.6,
          14585.7,
          30058,
          36565.3,
          27762.5,
          36371.7,
          27676.6,
          42906.5,
          52322.7,
          50137.3,
          47843.9,
          57454.6,
          12170.7,
          35927.8,
          null,
          null,
          null,
          null,
          null,
          262.7,
          374.8,
          465.6,
          2264.3,
          1382,
          2756.9,
          1112.6,
          1606,
          1094.7,
          22759.9,
          21720.3,
          27482.9,
          42642.3,
          37611,
          58784.7,
          60174.7,
          93433.9,
          101014,
          99192.4,
          151688.7,
          12230.9,
          13268.1,
          null,
          null,
          null,
          null,
          null,
          7.9,
          89,
          128.3,
          44.5,
          264.2,
          616.7,
          302.6,
          109.3,
          179.1,
          388.4,
          621.9,
          401.1,
          328.3,
          1027.3,
          5717.4,
          12756.1,
          12706.5,
          13263,
          25425.7,
          17883.6,
          1167.9,
          309,
          null,
          null,
          null,
          null,
          null,
          30.1,
          1.9,
          539.3,
          591.3,
          396.8,
          2204.3,
          1575.7,
          669.3,
          544.8,
          43818.3,
          52884.7,
          34498.1,
          49582.5,
          82047.8,
          96960.1,
          100675.1,
          138513.3,
          187271.3,
          202781.1,
          225989.3,
          6137.8,
          3587.8,
          null,
          null,
          null,
          null,
          0.3,
          44.4,
          62.4,
          83.7,
          274.4,
          48.4,
          170.2,
          208.6,
          97.8,
          223.3,
          308.4,
          199.8,
          128.3,
          120.2,
          333.1,
          null,
          null,
          null,
          null,
          378.4,
          400.7,
          179.6,
          328.8,
          581.2,
          935.8,
          574.1,
          1810.1,
          584.4,
          1072,
          1729.6,
          1291.3,
          1304.1,
          1638.4,
          2368.5,
          2387.5,
          2729.8,
          4703.8,
          4026,
          4459.4,
          1863.2,
          1313,
          null,
          null,
          null,
          null,
          null,
          111.2,
          1547.7,
          1823.6,
          443.9,
          385.7,
          735.3,
          426.8,
          763.2,
          807.5,
          3690.8,
          4439,
          4096,
          4028.9,
          4418.8,
          3937.8,
          3799.8,
          6655.4,
          4495.3,
          null,
          null,
          null,
          null,
          1232.5,
          2217.1,
          1879.7,
          1608.8,
          2334.9,
          2148.3,
          3265.2,
          12637.5,
          2558.9,
          3545,
          6584.9,
          10439.9,
          13887.7,
          16651.1,
          19949.6,
          19169.3,
          24928.1,
          26144.5,
          44323.3,
          41629,
          7282.6,
          9624.1,
          null,
          null,
          null,
          null,
          null,
          610.6,
          1881.2,
          8065.8,
          6576.4,
          3549.8,
          2145.2,
          3898.4,
          5348.2,
          3594.7,
          11303.3,
          11520.3,
          19809.3,
          19637.4,
          25470.4,
          27915.8,
          22927.5,
          37683.7,
          49150.7,
          46818.3,
          58435.6,
          18844.7,
          38818.9,
          null,
          null,
          null,
          null,
          null,
          null,
          null,
          951,
          2019.4,
          7948.8,
          5383,
          3216.2,
          3736.6,
          3017.6,
          13194.2,
          12786.4,
          14274.1,
          22067,
          40652.9,
          57265.2,
          60802.5,
          52445.7,
          96581.7,
          142936.2,
          123512.9,
          16208.7,
          4577.9,
          null,
          null,
          null,
          null,
          null,
          2012,
          638.6,
          531.6,
          1029.2,
          1099,
          896.8,
          813.6,
          1179.1,
          614.6,
          12495.4,
          17720.3,
          20775.8,
          26418.1,
          38813.5,
          53709.4,
          68472.1,
          80258.2,
          102784,
          114539.8,
          127421.8,
          9126.3,
          2173.6,
          null,
          null,
          null,
          null,
          null,
          156.3,
          35,
          1065.1,
          119.4,
          153,
          307.5,
          211.3,
          210.5,
          180.1,
          null,
          null,
          null,
          119.9,
          382.6,
          1050.6,
          1791.5,
          1543.1,
          583.2,
          1739.6,
          3329.2,
          2658.8,
          2209.4,
          3056.4,
          3574.5,
          3854.4,
          5084.9,
          6011.2,
          8561.6,
          10001.9,
          9582.6,
          13051.4,
          14557.4,
          14035.2,
          5296.7,
          4852.3,
          null,
          null,
          null,
          null,
          null,
          2086.3,
          3129,
          1455.3,
          2068.1,
          2100.5,
          1920.9,
          2049.3,
          2308.4,
          2341,
          8855,
          15806.5,
          14003.1,
          15885.3,
          16290.5,
          18720.5,
          14978.7,
          22063.3,
          34370.8,
          31220,
          39879.9,
          6974,
          6658.2,
          null,
          null,
          null,
          null,
          null,
          6.4,
          216.7,
          631,
          771.8,
          890.5,
          16537.1,
          8247.2,
          14270.3,
          null,
          null,
          null,
          null,
          null,
          0.4,
          0.7,
          47,
          29.8,
          166.3,
          339.1,
          135.9,
          40.1,
          59.3,
          11791.6,
          23328.9,
          19961.6,
          35447.5,
          42858.5,
          66998.6,
          69742.2,
          97262,
          134142.7,
          171974.2,
          148768.8,
          9982.8,
          1215.9,
          null,
          null,
          null,
          null,
          null,
          397,
          241.1,
          1292.4,
          2954.5,
          3196.2,
          3094.9,
          2256.9,
          3021.4,
          2459.4,
          18142.9,
          18060.1,
          21587.1,
          19298.7,
          18619.7,
          28242.4,
          30970.5,
          35930.5,
          37826.2,
          48882.7,
          51865.9,
          9326.5,
          23857.2,
          null,
          null,
          null,
          null,
          2050.5,
          5934.9,
          3467.1,
          3650.3,
          6069.7,
          19112.6,
          8249.2,
          18885.2,
          9609.9,
          8402.1,
          79487.5,
          70385.6,
          45393.8,
          69853,
          52012,
          67502.9,
          75451.3,
          96401.8,
          126923.7,
          142920.9,
          164057.1,
          47419.7,
          22779.8,
          null,
          null,
          null,
          null,
          null,
          646.9,
          113.2,
          141.6,
          61.6,
          19.8,
          88.7,
          11.6,
          45.9,
          59.6,
          179,
          154,
          130.8,
          44.8,
          283,
          340.9,
          595.8,
          626.7,
          1533.2,
          1639.7,
          1751.5,
          223.8,
          95.5,
          null,
          null,
          null,
          null,
          null,
          10.4,
          510.2,
          68.3,
          3.2,
          14.4,
          41.6,
          69.8,
          39.7,
          22.9,
          307.3,
          1319.7,
          683,
          1019.7,
          512,
          634.7,
          843.2,
          745.7,
          799.5,
          1978.5,
          2011,
          217.9,
          113,
          null,
          null,
          null,
          null,
          null,
          1347.7,
          756.3,
          1444.6,
          2842.2,
          835.5,
          1660,
          1708.9,
          3320.8,
          1206.1,
          3549,
          3927,
          8223.5,
          8241.7,
          8360.8,
          9561.8,
          7700.5,
          14200.5,
          13324.7,
          15530.1,
          22209.6,
          6504.2,
          9771.90000000001,
          null,
          null,
          null,
          null,
          943.2,
          3186.6,
          4718.4,
          16320.3,
          24933.7,
          3698.9,
          10588.6,
          6781.8,
          9414.3,
          13587,
          15616.6,
          20763.1,
          13220.6,
          21715.4,
          16467.1,
          27783,
          30144.5,
          39097.3,
          48557.1,
          45495.5,
          43536,
          31717.8,
          28020.5,
          null,
          null,
          null,
          null,
          null,
          322,
          515.4,
          144.8,
          120.7,
          251.2,
          130,
          62,
          82.3,
          185.9,
          412.5,
          609.3,
          683.9,
          849.5,
          791.2,
          921.7,
          866.3,
          1216,
          1751.5,
          1631.8,
          2652,
          1132.8,
          520.000000000001,
          null,
          null,
          null,
          null,
          null,
          894,
          4545.6,
          4965,
          4283.2,
          3660.9,
          9522.6,
          6313.5,
          4335.7,
          5214.2,
          12601.9,
          17162.5,
          20180,
          22908.3,
          40569.4,
          46176.9,
          41770.4,
          46319.7,
          65194.8,
          78048.2,
          81672,
          12152.3,
          7281.6,
          null,
          null,
          null,
          null,
          null,
          0,
          0,
          52.3,
          91.2,
          23.2,
          44.5,
          193.1,
          67.4,
          54.1,
          425.1,
          386.9,
          333.7,
          396.8,
          1294,
          1508.1,
          1548.1,
          1192.5,
          1875.2,
          1523,
          2086.3,
          133.4,
          36.9,
          null
         ]
        }
       ],
       "layout": {
        "annotations": [
         {
          "font": {
           "size": 16
          },
          "showarrow": false,
          "text": "Number of colonies",
          "x": 0.14444444444444446,
          "xanchor": "center",
          "xref": "paper",
          "y": 1,
          "yanchor": "bottom",
          "yref": "paper"
         },
         {
          "font": {
           "size": 16
          },
          "showarrow": false,
          "text": "Production",
          "x": 0.5,
          "xanchor": "center",
          "xref": "paper",
          "y": 1,
          "yanchor": "bottom",
          "yref": "paper"
         },
         {
          "font": {
           "size": 16
          },
          "showarrow": false,
          "text": "Neocotinoids usage (kg)",
          "x": 0.8555555555555556,
          "xanchor": "center",
          "xref": "paper",
          "y": 1,
          "yanchor": "bottom",
          "yref": "paper"
         }
        ],
        "autosize": false,
        "height": 500,
        "showlegend": true,
        "template": {
         "data": {
          "bar": [
           {
            "error_x": {
             "color": "#2a3f5f"
            },
            "error_y": {
             "color": "#2a3f5f"
            },
            "marker": {
             "line": {
              "color": "#E5ECF6",
              "width": 0.5
             },
             "pattern": {
              "fillmode": "overlay",
              "size": 10,
              "solidity": 0.2
             }
            },
            "type": "bar"
           }
          ],
          "barpolar": [
           {
            "marker": {
             "line": {
              "color": "#E5ECF6",
              "width": 0.5
             },
             "pattern": {
              "fillmode": "overlay",
              "size": 10,
              "solidity": 0.2
             }
            },
            "type": "barpolar"
           }
          ],
          "carpet": [
           {
            "aaxis": {
             "endlinecolor": "#2a3f5f",
             "gridcolor": "white",
             "linecolor": "white",
             "minorgridcolor": "white",
             "startlinecolor": "#2a3f5f"
            },
            "baxis": {
             "endlinecolor": "#2a3f5f",
             "gridcolor": "white",
             "linecolor": "white",
             "minorgridcolor": "white",
             "startlinecolor": "#2a3f5f"
            },
            "type": "carpet"
           }
          ],
          "choropleth": [
           {
            "colorbar": {
             "outlinewidth": 0,
             "ticks": ""
            },
            "type": "choropleth"
           }
          ],
          "contour": [
           {
            "colorbar": {
             "outlinewidth": 0,
             "ticks": ""
            },
            "colorscale": [
             [
              0,
              "#0d0887"
             ],
             [
              0.1111111111111111,
              "#46039f"
             ],
             [
              0.2222222222222222,
              "#7201a8"
             ],
             [
              0.3333333333333333,
              "#9c179e"
             ],
             [
              0.4444444444444444,
              "#bd3786"
             ],
             [
              0.5555555555555556,
              "#d8576b"
             ],
             [
              0.6666666666666666,
              "#ed7953"
             ],
             [
              0.7777777777777778,
              "#fb9f3a"
             ],
             [
              0.8888888888888888,
              "#fdca26"
             ],
             [
              1,
              "#f0f921"
             ]
            ],
            "type": "contour"
           }
          ],
          "contourcarpet": [
           {
            "colorbar": {
             "outlinewidth": 0,
             "ticks": ""
            },
            "type": "contourcarpet"
           }
          ],
          "heatmap": [
           {
            "colorbar": {
             "outlinewidth": 0,
             "ticks": ""
            },
            "colorscale": [
             [
              0,
              "#0d0887"
             ],
             [
              0.1111111111111111,
              "#46039f"
             ],
             [
              0.2222222222222222,
              "#7201a8"
             ],
             [
              0.3333333333333333,
              "#9c179e"
             ],
             [
              0.4444444444444444,
              "#bd3786"
             ],
             [
              0.5555555555555556,
              "#d8576b"
             ],
             [
              0.6666666666666666,
              "#ed7953"
             ],
             [
              0.7777777777777778,
              "#fb9f3a"
             ],
             [
              0.8888888888888888,
              "#fdca26"
             ],
             [
              1,
              "#f0f921"
             ]
            ],
            "type": "heatmap"
           }
          ],
          "heatmapgl": [
           {
            "colorbar": {
             "outlinewidth": 0,
             "ticks": ""
            },
            "colorscale": [
             [
              0,
              "#0d0887"
             ],
             [
              0.1111111111111111,
              "#46039f"
             ],
             [
              0.2222222222222222,
              "#7201a8"
             ],
             [
              0.3333333333333333,
              "#9c179e"
             ],
             [
              0.4444444444444444,
              "#bd3786"
             ],
             [
              0.5555555555555556,
              "#d8576b"
             ],
             [
              0.6666666666666666,
              "#ed7953"
             ],
             [
              0.7777777777777778,
              "#fb9f3a"
             ],
             [
              0.8888888888888888,
              "#fdca26"
             ],
             [
              1,
              "#f0f921"
             ]
            ],
            "type": "heatmapgl"
           }
          ],
          "histogram": [
           {
            "marker": {
             "pattern": {
              "fillmode": "overlay",
              "size": 10,
              "solidity": 0.2
             }
            },
            "type": "histogram"
           }
          ],
          "histogram2d": [
           {
            "colorbar": {
             "outlinewidth": 0,
             "ticks": ""
            },
            "colorscale": [
             [
              0,
              "#0d0887"
             ],
             [
              0.1111111111111111,
              "#46039f"
             ],
             [
              0.2222222222222222,
              "#7201a8"
             ],
             [
              0.3333333333333333,
              "#9c179e"
             ],
             [
              0.4444444444444444,
              "#bd3786"
             ],
             [
              0.5555555555555556,
              "#d8576b"
             ],
             [
              0.6666666666666666,
              "#ed7953"
             ],
             [
              0.7777777777777778,
              "#fb9f3a"
             ],
             [
              0.8888888888888888,
              "#fdca26"
             ],
             [
              1,
              "#f0f921"
             ]
            ],
            "type": "histogram2d"
           }
          ],
          "histogram2dcontour": [
           {
            "colorbar": {
             "outlinewidth": 0,
             "ticks": ""
            },
            "colorscale": [
             [
              0,
              "#0d0887"
             ],
             [
              0.1111111111111111,
              "#46039f"
             ],
             [
              0.2222222222222222,
              "#7201a8"
             ],
             [
              0.3333333333333333,
              "#9c179e"
             ],
             [
              0.4444444444444444,
              "#bd3786"
             ],
             [
              0.5555555555555556,
              "#d8576b"
             ],
             [
              0.6666666666666666,
              "#ed7953"
             ],
             [
              0.7777777777777778,
              "#fb9f3a"
             ],
             [
              0.8888888888888888,
              "#fdca26"
             ],
             [
              1,
              "#f0f921"
             ]
            ],
            "type": "histogram2dcontour"
           }
          ],
          "mesh3d": [
           {
            "colorbar": {
             "outlinewidth": 0,
             "ticks": ""
            },
            "type": "mesh3d"
           }
          ],
          "parcoords": [
           {
            "line": {
             "colorbar": {
              "outlinewidth": 0,
              "ticks": ""
             }
            },
            "type": "parcoords"
           }
          ],
          "pie": [
           {
            "automargin": true,
            "type": "pie"
           }
          ],
          "scatter": [
           {
            "marker": {
             "colorbar": {
              "outlinewidth": 0,
              "ticks": ""
             }
            },
            "type": "scatter"
           }
          ],
          "scatter3d": [
           {
            "line": {
             "colorbar": {
              "outlinewidth": 0,
              "ticks": ""
             }
            },
            "marker": {
             "colorbar": {
              "outlinewidth": 0,
              "ticks": ""
             }
            },
            "type": "scatter3d"
           }
          ],
          "scattercarpet": [
           {
            "marker": {
             "colorbar": {
              "outlinewidth": 0,
              "ticks": ""
             }
            },
            "type": "scattercarpet"
           }
          ],
          "scattergeo": [
           {
            "marker": {
             "colorbar": {
              "outlinewidth": 0,
              "ticks": ""
             }
            },
            "type": "scattergeo"
           }
          ],
          "scattergl": [
           {
            "marker": {
             "colorbar": {
              "outlinewidth": 0,
              "ticks": ""
             }
            },
            "type": "scattergl"
           }
          ],
          "scattermapbox": [
           {
            "marker": {
             "colorbar": {
              "outlinewidth": 0,
              "ticks": ""
             }
            },
            "type": "scattermapbox"
           }
          ],
          "scatterpolar": [
           {
            "marker": {
             "colorbar": {
              "outlinewidth": 0,
              "ticks": ""
             }
            },
            "type": "scatterpolar"
           }
          ],
          "scatterpolargl": [
           {
            "marker": {
             "colorbar": {
              "outlinewidth": 0,
              "ticks": ""
             }
            },
            "type": "scatterpolargl"
           }
          ],
          "scatterternary": [
           {
            "marker": {
             "colorbar": {
              "outlinewidth": 0,
              "ticks": ""
             }
            },
            "type": "scatterternary"
           }
          ],
          "surface": [
           {
            "colorbar": {
             "outlinewidth": 0,
             "ticks": ""
            },
            "colorscale": [
             [
              0,
              "#0d0887"
             ],
             [
              0.1111111111111111,
              "#46039f"
             ],
             [
              0.2222222222222222,
              "#7201a8"
             ],
             [
              0.3333333333333333,
              "#9c179e"
             ],
             [
              0.4444444444444444,
              "#bd3786"
             ],
             [
              0.5555555555555556,
              "#d8576b"
             ],
             [
              0.6666666666666666,
              "#ed7953"
             ],
             [
              0.7777777777777778,
              "#fb9f3a"
             ],
             [
              0.8888888888888888,
              "#fdca26"
             ],
             [
              1,
              "#f0f921"
             ]
            ],
            "type": "surface"
           }
          ],
          "table": [
           {
            "cells": {
             "fill": {
              "color": "#EBF0F8"
             },
             "line": {
              "color": "white"
             }
            },
            "header": {
             "fill": {
              "color": "#C8D4E3"
             },
             "line": {
              "color": "white"
             }
            },
            "type": "table"
           }
          ]
         },
         "layout": {
          "annotationdefaults": {
           "arrowcolor": "#2a3f5f",
           "arrowhead": 0,
           "arrowwidth": 1
          },
          "autotypenumbers": "strict",
          "coloraxis": {
           "colorbar": {
            "outlinewidth": 0,
            "ticks": ""
           }
          },
          "colorscale": {
           "diverging": [
            [
             0,
             "#8e0152"
            ],
            [
             0.1,
             "#c51b7d"
            ],
            [
             0.2,
             "#de77ae"
            ],
            [
             0.3,
             "#f1b6da"
            ],
            [
             0.4,
             "#fde0ef"
            ],
            [
             0.5,
             "#f7f7f7"
            ],
            [
             0.6,
             "#e6f5d0"
            ],
            [
             0.7,
             "#b8e186"
            ],
            [
             0.8,
             "#7fbc41"
            ],
            [
             0.9,
             "#4d9221"
            ],
            [
             1,
             "#276419"
            ]
           ],
           "sequential": [
            [
             0,
             "#0d0887"
            ],
            [
             0.1111111111111111,
             "#46039f"
            ],
            [
             0.2222222222222222,
             "#7201a8"
            ],
            [
             0.3333333333333333,
             "#9c179e"
            ],
            [
             0.4444444444444444,
             "#bd3786"
            ],
            [
             0.5555555555555556,
             "#d8576b"
            ],
            [
             0.6666666666666666,
             "#ed7953"
            ],
            [
             0.7777777777777778,
             "#fb9f3a"
            ],
            [
             0.8888888888888888,
             "#fdca26"
            ],
            [
             1,
             "#f0f921"
            ]
           ],
           "sequentialminus": [
            [
             0,
             "#0d0887"
            ],
            [
             0.1111111111111111,
             "#46039f"
            ],
            [
             0.2222222222222222,
             "#7201a8"
            ],
            [
             0.3333333333333333,
             "#9c179e"
            ],
            [
             0.4444444444444444,
             "#bd3786"
            ],
            [
             0.5555555555555556,
             "#d8576b"
            ],
            [
             0.6666666666666666,
             "#ed7953"
            ],
            [
             0.7777777777777778,
             "#fb9f3a"
            ],
            [
             0.8888888888888888,
             "#fdca26"
            ],
            [
             1,
             "#f0f921"
            ]
           ]
          },
          "colorway": [
           "#636efa",
           "#EF553B",
           "#00cc96",
           "#ab63fa",
           "#FFA15A",
           "#19d3f3",
           "#FF6692",
           "#B6E880",
           "#FF97FF",
           "#FECB52"
          ],
          "font": {
           "color": "#2a3f5f"
          },
          "geo": {
           "bgcolor": "white",
           "lakecolor": "white",
           "landcolor": "#E5ECF6",
           "showlakes": true,
           "showland": true,
           "subunitcolor": "white"
          },
          "hoverlabel": {
           "align": "left"
          },
          "hovermode": "closest",
          "mapbox": {
           "style": "light"
          },
          "paper_bgcolor": "white",
          "plot_bgcolor": "#E5ECF6",
          "polar": {
           "angularaxis": {
            "gridcolor": "white",
            "linecolor": "white",
            "ticks": ""
           },
           "bgcolor": "#E5ECF6",
           "radialaxis": {
            "gridcolor": "white",
            "linecolor": "white",
            "ticks": ""
           }
          },
          "scene": {
           "xaxis": {
            "backgroundcolor": "#E5ECF6",
            "gridcolor": "white",
            "gridwidth": 2,
            "linecolor": "white",
            "showbackground": true,
            "ticks": "",
            "zerolinecolor": "white"
           },
           "yaxis": {
            "backgroundcolor": "#E5ECF6",
            "gridcolor": "white",
            "gridwidth": 2,
            "linecolor": "white",
            "showbackground": true,
            "ticks": "",
            "zerolinecolor": "white"
           },
           "zaxis": {
            "backgroundcolor": "#E5ECF6",
            "gridcolor": "white",
            "gridwidth": 2,
            "linecolor": "white",
            "showbackground": true,
            "ticks": "",
            "zerolinecolor": "white"
           }
          },
          "shapedefaults": {
           "line": {
            "color": "#2a3f5f"
           }
          },
          "ternary": {
           "aaxis": {
            "gridcolor": "white",
            "linecolor": "white",
            "ticks": ""
           },
           "baxis": {
            "gridcolor": "white",
            "linecolor": "white",
            "ticks": ""
           },
           "bgcolor": "#E5ECF6",
           "caxis": {
            "gridcolor": "white",
            "linecolor": "white",
            "ticks": ""
           }
          },
          "title": {
           "x": 0.05
          },
          "xaxis": {
           "automargin": true,
           "gridcolor": "white",
           "linecolor": "white",
           "ticks": "",
           "title": {
            "standoff": 15
           },
           "zerolinecolor": "white",
           "zerolinewidth": 2
          },
          "yaxis": {
           "automargin": true,
           "gridcolor": "white",
           "linecolor": "white",
           "ticks": "",
           "title": {
            "standoff": 15
           },
           "zerolinecolor": "white",
           "zerolinewidth": 2
          }
         }
        },
        "title": {
         "text": "Number of colonies and production: Summary 1990-2017"
        },
        "width": 1200
       }
      }
     },
     "metadata": {},
     "output_type": "display_data"
    }
   ],
   "source": [
    "from plotly.subplots import make_subplots\n",
    "\n",
    "labels = df.StateName\n",
    "values1 = df.numcol\n",
    "values2 = df.totalprod\n",
    "values3 = df.nAllNeonic\n",
    "\n",
    "# fig = make_subplots(\n",
    "            # rows=3, cols=1, \n",
    "            # specs=[[{}], [{}], [{}]],\n",
    "            # subplot_titles=(\"Number of colonies\",\"Production\", \"Neocotinoids usage (kg)\")\n",
    "\n",
    "# Create subplots: use 'domain' type for Pie subplot\n",
    "fig = make_subplots(rows=1, cols=3, \n",
    "                specs=[[{'type':'domain'}, {'type':'domain'}, {'type':'domain'}]],\n",
    "                subplot_titles=(\"Number of colonies\",\"Production\", \"Neocotinoids usage (kg)\"))\n",
    "fig.add_trace(go.Pie(labels=labels, values=values1, name=\"Colonies\"),\n",
    "              1, 1)\n",
    "fig.add_trace(go.Pie(labels=labels, values=values2, name=\"Production\"),\n",
    "              1, 2)\n",
    "fig.add_trace(go.Pie(labels=labels, values=values3, name=\"Neo\"),\n",
    "              1, 3)\n",
    "# Use `hole` to create a donut-like pie chart\n",
    "fig.update_traces(hole=.4, hoverinfo=\"label+percent+name\")\n",
    "fig.update_traces(textposition='inside', textfont_size=14)\n",
    "fig.update_layout(\n",
    "    title_text=\"Number of colonies and production: Summary 1990-2017\",\n",
    "    # Add annotations in the center of the donut pies.\n",
    "    # annotations=[dict(text='Colonies', x=0.10, y=0.5, font_size=20, showarrow=False),\n",
    "    #               dict(text='Production', x=0.5, y=0.5, font_size=20, showarrow=False),\n",
    "    #               dict(text='Neo', x=0.85, y=0.5, font_size=20, showarrow=False)],\n",
    "                 \n",
    "    showlegend=True,   \n",
    "    autosize=False,\n",
    "    width=1200,\n",
    "    height=500,)\n",
    "fig.show()"
   ]
  },
  {
   "cell_type": "markdown",
   "metadata": {},
   "source": [
    "The state with largest amount of colonies is California, North Dakota, South Dakota, Florida, Minessota and Montana. Curiosly, North Dakota is first in production, then California, South Dakota, Florida, Montana and Minnesota. However, the states with more usage of neocotinoids are California, Illinous, Iowa, Minnessota and Nebraska. "
   ]
  },
  {
   "cell_type": "code",
   "execution_count": 17,
   "metadata": {},
   "outputs": [],
   "source": [
    "import json\n",
    "result = df.to_json(orient=\"split\")\n",
    "parsed = json.loads(result)\n",
    "#json.dumps(parsed) \n",
    "\n",
    "with open(f'data/dataset.json', 'w') as f:\n",
    "    json.dump(parsed, f)"
   ]
  },
  {
   "cell_type": "code",
   "execution_count": 18,
   "metadata": {},
   "outputs": [
    {
     "data": {
      "application/vnd.plotly.v1+json": {
       "config": {
        "plotlyServerURL": "https://plot.ly"
       },
       "data": [
        {
         "domain": {
          "x": [
           0,
           0.2888888888888889
          ],
          "y": [
           0,
           1
          ]
         },
         "hole": 0.4,
         "hoverinfo": "label+percent+name",
         "labels": [
          "Alabama",
          "Arizona",
          "Arkansas",
          "California",
          "Colorado",
          "Florida",
          "Georgia",
          "Hawaii",
          "Idaho",
          "Illinois",
          "Indiana",
          "Iowa",
          "Kansas",
          "Kentucky",
          "Louisiana",
          "Maine",
          "Michigan",
          "Minnesota",
          "Mississippi",
          "Missouri",
          "Montana",
          "Nebraska",
          "New Jersey",
          "New York",
          "North Carolina",
          "North Dakota",
          "Ohio",
          "Oregon",
          "Pennsylvania",
          "South Carolina",
          "South Dakota",
          "Tennessee",
          "Texas",
          "Utah",
          "Vermont",
          "Virginia",
          "Washington",
          "West Virginia",
          "Wisconsin",
          "Wyoming"
         ],
         "name": "Colonies",
         "textfont": {
          "size": 14
         },
         "textposition": "inside",
         "type": "pie",
         "values": [
          7000,
          26000,
          21000,
          320000,
          27000,
          245000,
          73000,
          15000,
          100000,
          8000,
          5000,
          35000,
          7000,
          5000,
          48000,
          8000,
          91000,
          132000,
          20000,
          12000,
          162000,
          50000,
          12000,
          60000,
          12000,
          490000,
          15000,
          71000,
          17000,
          9000,
          280000,
          7000,
          116000,
          29000,
          3000,
          6000,
          68000,
          6000,
          53000,
          38000
         ]
        },
        {
         "domain": {
          "x": [
           0.35555555555555557,
           0.6444444444444445
          ],
          "y": [
           0,
           1
          ]
         },
         "hole": 0.4,
         "hoverinfo": "label+percent+name",
         "labels": [
          "Alabama",
          "Arizona",
          "Arkansas",
          "California",
          "Colorado",
          "Florida",
          "Georgia",
          "Hawaii",
          "Idaho",
          "Illinois",
          "Indiana",
          "Iowa",
          "Kansas",
          "Kentucky",
          "Louisiana",
          "Maine",
          "Michigan",
          "Minnesota",
          "Mississippi",
          "Missouri",
          "Montana",
          "Nebraska",
          "New Jersey",
          "New York",
          "North Carolina",
          "North Dakota",
          "Ohio",
          "Oregon",
          "Pennsylvania",
          "South Carolina",
          "South Dakota",
          "Tennessee",
          "Texas",
          "Utah",
          "Vermont",
          "Virginia",
          "Washington",
          "West Virginia",
          "Wisconsin",
          "Wyoming"
         ],
         "name": "Production",
         "textfont": {
          "size": 14
         },
         "textposition": "inside",
         "type": "pie",
         "values": [
          371000,
          1014000,
          1365000,
          12480000,
          999000,
          14700000,
          4526000,
          1395000,
          3400000,
          392000,
          310000,
          1505000,
          525000,
          235000,
          4032000,
          376000,
          5733000,
          7920000,
          2240000,
          564000,
          14256000,
          3750000,
          360000,
          3300000,
          516000,
          42140000,
          915000,
          2840000,
          782000,
          486000,
          24360000,
          441000,
          9048000,
          812000,
          174000,
          246000,
          2992000,
          186000,
          2862000,
          2318000
         ]
        },
        {
         "domain": {
          "x": [
           0.7111111111111111,
           1
          ],
          "y": [
           0,
           1
          ]
         },
         "hole": 0.4,
         "hoverinfo": "label+percent+name",
         "labels": [
          "Alabama",
          "Arizona",
          "Arkansas",
          "California",
          "Colorado",
          "Florida",
          "Georgia",
          "Hawaii",
          "Idaho",
          "Illinois",
          "Indiana",
          "Iowa",
          "Kansas",
          "Kentucky",
          "Louisiana",
          "Maine",
          "Michigan",
          "Minnesota",
          "Mississippi",
          "Missouri",
          "Montana",
          "Nebraska",
          "New Jersey",
          "New York",
          "North Carolina",
          "North Dakota",
          "Ohio",
          "Oregon",
          "Pennsylvania",
          "South Carolina",
          "South Dakota",
          "Tennessee",
          "Texas",
          "Utah",
          "Vermont",
          "Virginia",
          "Washington",
          "West Virginia",
          "Wisconsin",
          "Wyoming"
         ],
         "name": "Neo",
         "textfont": {
          "size": 14
         },
         "textposition": "inside",
         "type": "pie",
         "values": [
          24911.1,
          19649.3,
          56766.9,
          178152.7,
          18488.6,
          44672.7,
          51932.7,
          null,
          43294.4,
          403011.6,
          234848.3,
          375671.1,
          145887.5,
          75819.2,
          50077.3,
          5151.4,
          84335.5,
          266271.3,
          57454.6,
          151688.7,
          17883.6,
          225989.3,
          4459.4,
          41629,
          58435.6,
          123512.9,
          127421.8,
          14035.2,
          39879.9,
          16537.1,
          148768.8,
          51865.9,
          164057.1,
          1751.5,
          2011,
          22209.6,
          43536,
          2652,
          81672,
          2086.3
         ]
        }
       ],
       "layout": {
        "annotations": [
         {
          "font": {
           "size": 16
          },
          "showarrow": false,
          "text": "Number of colonies",
          "x": 0.14444444444444446,
          "xanchor": "center",
          "xref": "paper",
          "y": 1,
          "yanchor": "bottom",
          "yref": "paper"
         },
         {
          "font": {
           "size": 16
          },
          "showarrow": false,
          "text": "Production",
          "x": 0.5,
          "xanchor": "center",
          "xref": "paper",
          "y": 1,
          "yanchor": "bottom",
          "yref": "paper"
         },
         {
          "font": {
           "size": 16
          },
          "showarrow": false,
          "text": "Neocotinoids usage (kg)",
          "x": 0.8555555555555556,
          "xanchor": "center",
          "xref": "paper",
          "y": 1,
          "yanchor": "bottom",
          "yref": "paper"
         }
        ],
        "autosize": false,
        "height": 500,
        "showlegend": true,
        "template": {
         "data": {
          "bar": [
           {
            "error_x": {
             "color": "#2a3f5f"
            },
            "error_y": {
             "color": "#2a3f5f"
            },
            "marker": {
             "line": {
              "color": "#E5ECF6",
              "width": 0.5
             },
             "pattern": {
              "fillmode": "overlay",
              "size": 10,
              "solidity": 0.2
             }
            },
            "type": "bar"
           }
          ],
          "barpolar": [
           {
            "marker": {
             "line": {
              "color": "#E5ECF6",
              "width": 0.5
             },
             "pattern": {
              "fillmode": "overlay",
              "size": 10,
              "solidity": 0.2
             }
            },
            "type": "barpolar"
           }
          ],
          "carpet": [
           {
            "aaxis": {
             "endlinecolor": "#2a3f5f",
             "gridcolor": "white",
             "linecolor": "white",
             "minorgridcolor": "white",
             "startlinecolor": "#2a3f5f"
            },
            "baxis": {
             "endlinecolor": "#2a3f5f",
             "gridcolor": "white",
             "linecolor": "white",
             "minorgridcolor": "white",
             "startlinecolor": "#2a3f5f"
            },
            "type": "carpet"
           }
          ],
          "choropleth": [
           {
            "colorbar": {
             "outlinewidth": 0,
             "ticks": ""
            },
            "type": "choropleth"
           }
          ],
          "contour": [
           {
            "colorbar": {
             "outlinewidth": 0,
             "ticks": ""
            },
            "colorscale": [
             [
              0,
              "#0d0887"
             ],
             [
              0.1111111111111111,
              "#46039f"
             ],
             [
              0.2222222222222222,
              "#7201a8"
             ],
             [
              0.3333333333333333,
              "#9c179e"
             ],
             [
              0.4444444444444444,
              "#bd3786"
             ],
             [
              0.5555555555555556,
              "#d8576b"
             ],
             [
              0.6666666666666666,
              "#ed7953"
             ],
             [
              0.7777777777777778,
              "#fb9f3a"
             ],
             [
              0.8888888888888888,
              "#fdca26"
             ],
             [
              1,
              "#f0f921"
             ]
            ],
            "type": "contour"
           }
          ],
          "contourcarpet": [
           {
            "colorbar": {
             "outlinewidth": 0,
             "ticks": ""
            },
            "type": "contourcarpet"
           }
          ],
          "heatmap": [
           {
            "colorbar": {
             "outlinewidth": 0,
             "ticks": ""
            },
            "colorscale": [
             [
              0,
              "#0d0887"
             ],
             [
              0.1111111111111111,
              "#46039f"
             ],
             [
              0.2222222222222222,
              "#7201a8"
             ],
             [
              0.3333333333333333,
              "#9c179e"
             ],
             [
              0.4444444444444444,
              "#bd3786"
             ],
             [
              0.5555555555555556,
              "#d8576b"
             ],
             [
              0.6666666666666666,
              "#ed7953"
             ],
             [
              0.7777777777777778,
              "#fb9f3a"
             ],
             [
              0.8888888888888888,
              "#fdca26"
             ],
             [
              1,
              "#f0f921"
             ]
            ],
            "type": "heatmap"
           }
          ],
          "heatmapgl": [
           {
            "colorbar": {
             "outlinewidth": 0,
             "ticks": ""
            },
            "colorscale": [
             [
              0,
              "#0d0887"
             ],
             [
              0.1111111111111111,
              "#46039f"
             ],
             [
              0.2222222222222222,
              "#7201a8"
             ],
             [
              0.3333333333333333,
              "#9c179e"
             ],
             [
              0.4444444444444444,
              "#bd3786"
             ],
             [
              0.5555555555555556,
              "#d8576b"
             ],
             [
              0.6666666666666666,
              "#ed7953"
             ],
             [
              0.7777777777777778,
              "#fb9f3a"
             ],
             [
              0.8888888888888888,
              "#fdca26"
             ],
             [
              1,
              "#f0f921"
             ]
            ],
            "type": "heatmapgl"
           }
          ],
          "histogram": [
           {
            "marker": {
             "pattern": {
              "fillmode": "overlay",
              "size": 10,
              "solidity": 0.2
             }
            },
            "type": "histogram"
           }
          ],
          "histogram2d": [
           {
            "colorbar": {
             "outlinewidth": 0,
             "ticks": ""
            },
            "colorscale": [
             [
              0,
              "#0d0887"
             ],
             [
              0.1111111111111111,
              "#46039f"
             ],
             [
              0.2222222222222222,
              "#7201a8"
             ],
             [
              0.3333333333333333,
              "#9c179e"
             ],
             [
              0.4444444444444444,
              "#bd3786"
             ],
             [
              0.5555555555555556,
              "#d8576b"
             ],
             [
              0.6666666666666666,
              "#ed7953"
             ],
             [
              0.7777777777777778,
              "#fb9f3a"
             ],
             [
              0.8888888888888888,
              "#fdca26"
             ],
             [
              1,
              "#f0f921"
             ]
            ],
            "type": "histogram2d"
           }
          ],
          "histogram2dcontour": [
           {
            "colorbar": {
             "outlinewidth": 0,
             "ticks": ""
            },
            "colorscale": [
             [
              0,
              "#0d0887"
             ],
             [
              0.1111111111111111,
              "#46039f"
             ],
             [
              0.2222222222222222,
              "#7201a8"
             ],
             [
              0.3333333333333333,
              "#9c179e"
             ],
             [
              0.4444444444444444,
              "#bd3786"
             ],
             [
              0.5555555555555556,
              "#d8576b"
             ],
             [
              0.6666666666666666,
              "#ed7953"
             ],
             [
              0.7777777777777778,
              "#fb9f3a"
             ],
             [
              0.8888888888888888,
              "#fdca26"
             ],
             [
              1,
              "#f0f921"
             ]
            ],
            "type": "histogram2dcontour"
           }
          ],
          "mesh3d": [
           {
            "colorbar": {
             "outlinewidth": 0,
             "ticks": ""
            },
            "type": "mesh3d"
           }
          ],
          "parcoords": [
           {
            "line": {
             "colorbar": {
              "outlinewidth": 0,
              "ticks": ""
             }
            },
            "type": "parcoords"
           }
          ],
          "pie": [
           {
            "automargin": true,
            "type": "pie"
           }
          ],
          "scatter": [
           {
            "marker": {
             "colorbar": {
              "outlinewidth": 0,
              "ticks": ""
             }
            },
            "type": "scatter"
           }
          ],
          "scatter3d": [
           {
            "line": {
             "colorbar": {
              "outlinewidth": 0,
              "ticks": ""
             }
            },
            "marker": {
             "colorbar": {
              "outlinewidth": 0,
              "ticks": ""
             }
            },
            "type": "scatter3d"
           }
          ],
          "scattercarpet": [
           {
            "marker": {
             "colorbar": {
              "outlinewidth": 0,
              "ticks": ""
             }
            },
            "type": "scattercarpet"
           }
          ],
          "scattergeo": [
           {
            "marker": {
             "colorbar": {
              "outlinewidth": 0,
              "ticks": ""
             }
            },
            "type": "scattergeo"
           }
          ],
          "scattergl": [
           {
            "marker": {
             "colorbar": {
              "outlinewidth": 0,
              "ticks": ""
             }
            },
            "type": "scattergl"
           }
          ],
          "scattermapbox": [
           {
            "marker": {
             "colorbar": {
              "outlinewidth": 0,
              "ticks": ""
             }
            },
            "type": "scattermapbox"
           }
          ],
          "scatterpolar": [
           {
            "marker": {
             "colorbar": {
              "outlinewidth": 0,
              "ticks": ""
             }
            },
            "type": "scatterpolar"
           }
          ],
          "scatterpolargl": [
           {
            "marker": {
             "colorbar": {
              "outlinewidth": 0,
              "ticks": ""
             }
            },
            "type": "scatterpolargl"
           }
          ],
          "scatterternary": [
           {
            "marker": {
             "colorbar": {
              "outlinewidth": 0,
              "ticks": ""
             }
            },
            "type": "scatterternary"
           }
          ],
          "surface": [
           {
            "colorbar": {
             "outlinewidth": 0,
             "ticks": ""
            },
            "colorscale": [
             [
              0,
              "#0d0887"
             ],
             [
              0.1111111111111111,
              "#46039f"
             ],
             [
              0.2222222222222222,
              "#7201a8"
             ],
             [
              0.3333333333333333,
              "#9c179e"
             ],
             [
              0.4444444444444444,
              "#bd3786"
             ],
             [
              0.5555555555555556,
              "#d8576b"
             ],
             [
              0.6666666666666666,
              "#ed7953"
             ],
             [
              0.7777777777777778,
              "#fb9f3a"
             ],
             [
              0.8888888888888888,
              "#fdca26"
             ],
             [
              1,
              "#f0f921"
             ]
            ],
            "type": "surface"
           }
          ],
          "table": [
           {
            "cells": {
             "fill": {
              "color": "#EBF0F8"
             },
             "line": {
              "color": "white"
             }
            },
            "header": {
             "fill": {
              "color": "#C8D4E3"
             },
             "line": {
              "color": "white"
             }
            },
            "type": "table"
           }
          ]
         },
         "layout": {
          "annotationdefaults": {
           "arrowcolor": "#2a3f5f",
           "arrowhead": 0,
           "arrowwidth": 1
          },
          "autotypenumbers": "strict",
          "coloraxis": {
           "colorbar": {
            "outlinewidth": 0,
            "ticks": ""
           }
          },
          "colorscale": {
           "diverging": [
            [
             0,
             "#8e0152"
            ],
            [
             0.1,
             "#c51b7d"
            ],
            [
             0.2,
             "#de77ae"
            ],
            [
             0.3,
             "#f1b6da"
            ],
            [
             0.4,
             "#fde0ef"
            ],
            [
             0.5,
             "#f7f7f7"
            ],
            [
             0.6,
             "#e6f5d0"
            ],
            [
             0.7,
             "#b8e186"
            ],
            [
             0.8,
             "#7fbc41"
            ],
            [
             0.9,
             "#4d9221"
            ],
            [
             1,
             "#276419"
            ]
           ],
           "sequential": [
            [
             0,
             "#0d0887"
            ],
            [
             0.1111111111111111,
             "#46039f"
            ],
            [
             0.2222222222222222,
             "#7201a8"
            ],
            [
             0.3333333333333333,
             "#9c179e"
            ],
            [
             0.4444444444444444,
             "#bd3786"
            ],
            [
             0.5555555555555556,
             "#d8576b"
            ],
            [
             0.6666666666666666,
             "#ed7953"
            ],
            [
             0.7777777777777778,
             "#fb9f3a"
            ],
            [
             0.8888888888888888,
             "#fdca26"
            ],
            [
             1,
             "#f0f921"
            ]
           ],
           "sequentialminus": [
            [
             0,
             "#0d0887"
            ],
            [
             0.1111111111111111,
             "#46039f"
            ],
            [
             0.2222222222222222,
             "#7201a8"
            ],
            [
             0.3333333333333333,
             "#9c179e"
            ],
            [
             0.4444444444444444,
             "#bd3786"
            ],
            [
             0.5555555555555556,
             "#d8576b"
            ],
            [
             0.6666666666666666,
             "#ed7953"
            ],
            [
             0.7777777777777778,
             "#fb9f3a"
            ],
            [
             0.8888888888888888,
             "#fdca26"
            ],
            [
             1,
             "#f0f921"
            ]
           ]
          },
          "colorway": [
           "#636efa",
           "#EF553B",
           "#00cc96",
           "#ab63fa",
           "#FFA15A",
           "#19d3f3",
           "#FF6692",
           "#B6E880",
           "#FF97FF",
           "#FECB52"
          ],
          "font": {
           "color": "#2a3f5f"
          },
          "geo": {
           "bgcolor": "white",
           "lakecolor": "white",
           "landcolor": "#E5ECF6",
           "showlakes": true,
           "showland": true,
           "subunitcolor": "white"
          },
          "hoverlabel": {
           "align": "left"
          },
          "hovermode": "closest",
          "mapbox": {
           "style": "light"
          },
          "paper_bgcolor": "white",
          "plot_bgcolor": "#E5ECF6",
          "polar": {
           "angularaxis": {
            "gridcolor": "white",
            "linecolor": "white",
            "ticks": ""
           },
           "bgcolor": "#E5ECF6",
           "radialaxis": {
            "gridcolor": "white",
            "linecolor": "white",
            "ticks": ""
           }
          },
          "scene": {
           "xaxis": {
            "backgroundcolor": "#E5ECF6",
            "gridcolor": "white",
            "gridwidth": 2,
            "linecolor": "white",
            "showbackground": true,
            "ticks": "",
            "zerolinecolor": "white"
           },
           "yaxis": {
            "backgroundcolor": "#E5ECF6",
            "gridcolor": "white",
            "gridwidth": 2,
            "linecolor": "white",
            "showbackground": true,
            "ticks": "",
            "zerolinecolor": "white"
           },
           "zaxis": {
            "backgroundcolor": "#E5ECF6",
            "gridcolor": "white",
            "gridwidth": 2,
            "linecolor": "white",
            "showbackground": true,
            "ticks": "",
            "zerolinecolor": "white"
           }
          },
          "shapedefaults": {
           "line": {
            "color": "#2a3f5f"
           }
          },
          "ternary": {
           "aaxis": {
            "gridcolor": "white",
            "linecolor": "white",
            "ticks": ""
           },
           "baxis": {
            "gridcolor": "white",
            "linecolor": "white",
            "ticks": ""
           },
           "bgcolor": "#E5ECF6",
           "caxis": {
            "gridcolor": "white",
            "linecolor": "white",
            "ticks": ""
           }
          },
          "title": {
           "x": 0.05
          },
          "xaxis": {
           "automargin": true,
           "gridcolor": "white",
           "linecolor": "white",
           "ticks": "",
           "title": {
            "standoff": 15
           },
           "zerolinecolor": "white",
           "zerolinewidth": 2
          },
          "yaxis": {
           "automargin": true,
           "gridcolor": "white",
           "linecolor": "white",
           "ticks": "",
           "title": {
            "standoff": 15
           },
           "zerolinecolor": "white",
           "zerolinewidth": 2
          }
         }
        },
        "title": {
         "text": "Number of colonies and production: Summary 2014"
        },
        "width": 1200
       }
      }
     },
     "metadata": {},
     "output_type": "display_data"
    }
   ],
   "source": [
    "# filtering per year\n",
    "\n",
    "year = 2014\n",
    "df_year = df.query(f\"year == {year}\")\n",
    "\n",
    "labels = df_year.StateName\n",
    "values1 = df_year.numcol\n",
    "values2 = df_year.totalprod\n",
    "values3 = df_year.nAllNeonic\n",
    "\n",
    "# Create subplots: use 'domain' type for Pie subplot\n",
    "\n",
    "fig = make_subplots(rows=1, cols=3, \n",
    "                specs=[[{'type':'domain'}, {'type':'domain'}, {'type':'domain'}]],\n",
    "                subplot_titles=(\"Number of colonies\",\"Production\", \"Neocotinoids usage (kg)\"))\n",
    "\n",
    "fig.add_trace(go.Pie(labels=labels, values=values1, name=\"Colonies\"),\n",
    "              1, 1)\n",
    "fig.add_trace(go.Pie(labels=labels, values=values2, name=\"Production\"),\n",
    "              1, 2)\n",
    "fig.add_trace(go.Pie(labels=labels, values=values3, name=\"Neo\"),\n",
    "              1, 3)\n",
    "# Use `hole` to create a donut-like pie chart\n",
    "fig.update_traces(hole=.4, hoverinfo=\"label+percent+name\")\n",
    "fig.update_traces(textposition='inside', textfont_size=14)\n",
    "fig.update_layout(\n",
    "    title_text=f\"Number of colonies and production: Summary {year}\",            \n",
    "    showlegend=True,   \n",
    "    autosize=False,\n",
    "    width=1200,\n",
    "    height=500,)\n",
    "fig.show()"
   ]
  },
  {
   "cell_type": "code",
   "execution_count": 19,
   "metadata": {},
   "outputs": [],
   "source": [
    "year = 2014\n",
    "df_year = df.query(f\"year == {year}\")\n",
    "\n",
    "labels = df_year.StateName\n",
    "values1 = df_year.numcol\n",
    "values2 = df_year.totalprod\n",
    "values3 = df_year.nAllNeonic"
   ]
  },
  {
   "cell_type": "markdown",
   "metadata": {},
   "source": [
    "# By region"
   ]
  },
  {
   "cell_type": "code",
   "execution_count": 20,
   "metadata": {},
   "outputs": [
    {
     "data": {
      "text/plain": [
       "array(['South', 'West', 'Midwest', 'Northeast'], dtype=object)"
      ]
     },
     "execution_count": 20,
     "metadata": {},
     "output_type": "execute_result"
    }
   ],
   "source": [
    "df['Region'].unique()"
   ]
  },
  {
   "cell_type": "code",
   "execution_count": 21,
   "metadata": {},
   "outputs": [
    {
     "data": {
      "application/vnd.plotly.v1+json": {
       "config": {
        "plotlyServerURL": "https://plot.ly"
       },
       "data": [
        {
         "domain": {
          "x": [
           0,
           1
          ],
          "y": [
           0,
           1
          ]
         },
         "hovertemplate": "StateName=%{label}<br>numcol=%{value}<extra></extra>",
         "labels": [
          "Alabama",
          "Arkansas",
          "Florida",
          "Georgia",
          "Kentucky",
          "Louisiana",
          "Mississippi",
          "North Carolina",
          "South Carolina",
          "Tennessee",
          "Texas",
          "Virginia",
          "West Virginia"
         ],
         "legendgroup": "",
         "name": "",
         "showlegend": true,
         "type": "pie",
         "values": [
          7000,
          29000,
          205000,
          99000,
          5000,
          43000,
          13000,
          11000,
          16000,
          7000,
          120000,
          5000,
          6000
         ]
        }
       ],
       "layout": {
        "autosize": false,
        "height": 600,
        "legend": {
         "tracegroupgap": 0
        },
        "showlegend": true,
        "template": {
         "data": {
          "bar": [
           {
            "error_x": {
             "color": "#2a3f5f"
            },
            "error_y": {
             "color": "#2a3f5f"
            },
            "marker": {
             "line": {
              "color": "#E5ECF6",
              "width": 0.5
             },
             "pattern": {
              "fillmode": "overlay",
              "size": 10,
              "solidity": 0.2
             }
            },
            "type": "bar"
           }
          ],
          "barpolar": [
           {
            "marker": {
             "line": {
              "color": "#E5ECF6",
              "width": 0.5
             },
             "pattern": {
              "fillmode": "overlay",
              "size": 10,
              "solidity": 0.2
             }
            },
            "type": "barpolar"
           }
          ],
          "carpet": [
           {
            "aaxis": {
             "endlinecolor": "#2a3f5f",
             "gridcolor": "white",
             "linecolor": "white",
             "minorgridcolor": "white",
             "startlinecolor": "#2a3f5f"
            },
            "baxis": {
             "endlinecolor": "#2a3f5f",
             "gridcolor": "white",
             "linecolor": "white",
             "minorgridcolor": "white",
             "startlinecolor": "#2a3f5f"
            },
            "type": "carpet"
           }
          ],
          "choropleth": [
           {
            "colorbar": {
             "outlinewidth": 0,
             "ticks": ""
            },
            "type": "choropleth"
           }
          ],
          "contour": [
           {
            "colorbar": {
             "outlinewidth": 0,
             "ticks": ""
            },
            "colorscale": [
             [
              0,
              "#0d0887"
             ],
             [
              0.1111111111111111,
              "#46039f"
             ],
             [
              0.2222222222222222,
              "#7201a8"
             ],
             [
              0.3333333333333333,
              "#9c179e"
             ],
             [
              0.4444444444444444,
              "#bd3786"
             ],
             [
              0.5555555555555556,
              "#d8576b"
             ],
             [
              0.6666666666666666,
              "#ed7953"
             ],
             [
              0.7777777777777778,
              "#fb9f3a"
             ],
             [
              0.8888888888888888,
              "#fdca26"
             ],
             [
              1,
              "#f0f921"
             ]
            ],
            "type": "contour"
           }
          ],
          "contourcarpet": [
           {
            "colorbar": {
             "outlinewidth": 0,
             "ticks": ""
            },
            "type": "contourcarpet"
           }
          ],
          "heatmap": [
           {
            "colorbar": {
             "outlinewidth": 0,
             "ticks": ""
            },
            "colorscale": [
             [
              0,
              "#0d0887"
             ],
             [
              0.1111111111111111,
              "#46039f"
             ],
             [
              0.2222222222222222,
              "#7201a8"
             ],
             [
              0.3333333333333333,
              "#9c179e"
             ],
             [
              0.4444444444444444,
              "#bd3786"
             ],
             [
              0.5555555555555556,
              "#d8576b"
             ],
             [
              0.6666666666666666,
              "#ed7953"
             ],
             [
              0.7777777777777778,
              "#fb9f3a"
             ],
             [
              0.8888888888888888,
              "#fdca26"
             ],
             [
              1,
              "#f0f921"
             ]
            ],
            "type": "heatmap"
           }
          ],
          "heatmapgl": [
           {
            "colorbar": {
             "outlinewidth": 0,
             "ticks": ""
            },
            "colorscale": [
             [
              0,
              "#0d0887"
             ],
             [
              0.1111111111111111,
              "#46039f"
             ],
             [
              0.2222222222222222,
              "#7201a8"
             ],
             [
              0.3333333333333333,
              "#9c179e"
             ],
             [
              0.4444444444444444,
              "#bd3786"
             ],
             [
              0.5555555555555556,
              "#d8576b"
             ],
             [
              0.6666666666666666,
              "#ed7953"
             ],
             [
              0.7777777777777778,
              "#fb9f3a"
             ],
             [
              0.8888888888888888,
              "#fdca26"
             ],
             [
              1,
              "#f0f921"
             ]
            ],
            "type": "heatmapgl"
           }
          ],
          "histogram": [
           {
            "marker": {
             "pattern": {
              "fillmode": "overlay",
              "size": 10,
              "solidity": 0.2
             }
            },
            "type": "histogram"
           }
          ],
          "histogram2d": [
           {
            "colorbar": {
             "outlinewidth": 0,
             "ticks": ""
            },
            "colorscale": [
             [
              0,
              "#0d0887"
             ],
             [
              0.1111111111111111,
              "#46039f"
             ],
             [
              0.2222222222222222,
              "#7201a8"
             ],
             [
              0.3333333333333333,
              "#9c179e"
             ],
             [
              0.4444444444444444,
              "#bd3786"
             ],
             [
              0.5555555555555556,
              "#d8576b"
             ],
             [
              0.6666666666666666,
              "#ed7953"
             ],
             [
              0.7777777777777778,
              "#fb9f3a"
             ],
             [
              0.8888888888888888,
              "#fdca26"
             ],
             [
              1,
              "#f0f921"
             ]
            ],
            "type": "histogram2d"
           }
          ],
          "histogram2dcontour": [
           {
            "colorbar": {
             "outlinewidth": 0,
             "ticks": ""
            },
            "colorscale": [
             [
              0,
              "#0d0887"
             ],
             [
              0.1111111111111111,
              "#46039f"
             ],
             [
              0.2222222222222222,
              "#7201a8"
             ],
             [
              0.3333333333333333,
              "#9c179e"
             ],
             [
              0.4444444444444444,
              "#bd3786"
             ],
             [
              0.5555555555555556,
              "#d8576b"
             ],
             [
              0.6666666666666666,
              "#ed7953"
             ],
             [
              0.7777777777777778,
              "#fb9f3a"
             ],
             [
              0.8888888888888888,
              "#fdca26"
             ],
             [
              1,
              "#f0f921"
             ]
            ],
            "type": "histogram2dcontour"
           }
          ],
          "mesh3d": [
           {
            "colorbar": {
             "outlinewidth": 0,
             "ticks": ""
            },
            "type": "mesh3d"
           }
          ],
          "parcoords": [
           {
            "line": {
             "colorbar": {
              "outlinewidth": 0,
              "ticks": ""
             }
            },
            "type": "parcoords"
           }
          ],
          "pie": [
           {
            "automargin": true,
            "type": "pie"
           }
          ],
          "scatter": [
           {
            "marker": {
             "colorbar": {
              "outlinewidth": 0,
              "ticks": ""
             }
            },
            "type": "scatter"
           }
          ],
          "scatter3d": [
           {
            "line": {
             "colorbar": {
              "outlinewidth": 0,
              "ticks": ""
             }
            },
            "marker": {
             "colorbar": {
              "outlinewidth": 0,
              "ticks": ""
             }
            },
            "type": "scatter3d"
           }
          ],
          "scattercarpet": [
           {
            "marker": {
             "colorbar": {
              "outlinewidth": 0,
              "ticks": ""
             }
            },
            "type": "scattercarpet"
           }
          ],
          "scattergeo": [
           {
            "marker": {
             "colorbar": {
              "outlinewidth": 0,
              "ticks": ""
             }
            },
            "type": "scattergeo"
           }
          ],
          "scattergl": [
           {
            "marker": {
             "colorbar": {
              "outlinewidth": 0,
              "ticks": ""
             }
            },
            "type": "scattergl"
           }
          ],
          "scattermapbox": [
           {
            "marker": {
             "colorbar": {
              "outlinewidth": 0,
              "ticks": ""
             }
            },
            "type": "scattermapbox"
           }
          ],
          "scatterpolar": [
           {
            "marker": {
             "colorbar": {
              "outlinewidth": 0,
              "ticks": ""
             }
            },
            "type": "scatterpolar"
           }
          ],
          "scatterpolargl": [
           {
            "marker": {
             "colorbar": {
              "outlinewidth": 0,
              "ticks": ""
             }
            },
            "type": "scatterpolargl"
           }
          ],
          "scatterternary": [
           {
            "marker": {
             "colorbar": {
              "outlinewidth": 0,
              "ticks": ""
             }
            },
            "type": "scatterternary"
           }
          ],
          "surface": [
           {
            "colorbar": {
             "outlinewidth": 0,
             "ticks": ""
            },
            "colorscale": [
             [
              0,
              "#0d0887"
             ],
             [
              0.1111111111111111,
              "#46039f"
             ],
             [
              0.2222222222222222,
              "#7201a8"
             ],
             [
              0.3333333333333333,
              "#9c179e"
             ],
             [
              0.4444444444444444,
              "#bd3786"
             ],
             [
              0.5555555555555556,
              "#d8576b"
             ],
             [
              0.6666666666666666,
              "#ed7953"
             ],
             [
              0.7777777777777778,
              "#fb9f3a"
             ],
             [
              0.8888888888888888,
              "#fdca26"
             ],
             [
              1,
              "#f0f921"
             ]
            ],
            "type": "surface"
           }
          ],
          "table": [
           {
            "cells": {
             "fill": {
              "color": "#EBF0F8"
             },
             "line": {
              "color": "white"
             }
            },
            "header": {
             "fill": {
              "color": "#C8D4E3"
             },
             "line": {
              "color": "white"
             }
            },
            "type": "table"
           }
          ]
         },
         "layout": {
          "annotationdefaults": {
           "arrowcolor": "#2a3f5f",
           "arrowhead": 0,
           "arrowwidth": 1
          },
          "autotypenumbers": "strict",
          "coloraxis": {
           "colorbar": {
            "outlinewidth": 0,
            "ticks": ""
           }
          },
          "colorscale": {
           "diverging": [
            [
             0,
             "#8e0152"
            ],
            [
             0.1,
             "#c51b7d"
            ],
            [
             0.2,
             "#de77ae"
            ],
            [
             0.3,
             "#f1b6da"
            ],
            [
             0.4,
             "#fde0ef"
            ],
            [
             0.5,
             "#f7f7f7"
            ],
            [
             0.6,
             "#e6f5d0"
            ],
            [
             0.7,
             "#b8e186"
            ],
            [
             0.8,
             "#7fbc41"
            ],
            [
             0.9,
             "#4d9221"
            ],
            [
             1,
             "#276419"
            ]
           ],
           "sequential": [
            [
             0,
             "#0d0887"
            ],
            [
             0.1111111111111111,
             "#46039f"
            ],
            [
             0.2222222222222222,
             "#7201a8"
            ],
            [
             0.3333333333333333,
             "#9c179e"
            ],
            [
             0.4444444444444444,
             "#bd3786"
            ],
            [
             0.5555555555555556,
             "#d8576b"
            ],
            [
             0.6666666666666666,
             "#ed7953"
            ],
            [
             0.7777777777777778,
             "#fb9f3a"
            ],
            [
             0.8888888888888888,
             "#fdca26"
            ],
            [
             1,
             "#f0f921"
            ]
           ],
           "sequentialminus": [
            [
             0,
             "#0d0887"
            ],
            [
             0.1111111111111111,
             "#46039f"
            ],
            [
             0.2222222222222222,
             "#7201a8"
            ],
            [
             0.3333333333333333,
             "#9c179e"
            ],
            [
             0.4444444444444444,
             "#bd3786"
            ],
            [
             0.5555555555555556,
             "#d8576b"
            ],
            [
             0.6666666666666666,
             "#ed7953"
            ],
            [
             0.7777777777777778,
             "#fb9f3a"
            ],
            [
             0.8888888888888888,
             "#fdca26"
            ],
            [
             1,
             "#f0f921"
            ]
           ]
          },
          "colorway": [
           "#636efa",
           "#EF553B",
           "#00cc96",
           "#ab63fa",
           "#FFA15A",
           "#19d3f3",
           "#FF6692",
           "#B6E880",
           "#FF97FF",
           "#FECB52"
          ],
          "font": {
           "color": "#2a3f5f"
          },
          "geo": {
           "bgcolor": "white",
           "lakecolor": "white",
           "landcolor": "#E5ECF6",
           "showlakes": true,
           "showland": true,
           "subunitcolor": "white"
          },
          "hoverlabel": {
           "align": "left"
          },
          "hovermode": "closest",
          "mapbox": {
           "style": "light"
          },
          "paper_bgcolor": "white",
          "plot_bgcolor": "#E5ECF6",
          "polar": {
           "angularaxis": {
            "gridcolor": "white",
            "linecolor": "white",
            "ticks": ""
           },
           "bgcolor": "#E5ECF6",
           "radialaxis": {
            "gridcolor": "white",
            "linecolor": "white",
            "ticks": ""
           }
          },
          "scene": {
           "xaxis": {
            "backgroundcolor": "#E5ECF6",
            "gridcolor": "white",
            "gridwidth": 2,
            "linecolor": "white",
            "showbackground": true,
            "ticks": "",
            "zerolinecolor": "white"
           },
           "yaxis": {
            "backgroundcolor": "#E5ECF6",
            "gridcolor": "white",
            "gridwidth": 2,
            "linecolor": "white",
            "showbackground": true,
            "ticks": "",
            "zerolinecolor": "white"
           },
           "zaxis": {
            "backgroundcolor": "#E5ECF6",
            "gridcolor": "white",
            "gridwidth": 2,
            "linecolor": "white",
            "showbackground": true,
            "ticks": "",
            "zerolinecolor": "white"
           }
          },
          "shapedefaults": {
           "line": {
            "color": "#2a3f5f"
           }
          },
          "ternary": {
           "aaxis": {
            "gridcolor": "white",
            "linecolor": "white",
            "ticks": ""
           },
           "baxis": {
            "gridcolor": "white",
            "linecolor": "white",
            "ticks": ""
           },
           "bgcolor": "#E5ECF6",
           "caxis": {
            "gridcolor": "white",
            "linecolor": "white",
            "ticks": ""
           }
          },
          "title": {
           "x": 0.05
          },
          "xaxis": {
           "automargin": true,
           "gridcolor": "white",
           "linecolor": "white",
           "ticks": "",
           "title": {
            "standoff": 15
           },
           "zerolinecolor": "white",
           "zerolinewidth": 2
          },
          "yaxis": {
           "automargin": true,
           "gridcolor": "white",
           "linecolor": "white",
           "ticks": "",
           "title": {
            "standoff": 15
           },
           "zerolinecolor": "white",
           "zerolinewidth": 2
          }
         }
        },
        "title": {
         "text": "Specs with Subplot Title"
        },
        "width": 600
       }
      }
     },
     "metadata": {},
     "output_type": "display_data"
    }
   ],
   "source": [
    "year = 2017\n",
    "region = 'South'\n",
    "df_rg = df.query(f\"year == {year}\").query(f\"Region == '{region}'\")\n",
    "fig = px.pie(df_rg, values='numcol', names='StateName', title=f'Number of colonies in the {region} region for {year}')\n",
    "fig.update_layout(\n",
    "    showlegend=True, \n",
    "    title_text=\"Specs with Subplot Title\",     \n",
    "    autosize=False,\n",
    "    width=600,\n",
    "    height=600,)\n",
    "fig.show()"
   ]
  },
  {
   "cell_type": "code",
   "execution_count": 22,
   "metadata": {},
   "outputs": [
    {
     "data": {
      "application/vnd.plotly.v1+json": {
       "config": {
        "plotlyServerURL": "https://plot.ly"
       },
       "data": [
        {
         "hovertemplate": "StateName=Arizona<br>year=%{x}<br>nCLOTHIANIDIN=%{y}<extra></extra>",
         "legendgroup": "Arizona",
         "line": {
          "color": "#636efa",
          "dash": "solid"
         },
         "marker": {
          "symbol": "circle"
         },
         "mode": "lines",
         "name": "Arizona",
         "orientation": "v",
         "showlegend": true,
         "type": "scatter",
         "x": [
          1991,
          1992,
          1993,
          1994,
          1995,
          1996,
          1997,
          1998,
          1999,
          2000,
          2001,
          2002,
          2003,
          2004,
          2005,
          2006,
          2007,
          2008,
          2009,
          2010,
          2011,
          2012,
          2013,
          2014,
          2015,
          2016,
          2017
         ],
         "xaxis": "x",
         "y": [
          null,
          null,
          null,
          0,
          0,
          0,
          0,
          0,
          0,
          0,
          0,
          0,
          0,
          96.7,
          0,
          48.7,
          48.7,
          0,
          266,
          921.7,
          1188.3,
          2036.4,
          2139.8,
          2262.1,
          223.1,
          null,
          null
         ],
         "yaxis": "y"
        },
        {
         "hovertemplate": "StateName=California<br>year=%{x}<br>nCLOTHIANIDIN=%{y}<extra></extra>",
         "legendgroup": "California",
         "line": {
          "color": "#EF553B",
          "dash": "solid"
         },
         "marker": {
          "symbol": "circle"
         },
         "mode": "lines",
         "name": "California",
         "orientation": "v",
         "showlegend": true,
         "type": "scatter",
         "x": [
          1991,
          1992,
          1993,
          1994,
          1995,
          1996,
          1997,
          1998,
          1999,
          2000,
          2001,
          2002,
          2003,
          2004,
          2005,
          2006,
          2007,
          2008,
          2009,
          2010,
          2011,
          2012,
          2013,
          2014,
          2015,
          2016,
          2017
         ],
         "xaxis": "x",
         "y": [
          null,
          null,
          null,
          0,
          0,
          0,
          0,
          0,
          0,
          0,
          0,
          0,
          0,
          0,
          0,
          0,
          1.3,
          608,
          796.9,
          1410.8,
          14229.5,
          2898.1,
          6569.3,
          7845.2,
          143619.6,
          null,
          null
         ],
         "yaxis": "y"
        },
        {
         "hovertemplate": "StateName=Colorado<br>year=%{x}<br>nCLOTHIANIDIN=%{y}<extra></extra>",
         "legendgroup": "Colorado",
         "line": {
          "color": "#00cc96",
          "dash": "solid"
         },
         "marker": {
          "symbol": "circle"
         },
         "mode": "lines",
         "name": "Colorado",
         "orientation": "v",
         "showlegend": true,
         "type": "scatter",
         "x": [
          1991,
          1992,
          1993,
          1994,
          1995,
          1996,
          1997,
          1998,
          1999,
          2000,
          2001,
          2002,
          2003,
          2004,
          2005,
          2006,
          2007,
          2008,
          2009,
          2010,
          2011,
          2012,
          2013,
          2014,
          2015,
          2016,
          2017
         ],
         "xaxis": "x",
         "y": [
          null,
          null,
          null,
          null,
          0,
          0,
          0,
          0,
          0,
          0,
          0,
          0,
          0,
          1861.5,
          5369.9,
          3165.9,
          2223.3,
          4894.1,
          7375.4,
          16623.2,
          20234.1,
          12283.8,
          9791.5,
          8658.2,
          0,
          null,
          null
         ],
         "yaxis": "y"
        },
        {
         "hovertemplate": "StateName=Hawaii<br>year=%{x}<br>nCLOTHIANIDIN=%{y}<extra></extra>",
         "legendgroup": "Hawaii",
         "line": {
          "color": "#ab63fa",
          "dash": "solid"
         },
         "marker": {
          "symbol": "circle"
         },
         "mode": "lines",
         "name": "Hawaii",
         "orientation": "v",
         "showlegend": true,
         "type": "scatter",
         "x": [
          1991,
          1992,
          1993,
          1994,
          1995,
          1996,
          1997,
          1998,
          1999,
          2000,
          2001,
          2002,
          2003,
          2004,
          2005,
          2006,
          2007,
          2008,
          2009,
          2010,
          2011,
          2012,
          2013,
          2014,
          2015,
          2016,
          2017
         ],
         "xaxis": "x",
         "y": [
          null,
          null,
          null,
          null,
          null,
          null,
          null,
          null,
          null,
          null,
          null,
          null,
          null,
          null,
          null,
          null,
          null,
          null,
          null,
          null,
          null,
          null,
          null,
          null,
          null,
          null,
          null
         ],
         "yaxis": "y"
        },
        {
         "hovertemplate": "StateName=Idaho<br>year=%{x}<br>nCLOTHIANIDIN=%{y}<extra></extra>",
         "legendgroup": "Idaho",
         "line": {
          "color": "#FFA15A",
          "dash": "solid"
         },
         "marker": {
          "symbol": "circle"
         },
         "mode": "lines",
         "name": "Idaho",
         "orientation": "v",
         "showlegend": true,
         "type": "scatter",
         "x": [
          1991,
          1992,
          1993,
          1994,
          1995,
          1996,
          1997,
          1998,
          1999,
          2000,
          2001,
          2002,
          2003,
          2004,
          2005,
          2006,
          2007,
          2008,
          2009,
          2010,
          2011,
          2012,
          2013,
          2014,
          2015,
          2016,
          2017
         ],
         "xaxis": "x",
         "y": [
          null,
          null,
          null,
          0,
          0,
          0,
          0,
          0,
          0,
          0,
          0,
          0,
          0,
          0.3,
          99.1,
          1186.8,
          60.6,
          470.2,
          2353.4,
          4288.3,
          1157.6,
          3325.7,
          4217.4,
          6741.1,
          0.3,
          1.1,
          null
         ],
         "yaxis": "y"
        },
        {
         "hovertemplate": "StateName=Montana<br>year=%{x}<br>nCLOTHIANIDIN=%{y}<extra></extra>",
         "legendgroup": "Montana",
         "line": {
          "color": "#19d3f3",
          "dash": "solid"
         },
         "marker": {
          "symbol": "circle"
         },
         "mode": "lines",
         "name": "Montana",
         "orientation": "v",
         "showlegend": true,
         "type": "scatter",
         "x": [
          1991,
          1992,
          1993,
          1994,
          1995,
          1996,
          1997,
          1998,
          1999,
          2000,
          2001,
          2002,
          2003,
          2004,
          2005,
          2006,
          2007,
          2008,
          2009,
          2010,
          2011,
          2012,
          2013,
          2014,
          2015,
          2016,
          2017
         ],
         "xaxis": "x",
         "y": [
          null,
          null,
          null,
          null,
          0,
          0,
          0,
          0,
          0,
          0,
          0,
          0,
          0,
          110,
          87.4,
          17.5,
          96.1,
          443.8,
          621.9,
          2595.9,
          801.9,
          1460.8,
          1438.8,
          2529.9,
          0,
          0,
          null
         ],
         "yaxis": "y"
        },
        {
         "hovertemplate": "StateName=Nevada<br>year=%{x}<br>nCLOTHIANIDIN=%{y}<extra></extra>",
         "legendgroup": "Nevada",
         "line": {
          "color": "#FF6692",
          "dash": "solid"
         },
         "marker": {
          "symbol": "circle"
         },
         "mode": "lines",
         "name": "Nevada",
         "orientation": "v",
         "showlegend": true,
         "type": "scatter",
         "x": [
          1991,
          1992,
          1993,
          1994,
          1995,
          1996,
          1997,
          1998,
          1999,
          2000,
          2001,
          2002,
          2003,
          2004,
          2005,
          2006,
          2007,
          2008
         ],
         "xaxis": "x",
         "y": [
          null,
          null,
          null,
          0,
          0,
          0,
          0,
          0,
          0,
          0,
          0,
          0,
          0,
          7.4,
          1.1,
          20.5,
          1.1,
          5.3
         ],
         "yaxis": "y"
        },
        {
         "hovertemplate": "StateName=New Mexico<br>year=%{x}<br>nCLOTHIANIDIN=%{y}<extra></extra>",
         "legendgroup": "New Mexico",
         "line": {
          "color": "#B6E880",
          "dash": "solid"
         },
         "marker": {
          "symbol": "circle"
         },
         "mode": "lines",
         "name": "New Mexico",
         "orientation": "v",
         "showlegend": true,
         "type": "scatter",
         "x": [
          1991,
          1992,
          1993,
          1994,
          1995,
          1996,
          1997,
          1998,
          1999,
          2000,
          2001,
          2002,
          2003,
          2004,
          2005,
          2006,
          2007,
          2008,
          2009,
          2010,
          2011,
          2012
         ],
         "xaxis": "x",
         "y": [
          null,
          null,
          null,
          null,
          0,
          0,
          0,
          0,
          0,
          0,
          0,
          0,
          0,
          157.9,
          682.3,
          222.6,
          478.1,
          876.2,
          661.2,
          1111.4,
          779.5,
          2160.8
         ],
         "yaxis": "y"
        },
        {
         "hovertemplate": "StateName=Oregon<br>year=%{x}<br>nCLOTHIANIDIN=%{y}<extra></extra>",
         "legendgroup": "Oregon",
         "line": {
          "color": "#FF97FF",
          "dash": "solid"
         },
         "marker": {
          "symbol": "circle"
         },
         "mode": "lines",
         "name": "Oregon",
         "orientation": "v",
         "showlegend": true,
         "type": "scatter",
         "x": [
          1991,
          1992,
          1993,
          1994,
          1995,
          1996,
          1997,
          1998,
          1999,
          2000,
          2001,
          2002,
          2003,
          2004,
          2005,
          2006,
          2007,
          2008,
          2009,
          2010,
          2011,
          2012,
          2013,
          2014,
          2015,
          2016,
          2017
         ],
         "xaxis": "x",
         "y": [
          null,
          null,
          null,
          0,
          0,
          0,
          0,
          0,
          0,
          0,
          0,
          0,
          0,
          59.2,
          244.9,
          543.4,
          1173.6,
          336.7,
          1027.1,
          1289.4,
          451.8,
          571.2,
          1189.2,
          993.3,
          65.3,
          327.6,
          null
         ],
         "yaxis": "y"
        },
        {
         "hovertemplate": "StateName=Utah<br>year=%{x}<br>nCLOTHIANIDIN=%{y}<extra></extra>",
         "legendgroup": "Utah",
         "line": {
          "color": "#FECB52",
          "dash": "solid"
         },
         "marker": {
          "symbol": "circle"
         },
         "mode": "lines",
         "name": "Utah",
         "orientation": "v",
         "showlegend": true,
         "type": "scatter",
         "x": [
          1991,
          1992,
          1993,
          1994,
          1995,
          1996,
          1997,
          1998,
          1999,
          2000,
          2001,
          2002,
          2003,
          2004,
          2005,
          2006,
          2007,
          2008,
          2009,
          2010,
          2011,
          2012,
          2013,
          2014,
          2015,
          2016,
          2017
         ],
         "xaxis": "x",
         "y": [
          null,
          null,
          null,
          null,
          0,
          0,
          0,
          0,
          0,
          0,
          0,
          0,
          0,
          100.3,
          76.6,
          48.3,
          11.9,
          150.2,
          80.9,
          155.4,
          141.7,
          700.6,
          536.7,
          892.3,
          0,
          0,
          null
         ],
         "yaxis": "y"
        },
        {
         "hovertemplate": "StateName=Washington<br>year=%{x}<br>nCLOTHIANIDIN=%{y}<extra></extra>",
         "legendgroup": "Washington",
         "line": {
          "color": "#636efa",
          "dash": "solid"
         },
         "marker": {
          "symbol": "circle"
         },
         "mode": "lines",
         "name": "Washington",
         "orientation": "v",
         "showlegend": true,
         "type": "scatter",
         "x": [
          1991,
          1992,
          1993,
          1994,
          1995,
          1996,
          1997,
          1998,
          1999,
          2000,
          2001,
          2002,
          2003,
          2004,
          2005,
          2006,
          2007,
          2008,
          2009,
          2010,
          2011,
          2012,
          2013,
          2014,
          2015,
          2016,
          2017
         ],
         "xaxis": "x",
         "y": [
          null,
          null,
          null,
          0,
          0,
          0,
          0,
          0,
          0,
          0,
          0,
          0,
          0,
          23.6,
          3393.6,
          387.7,
          2433.3,
          1424.6,
          1633.3,
          1046.9,
          5530.4,
          4485,
          4413.2,
          3319.3,
          419.9,
          3280.3,
          null
         ],
         "yaxis": "y"
        },
        {
         "hovertemplate": "StateName=Wyoming<br>year=%{x}<br>nCLOTHIANIDIN=%{y}<extra></extra>",
         "legendgroup": "Wyoming",
         "line": {
          "color": "#EF553B",
          "dash": "solid"
         },
         "marker": {
          "symbol": "circle"
         },
         "mode": "lines",
         "name": "Wyoming",
         "orientation": "v",
         "showlegend": true,
         "type": "scatter",
         "x": [
          1991,
          1992,
          1993,
          1994,
          1995,
          1996,
          1997,
          1998,
          1999,
          2000,
          2001,
          2002,
          2003,
          2004,
          2005,
          2006,
          2007,
          2008,
          2009,
          2010,
          2011,
          2012,
          2013,
          2014,
          2015,
          2016,
          2017
         ],
         "xaxis": "x",
         "y": [
          null,
          null,
          null,
          null,
          0,
          0,
          0,
          0,
          0,
          0,
          0,
          0,
          0,
          217.8,
          182.7,
          218.1,
          122.2,
          391.7,
          901.3,
          756.3,
          802.7,
          1174.9,
          840.9,
          1262,
          0,
          0,
          null
         ],
         "yaxis": "y"
        }
       ],
       "layout": {
        "autosize": false,
        "height": 600,
        "legend": {
         "title": {
          "text": "StateName"
         },
         "tracegroupgap": 0
        },
        "margin": {
         "t": 60
        },
        "showlegend": true,
        "template": {
         "data": {
          "bar": [
           {
            "error_x": {
             "color": "#2a3f5f"
            },
            "error_y": {
             "color": "#2a3f5f"
            },
            "marker": {
             "line": {
              "color": "#E5ECF6",
              "width": 0.5
             },
             "pattern": {
              "fillmode": "overlay",
              "size": 10,
              "solidity": 0.2
             }
            },
            "type": "bar"
           }
          ],
          "barpolar": [
           {
            "marker": {
             "line": {
              "color": "#E5ECF6",
              "width": 0.5
             },
             "pattern": {
              "fillmode": "overlay",
              "size": 10,
              "solidity": 0.2
             }
            },
            "type": "barpolar"
           }
          ],
          "carpet": [
           {
            "aaxis": {
             "endlinecolor": "#2a3f5f",
             "gridcolor": "white",
             "linecolor": "white",
             "minorgridcolor": "white",
             "startlinecolor": "#2a3f5f"
            },
            "baxis": {
             "endlinecolor": "#2a3f5f",
             "gridcolor": "white",
             "linecolor": "white",
             "minorgridcolor": "white",
             "startlinecolor": "#2a3f5f"
            },
            "type": "carpet"
           }
          ],
          "choropleth": [
           {
            "colorbar": {
             "outlinewidth": 0,
             "ticks": ""
            },
            "type": "choropleth"
           }
          ],
          "contour": [
           {
            "colorbar": {
             "outlinewidth": 0,
             "ticks": ""
            },
            "colorscale": [
             [
              0,
              "#0d0887"
             ],
             [
              0.1111111111111111,
              "#46039f"
             ],
             [
              0.2222222222222222,
              "#7201a8"
             ],
             [
              0.3333333333333333,
              "#9c179e"
             ],
             [
              0.4444444444444444,
              "#bd3786"
             ],
             [
              0.5555555555555556,
              "#d8576b"
             ],
             [
              0.6666666666666666,
              "#ed7953"
             ],
             [
              0.7777777777777778,
              "#fb9f3a"
             ],
             [
              0.8888888888888888,
              "#fdca26"
             ],
             [
              1,
              "#f0f921"
             ]
            ],
            "type": "contour"
           }
          ],
          "contourcarpet": [
           {
            "colorbar": {
             "outlinewidth": 0,
             "ticks": ""
            },
            "type": "contourcarpet"
           }
          ],
          "heatmap": [
           {
            "colorbar": {
             "outlinewidth": 0,
             "ticks": ""
            },
            "colorscale": [
             [
              0,
              "#0d0887"
             ],
             [
              0.1111111111111111,
              "#46039f"
             ],
             [
              0.2222222222222222,
              "#7201a8"
             ],
             [
              0.3333333333333333,
              "#9c179e"
             ],
             [
              0.4444444444444444,
              "#bd3786"
             ],
             [
              0.5555555555555556,
              "#d8576b"
             ],
             [
              0.6666666666666666,
              "#ed7953"
             ],
             [
              0.7777777777777778,
              "#fb9f3a"
             ],
             [
              0.8888888888888888,
              "#fdca26"
             ],
             [
              1,
              "#f0f921"
             ]
            ],
            "type": "heatmap"
           }
          ],
          "heatmapgl": [
           {
            "colorbar": {
             "outlinewidth": 0,
             "ticks": ""
            },
            "colorscale": [
             [
              0,
              "#0d0887"
             ],
             [
              0.1111111111111111,
              "#46039f"
             ],
             [
              0.2222222222222222,
              "#7201a8"
             ],
             [
              0.3333333333333333,
              "#9c179e"
             ],
             [
              0.4444444444444444,
              "#bd3786"
             ],
             [
              0.5555555555555556,
              "#d8576b"
             ],
             [
              0.6666666666666666,
              "#ed7953"
             ],
             [
              0.7777777777777778,
              "#fb9f3a"
             ],
             [
              0.8888888888888888,
              "#fdca26"
             ],
             [
              1,
              "#f0f921"
             ]
            ],
            "type": "heatmapgl"
           }
          ],
          "histogram": [
           {
            "marker": {
             "pattern": {
              "fillmode": "overlay",
              "size": 10,
              "solidity": 0.2
             }
            },
            "type": "histogram"
           }
          ],
          "histogram2d": [
           {
            "colorbar": {
             "outlinewidth": 0,
             "ticks": ""
            },
            "colorscale": [
             [
              0,
              "#0d0887"
             ],
             [
              0.1111111111111111,
              "#46039f"
             ],
             [
              0.2222222222222222,
              "#7201a8"
             ],
             [
              0.3333333333333333,
              "#9c179e"
             ],
             [
              0.4444444444444444,
              "#bd3786"
             ],
             [
              0.5555555555555556,
              "#d8576b"
             ],
             [
              0.6666666666666666,
              "#ed7953"
             ],
             [
              0.7777777777777778,
              "#fb9f3a"
             ],
             [
              0.8888888888888888,
              "#fdca26"
             ],
             [
              1,
              "#f0f921"
             ]
            ],
            "type": "histogram2d"
           }
          ],
          "histogram2dcontour": [
           {
            "colorbar": {
             "outlinewidth": 0,
             "ticks": ""
            },
            "colorscale": [
             [
              0,
              "#0d0887"
             ],
             [
              0.1111111111111111,
              "#46039f"
             ],
             [
              0.2222222222222222,
              "#7201a8"
             ],
             [
              0.3333333333333333,
              "#9c179e"
             ],
             [
              0.4444444444444444,
              "#bd3786"
             ],
             [
              0.5555555555555556,
              "#d8576b"
             ],
             [
              0.6666666666666666,
              "#ed7953"
             ],
             [
              0.7777777777777778,
              "#fb9f3a"
             ],
             [
              0.8888888888888888,
              "#fdca26"
             ],
             [
              1,
              "#f0f921"
             ]
            ],
            "type": "histogram2dcontour"
           }
          ],
          "mesh3d": [
           {
            "colorbar": {
             "outlinewidth": 0,
             "ticks": ""
            },
            "type": "mesh3d"
           }
          ],
          "parcoords": [
           {
            "line": {
             "colorbar": {
              "outlinewidth": 0,
              "ticks": ""
             }
            },
            "type": "parcoords"
           }
          ],
          "pie": [
           {
            "automargin": true,
            "type": "pie"
           }
          ],
          "scatter": [
           {
            "marker": {
             "colorbar": {
              "outlinewidth": 0,
              "ticks": ""
             }
            },
            "type": "scatter"
           }
          ],
          "scatter3d": [
           {
            "line": {
             "colorbar": {
              "outlinewidth": 0,
              "ticks": ""
             }
            },
            "marker": {
             "colorbar": {
              "outlinewidth": 0,
              "ticks": ""
             }
            },
            "type": "scatter3d"
           }
          ],
          "scattercarpet": [
           {
            "marker": {
             "colorbar": {
              "outlinewidth": 0,
              "ticks": ""
             }
            },
            "type": "scattercarpet"
           }
          ],
          "scattergeo": [
           {
            "marker": {
             "colorbar": {
              "outlinewidth": 0,
              "ticks": ""
             }
            },
            "type": "scattergeo"
           }
          ],
          "scattergl": [
           {
            "marker": {
             "colorbar": {
              "outlinewidth": 0,
              "ticks": ""
             }
            },
            "type": "scattergl"
           }
          ],
          "scattermapbox": [
           {
            "marker": {
             "colorbar": {
              "outlinewidth": 0,
              "ticks": ""
             }
            },
            "type": "scattermapbox"
           }
          ],
          "scatterpolar": [
           {
            "marker": {
             "colorbar": {
              "outlinewidth": 0,
              "ticks": ""
             }
            },
            "type": "scatterpolar"
           }
          ],
          "scatterpolargl": [
           {
            "marker": {
             "colorbar": {
              "outlinewidth": 0,
              "ticks": ""
             }
            },
            "type": "scatterpolargl"
           }
          ],
          "scatterternary": [
           {
            "marker": {
             "colorbar": {
              "outlinewidth": 0,
              "ticks": ""
             }
            },
            "type": "scatterternary"
           }
          ],
          "surface": [
           {
            "colorbar": {
             "outlinewidth": 0,
             "ticks": ""
            },
            "colorscale": [
             [
              0,
              "#0d0887"
             ],
             [
              0.1111111111111111,
              "#46039f"
             ],
             [
              0.2222222222222222,
              "#7201a8"
             ],
             [
              0.3333333333333333,
              "#9c179e"
             ],
             [
              0.4444444444444444,
              "#bd3786"
             ],
             [
              0.5555555555555556,
              "#d8576b"
             ],
             [
              0.6666666666666666,
              "#ed7953"
             ],
             [
              0.7777777777777778,
              "#fb9f3a"
             ],
             [
              0.8888888888888888,
              "#fdca26"
             ],
             [
              1,
              "#f0f921"
             ]
            ],
            "type": "surface"
           }
          ],
          "table": [
           {
            "cells": {
             "fill": {
              "color": "#EBF0F8"
             },
             "line": {
              "color": "white"
             }
            },
            "header": {
             "fill": {
              "color": "#C8D4E3"
             },
             "line": {
              "color": "white"
             }
            },
            "type": "table"
           }
          ]
         },
         "layout": {
          "annotationdefaults": {
           "arrowcolor": "#2a3f5f",
           "arrowhead": 0,
           "arrowwidth": 1
          },
          "autotypenumbers": "strict",
          "coloraxis": {
           "colorbar": {
            "outlinewidth": 0,
            "ticks": ""
           }
          },
          "colorscale": {
           "diverging": [
            [
             0,
             "#8e0152"
            ],
            [
             0.1,
             "#c51b7d"
            ],
            [
             0.2,
             "#de77ae"
            ],
            [
             0.3,
             "#f1b6da"
            ],
            [
             0.4,
             "#fde0ef"
            ],
            [
             0.5,
             "#f7f7f7"
            ],
            [
             0.6,
             "#e6f5d0"
            ],
            [
             0.7,
             "#b8e186"
            ],
            [
             0.8,
             "#7fbc41"
            ],
            [
             0.9,
             "#4d9221"
            ],
            [
             1,
             "#276419"
            ]
           ],
           "sequential": [
            [
             0,
             "#0d0887"
            ],
            [
             0.1111111111111111,
             "#46039f"
            ],
            [
             0.2222222222222222,
             "#7201a8"
            ],
            [
             0.3333333333333333,
             "#9c179e"
            ],
            [
             0.4444444444444444,
             "#bd3786"
            ],
            [
             0.5555555555555556,
             "#d8576b"
            ],
            [
             0.6666666666666666,
             "#ed7953"
            ],
            [
             0.7777777777777778,
             "#fb9f3a"
            ],
            [
             0.8888888888888888,
             "#fdca26"
            ],
            [
             1,
             "#f0f921"
            ]
           ],
           "sequentialminus": [
            [
             0,
             "#0d0887"
            ],
            [
             0.1111111111111111,
             "#46039f"
            ],
            [
             0.2222222222222222,
             "#7201a8"
            ],
            [
             0.3333333333333333,
             "#9c179e"
            ],
            [
             0.4444444444444444,
             "#bd3786"
            ],
            [
             0.5555555555555556,
             "#d8576b"
            ],
            [
             0.6666666666666666,
             "#ed7953"
            ],
            [
             0.7777777777777778,
             "#fb9f3a"
            ],
            [
             0.8888888888888888,
             "#fdca26"
            ],
            [
             1,
             "#f0f921"
            ]
           ]
          },
          "colorway": [
           "#636efa",
           "#EF553B",
           "#00cc96",
           "#ab63fa",
           "#FFA15A",
           "#19d3f3",
           "#FF6692",
           "#B6E880",
           "#FF97FF",
           "#FECB52"
          ],
          "font": {
           "color": "#2a3f5f"
          },
          "geo": {
           "bgcolor": "white",
           "lakecolor": "white",
           "landcolor": "#E5ECF6",
           "showlakes": true,
           "showland": true,
           "subunitcolor": "white"
          },
          "hoverlabel": {
           "align": "left"
          },
          "hovermode": "closest",
          "mapbox": {
           "style": "light"
          },
          "paper_bgcolor": "white",
          "plot_bgcolor": "#E5ECF6",
          "polar": {
           "angularaxis": {
            "gridcolor": "white",
            "linecolor": "white",
            "ticks": ""
           },
           "bgcolor": "#E5ECF6",
           "radialaxis": {
            "gridcolor": "white",
            "linecolor": "white",
            "ticks": ""
           }
          },
          "scene": {
           "xaxis": {
            "backgroundcolor": "#E5ECF6",
            "gridcolor": "white",
            "gridwidth": 2,
            "linecolor": "white",
            "showbackground": true,
            "ticks": "",
            "zerolinecolor": "white"
           },
           "yaxis": {
            "backgroundcolor": "#E5ECF6",
            "gridcolor": "white",
            "gridwidth": 2,
            "linecolor": "white",
            "showbackground": true,
            "ticks": "",
            "zerolinecolor": "white"
           },
           "zaxis": {
            "backgroundcolor": "#E5ECF6",
            "gridcolor": "white",
            "gridwidth": 2,
            "linecolor": "white",
            "showbackground": true,
            "ticks": "",
            "zerolinecolor": "white"
           }
          },
          "shapedefaults": {
           "line": {
            "color": "#2a3f5f"
           }
          },
          "ternary": {
           "aaxis": {
            "gridcolor": "white",
            "linecolor": "white",
            "ticks": ""
           },
           "baxis": {
            "gridcolor": "white",
            "linecolor": "white",
            "ticks": ""
           },
           "bgcolor": "#E5ECF6",
           "caxis": {
            "gridcolor": "white",
            "linecolor": "white",
            "ticks": ""
           }
          },
          "title": {
           "x": 0.05
          },
          "xaxis": {
           "automargin": true,
           "gridcolor": "white",
           "linecolor": "white",
           "ticks": "",
           "title": {
            "standoff": 15
           },
           "zerolinecolor": "white",
           "zerolinewidth": 2
          },
          "yaxis": {
           "automargin": true,
           "gridcolor": "white",
           "linecolor": "white",
           "ticks": "",
           "title": {
            "standoff": 15
           },
           "zerolinecolor": "white",
           "zerolinewidth": 2
          }
         }
        },
        "title": {
         "text": "Neonics usage for the West region"
        },
        "width": 800,
        "xaxis": {
         "anchor": "y",
         "domain": [
          0,
          1
         ],
         "title": {
          "text": "year"
         }
        },
        "yaxis": {
         "anchor": "x",
         "domain": [
          0,
          1
         ],
         "title": {
          "text": "nCLOTHIANIDIN"
         }
        }
       }
      }
     },
     "metadata": {},
     "output_type": "display_data"
    }
   ],
   "source": [
    "region = 'West' # 'South', 'West', 'Midwest', 'Northeast'\n",
    "neo = 'nCLOTHIANIDIN' # nCLOTHIANIDIN\tnIMIDACLOPRID\tnTHIAMETHOXAM\tnACETAMIPRID\tnTHIACLOPRID\tnAllNeonic\n",
    "\n",
    "df_rg = df.query(f\"Region == '{region}'\")\n",
    "fig = px.line(df_rg, x='year', y=f'{neo}', color='StateName')\n",
    "fig.update_layout(\n",
    "    showlegend=True, \n",
    "    title_text=f\"Neonics usage for the {region} region\",     \n",
    "    autosize=False,\n",
    "    width=800,\n",
    "    height=600,)\n",
    "fig.show()"
   ]
  },
  {
   "cell_type": "markdown",
   "metadata": {},
   "source": [
    "Let's take a look to California, Dakotas, Florida, Illions, Iowa and Minessota. Very interesting case for Minessota and California. "
   ]
  },
  {
   "cell_type": "code",
   "execution_count": 23,
   "metadata": {},
   "outputs": [],
   "source": [
    "state = 'Florida' # California, North Dakota and South Dakota, Florida, Minessota and Montana, California, South Dakota, Florida, Montana and Minnesota\n",
    "                # California, Illinous, Iowa, Minnessota and Nebraska\n",
    "neo = 'nAllNeonic' # nCLOTHIANIDIN\tnIMIDACLOPRID\tnTHIAMETHOXAM\tnACETAMIPRID\tnTHIACLOPRID\tnAllNeonic\n",
    "df_state = df.query(f\"StateName == '{state}'\")\n",
    "neonics = df_state.iloc[:,-6:-1].sum()\n",
    "\n",
    "if neo == 'nAllNeonic':\n",
    "    neo_name = 'All neonics combined'\n",
    "else:\n",
    "    neo_name = neo"
   ]
  },
  {
   "cell_type": "code",
   "execution_count": 24,
   "metadata": {},
   "outputs": [
    {
     "data": {
      "application/vnd.plotly.v1+json": {
       "config": {
        "plotlyServerURL": "https://plot.ly"
       },
       "data": [
        {
         "type": "scatter",
         "x": [
          1991,
          1992,
          1993,
          1994,
          1995,
          1996,
          1997,
          1998,
          1999,
          2000,
          2001,
          2002,
          2003,
          2004,
          2005,
          2006,
          2007,
          2008,
          2009,
          2010,
          2011,
          2012,
          2013,
          2014,
          2015,
          2016,
          2017
         ],
         "xaxis": "x",
         "y": [
          225000,
          220000,
          200000,
          230000,
          230000,
          240000,
          240000,
          230000,
          228000,
          232000,
          220000,
          220000,
          210000,
          205000,
          160000,
          170000,
          160000,
          150000,
          170000,
          200000,
          180000,
          193000,
          220000,
          245000,
          220000,
          215000,
          205000
         ],
         "yaxis": "y"
        },
        {
         "domain": {
          "x": [
           0.55,
           1
          ],
          "y": [
           0.7777777777777778,
           1
          ]
         },
         "labels": [
          "nCLOTHIANIDIN",
          "nIMIDACLOPRID",
          "nTHIAMETHOXAM",
          "nACETAMIPRID",
          "nTHIACLOPRID"
         ],
         "type": "pie",
         "values": [
          3095.9,
          574983.7,
          83654.4,
          4156.400000000001,
          0
         ]
        },
        {
         "type": "scatter",
         "x": [
          1991,
          1992,
          1993,
          1994,
          1995,
          1996,
          1997,
          1998,
          1999,
          2000,
          2001,
          2002,
          2003,
          2004,
          2005,
          2006,
          2007,
          2008,
          2009,
          2010,
          2011,
          2012,
          2013,
          2014,
          2015,
          2016,
          2017
         ],
         "xaxis": "x2",
         "y": [
          null,
          null,
          null,
          3039.4,
          4828.5,
          12278,
          9347.5,
          11049.1,
          11173.8,
          6003.8,
          9378.8,
          7856.7,
          35597.6,
          16997.7,
          28811.1,
          21462,
          43614.8,
          33508.2,
          34864.8,
          33995.7,
          52534.8,
          58058.4,
          75748.8,
          44672.7,
          46749.8,
          64318.4,
          null
         ],
         "yaxis": "y2"
        },
        {
         "type": "bar",
         "x": [
          1991,
          1992,
          1993,
          1994,
          1995,
          1996,
          1997,
          1998,
          1999,
          2000,
          2001,
          2002,
          2003,
          2004,
          2005,
          2006,
          2007,
          2008,
          2009,
          2010,
          2011,
          2012,
          2013,
          2014,
          2015,
          2016,
          2017
         ],
         "xaxis": "x3",
         "y": [
          83,
          104,
          113,
          84,
          86,
          105,
          67,
          98,
          102,
          105,
          100,
          93,
          71,
          98,
          86,
          81,
          71,
          79,
          68,
          69,
          61,
          64,
          61,
          60,
          54,
          50,
          43
         ],
         "yaxis": "y3"
        },
        {
         "type": "scatter",
         "x": [
          1991,
          1992,
          1993,
          1994,
          1995,
          1996,
          1997,
          1998,
          1999,
          2000,
          2001,
          2002,
          2003,
          2004,
          2005,
          2006,
          2007,
          2008,
          2009,
          2010,
          2011,
          2012,
          2013,
          2014,
          2015,
          2016,
          2017
         ],
         "xaxis": "x4",
         "y": [
          18675000,
          22880000,
          22600000,
          19320000,
          19780000,
          25200000,
          16080000,
          22540000,
          23256000,
          24360000,
          22000000,
          20460000,
          14910000,
          20090000,
          13760000,
          13770000,
          11360000,
          11850000,
          11560000,
          13800000,
          10980000,
          12352000,
          13420000,
          14700000,
          11880000,
          10750000,
          8815000
         ],
         "yaxis": "y4"
        }
       ],
       "layout": {
        "annotations": [
         {
          "font": {
           "size": 16
          },
          "showarrow": false,
          "text": "Number of colonies",
          "x": 0.225,
          "xanchor": "center",
          "xref": "paper",
          "y": 1,
          "yanchor": "bottom",
          "yref": "paper"
         },
         {
          "font": {
           "size": 16
          },
          "showarrow": false,
          "text": "Neocotinoids % usage",
          "x": 0.775,
          "xanchor": "center",
          "xref": "paper",
          "y": 1,
          "yanchor": "bottom",
          "yref": "paper"
         },
         {
          "font": {
           "size": 16
          },
          "showarrow": false,
          "text": "All neonics combined usage (kg) over years",
          "x": 0.225,
          "xanchor": "center",
          "xref": "paper",
          "y": 0.6111111111111112,
          "yanchor": "bottom",
          "yref": "paper"
         },
         {
          "font": {
           "size": 16
          },
          "showarrow": false,
          "text": "Honey yield per colony (kg)",
          "x": 0.775,
          "xanchor": "center",
          "xref": "paper",
          "y": 0.6111111111111112,
          "yanchor": "bottom",
          "yref": "paper"
         },
         {
          "font": {
           "size": 16
          },
          "showarrow": false,
          "text": "Production",
          "x": 0.225,
          "xanchor": "center",
          "xref": "paper",
          "y": 0.22222222222222224,
          "yanchor": "bottom",
          "yref": "paper"
         }
        ],
        "autosize": false,
        "height": 800,
        "showlegend": false,
        "template": {
         "data": {
          "bar": [
           {
            "error_x": {
             "color": "#2a3f5f"
            },
            "error_y": {
             "color": "#2a3f5f"
            },
            "marker": {
             "line": {
              "color": "#E5ECF6",
              "width": 0.5
             },
             "pattern": {
              "fillmode": "overlay",
              "size": 10,
              "solidity": 0.2
             }
            },
            "type": "bar"
           }
          ],
          "barpolar": [
           {
            "marker": {
             "line": {
              "color": "#E5ECF6",
              "width": 0.5
             },
             "pattern": {
              "fillmode": "overlay",
              "size": 10,
              "solidity": 0.2
             }
            },
            "type": "barpolar"
           }
          ],
          "carpet": [
           {
            "aaxis": {
             "endlinecolor": "#2a3f5f",
             "gridcolor": "white",
             "linecolor": "white",
             "minorgridcolor": "white",
             "startlinecolor": "#2a3f5f"
            },
            "baxis": {
             "endlinecolor": "#2a3f5f",
             "gridcolor": "white",
             "linecolor": "white",
             "minorgridcolor": "white",
             "startlinecolor": "#2a3f5f"
            },
            "type": "carpet"
           }
          ],
          "choropleth": [
           {
            "colorbar": {
             "outlinewidth": 0,
             "ticks": ""
            },
            "type": "choropleth"
           }
          ],
          "contour": [
           {
            "colorbar": {
             "outlinewidth": 0,
             "ticks": ""
            },
            "colorscale": [
             [
              0,
              "#0d0887"
             ],
             [
              0.1111111111111111,
              "#46039f"
             ],
             [
              0.2222222222222222,
              "#7201a8"
             ],
             [
              0.3333333333333333,
              "#9c179e"
             ],
             [
              0.4444444444444444,
              "#bd3786"
             ],
             [
              0.5555555555555556,
              "#d8576b"
             ],
             [
              0.6666666666666666,
              "#ed7953"
             ],
             [
              0.7777777777777778,
              "#fb9f3a"
             ],
             [
              0.8888888888888888,
              "#fdca26"
             ],
             [
              1,
              "#f0f921"
             ]
            ],
            "type": "contour"
           }
          ],
          "contourcarpet": [
           {
            "colorbar": {
             "outlinewidth": 0,
             "ticks": ""
            },
            "type": "contourcarpet"
           }
          ],
          "heatmap": [
           {
            "colorbar": {
             "outlinewidth": 0,
             "ticks": ""
            },
            "colorscale": [
             [
              0,
              "#0d0887"
             ],
             [
              0.1111111111111111,
              "#46039f"
             ],
             [
              0.2222222222222222,
              "#7201a8"
             ],
             [
              0.3333333333333333,
              "#9c179e"
             ],
             [
              0.4444444444444444,
              "#bd3786"
             ],
             [
              0.5555555555555556,
              "#d8576b"
             ],
             [
              0.6666666666666666,
              "#ed7953"
             ],
             [
              0.7777777777777778,
              "#fb9f3a"
             ],
             [
              0.8888888888888888,
              "#fdca26"
             ],
             [
              1,
              "#f0f921"
             ]
            ],
            "type": "heatmap"
           }
          ],
          "heatmapgl": [
           {
            "colorbar": {
             "outlinewidth": 0,
             "ticks": ""
            },
            "colorscale": [
             [
              0,
              "#0d0887"
             ],
             [
              0.1111111111111111,
              "#46039f"
             ],
             [
              0.2222222222222222,
              "#7201a8"
             ],
             [
              0.3333333333333333,
              "#9c179e"
             ],
             [
              0.4444444444444444,
              "#bd3786"
             ],
             [
              0.5555555555555556,
              "#d8576b"
             ],
             [
              0.6666666666666666,
              "#ed7953"
             ],
             [
              0.7777777777777778,
              "#fb9f3a"
             ],
             [
              0.8888888888888888,
              "#fdca26"
             ],
             [
              1,
              "#f0f921"
             ]
            ],
            "type": "heatmapgl"
           }
          ],
          "histogram": [
           {
            "marker": {
             "pattern": {
              "fillmode": "overlay",
              "size": 10,
              "solidity": 0.2
             }
            },
            "type": "histogram"
           }
          ],
          "histogram2d": [
           {
            "colorbar": {
             "outlinewidth": 0,
             "ticks": ""
            },
            "colorscale": [
             [
              0,
              "#0d0887"
             ],
             [
              0.1111111111111111,
              "#46039f"
             ],
             [
              0.2222222222222222,
              "#7201a8"
             ],
             [
              0.3333333333333333,
              "#9c179e"
             ],
             [
              0.4444444444444444,
              "#bd3786"
             ],
             [
              0.5555555555555556,
              "#d8576b"
             ],
             [
              0.6666666666666666,
              "#ed7953"
             ],
             [
              0.7777777777777778,
              "#fb9f3a"
             ],
             [
              0.8888888888888888,
              "#fdca26"
             ],
             [
              1,
              "#f0f921"
             ]
            ],
            "type": "histogram2d"
           }
          ],
          "histogram2dcontour": [
           {
            "colorbar": {
             "outlinewidth": 0,
             "ticks": ""
            },
            "colorscale": [
             [
              0,
              "#0d0887"
             ],
             [
              0.1111111111111111,
              "#46039f"
             ],
             [
              0.2222222222222222,
              "#7201a8"
             ],
             [
              0.3333333333333333,
              "#9c179e"
             ],
             [
              0.4444444444444444,
              "#bd3786"
             ],
             [
              0.5555555555555556,
              "#d8576b"
             ],
             [
              0.6666666666666666,
              "#ed7953"
             ],
             [
              0.7777777777777778,
              "#fb9f3a"
             ],
             [
              0.8888888888888888,
              "#fdca26"
             ],
             [
              1,
              "#f0f921"
             ]
            ],
            "type": "histogram2dcontour"
           }
          ],
          "mesh3d": [
           {
            "colorbar": {
             "outlinewidth": 0,
             "ticks": ""
            },
            "type": "mesh3d"
           }
          ],
          "parcoords": [
           {
            "line": {
             "colorbar": {
              "outlinewidth": 0,
              "ticks": ""
             }
            },
            "type": "parcoords"
           }
          ],
          "pie": [
           {
            "automargin": true,
            "type": "pie"
           }
          ],
          "scatter": [
           {
            "marker": {
             "colorbar": {
              "outlinewidth": 0,
              "ticks": ""
             }
            },
            "type": "scatter"
           }
          ],
          "scatter3d": [
           {
            "line": {
             "colorbar": {
              "outlinewidth": 0,
              "ticks": ""
             }
            },
            "marker": {
             "colorbar": {
              "outlinewidth": 0,
              "ticks": ""
             }
            },
            "type": "scatter3d"
           }
          ],
          "scattercarpet": [
           {
            "marker": {
             "colorbar": {
              "outlinewidth": 0,
              "ticks": ""
             }
            },
            "type": "scattercarpet"
           }
          ],
          "scattergeo": [
           {
            "marker": {
             "colorbar": {
              "outlinewidth": 0,
              "ticks": ""
             }
            },
            "type": "scattergeo"
           }
          ],
          "scattergl": [
           {
            "marker": {
             "colorbar": {
              "outlinewidth": 0,
              "ticks": ""
             }
            },
            "type": "scattergl"
           }
          ],
          "scattermapbox": [
           {
            "marker": {
             "colorbar": {
              "outlinewidth": 0,
              "ticks": ""
             }
            },
            "type": "scattermapbox"
           }
          ],
          "scatterpolar": [
           {
            "marker": {
             "colorbar": {
              "outlinewidth": 0,
              "ticks": ""
             }
            },
            "type": "scatterpolar"
           }
          ],
          "scatterpolargl": [
           {
            "marker": {
             "colorbar": {
              "outlinewidth": 0,
              "ticks": ""
             }
            },
            "type": "scatterpolargl"
           }
          ],
          "scatterternary": [
           {
            "marker": {
             "colorbar": {
              "outlinewidth": 0,
              "ticks": ""
             }
            },
            "type": "scatterternary"
           }
          ],
          "surface": [
           {
            "colorbar": {
             "outlinewidth": 0,
             "ticks": ""
            },
            "colorscale": [
             [
              0,
              "#0d0887"
             ],
             [
              0.1111111111111111,
              "#46039f"
             ],
             [
              0.2222222222222222,
              "#7201a8"
             ],
             [
              0.3333333333333333,
              "#9c179e"
             ],
             [
              0.4444444444444444,
              "#bd3786"
             ],
             [
              0.5555555555555556,
              "#d8576b"
             ],
             [
              0.6666666666666666,
              "#ed7953"
             ],
             [
              0.7777777777777778,
              "#fb9f3a"
             ],
             [
              0.8888888888888888,
              "#fdca26"
             ],
             [
              1,
              "#f0f921"
             ]
            ],
            "type": "surface"
           }
          ],
          "table": [
           {
            "cells": {
             "fill": {
              "color": "#EBF0F8"
             },
             "line": {
              "color": "white"
             }
            },
            "header": {
             "fill": {
              "color": "#C8D4E3"
             },
             "line": {
              "color": "white"
             }
            },
            "type": "table"
           }
          ]
         },
         "layout": {
          "annotationdefaults": {
           "arrowcolor": "#2a3f5f",
           "arrowhead": 0,
           "arrowwidth": 1
          },
          "autotypenumbers": "strict",
          "coloraxis": {
           "colorbar": {
            "outlinewidth": 0,
            "ticks": ""
           }
          },
          "colorscale": {
           "diverging": [
            [
             0,
             "#8e0152"
            ],
            [
             0.1,
             "#c51b7d"
            ],
            [
             0.2,
             "#de77ae"
            ],
            [
             0.3,
             "#f1b6da"
            ],
            [
             0.4,
             "#fde0ef"
            ],
            [
             0.5,
             "#f7f7f7"
            ],
            [
             0.6,
             "#e6f5d0"
            ],
            [
             0.7,
             "#b8e186"
            ],
            [
             0.8,
             "#7fbc41"
            ],
            [
             0.9,
             "#4d9221"
            ],
            [
             1,
             "#276419"
            ]
           ],
           "sequential": [
            [
             0,
             "#0d0887"
            ],
            [
             0.1111111111111111,
             "#46039f"
            ],
            [
             0.2222222222222222,
             "#7201a8"
            ],
            [
             0.3333333333333333,
             "#9c179e"
            ],
            [
             0.4444444444444444,
             "#bd3786"
            ],
            [
             0.5555555555555556,
             "#d8576b"
            ],
            [
             0.6666666666666666,
             "#ed7953"
            ],
            [
             0.7777777777777778,
             "#fb9f3a"
            ],
            [
             0.8888888888888888,
             "#fdca26"
            ],
            [
             1,
             "#f0f921"
            ]
           ],
           "sequentialminus": [
            [
             0,
             "#0d0887"
            ],
            [
             0.1111111111111111,
             "#46039f"
            ],
            [
             0.2222222222222222,
             "#7201a8"
            ],
            [
             0.3333333333333333,
             "#9c179e"
            ],
            [
             0.4444444444444444,
             "#bd3786"
            ],
            [
             0.5555555555555556,
             "#d8576b"
            ],
            [
             0.6666666666666666,
             "#ed7953"
            ],
            [
             0.7777777777777778,
             "#fb9f3a"
            ],
            [
             0.8888888888888888,
             "#fdca26"
            ],
            [
             1,
             "#f0f921"
            ]
           ]
          },
          "colorway": [
           "#636efa",
           "#EF553B",
           "#00cc96",
           "#ab63fa",
           "#FFA15A",
           "#19d3f3",
           "#FF6692",
           "#B6E880",
           "#FF97FF",
           "#FECB52"
          ],
          "font": {
           "color": "#2a3f5f"
          },
          "geo": {
           "bgcolor": "white",
           "lakecolor": "white",
           "landcolor": "#E5ECF6",
           "showlakes": true,
           "showland": true,
           "subunitcolor": "white"
          },
          "hoverlabel": {
           "align": "left"
          },
          "hovermode": "closest",
          "mapbox": {
           "style": "light"
          },
          "paper_bgcolor": "white",
          "plot_bgcolor": "#E5ECF6",
          "polar": {
           "angularaxis": {
            "gridcolor": "white",
            "linecolor": "white",
            "ticks": ""
           },
           "bgcolor": "#E5ECF6",
           "radialaxis": {
            "gridcolor": "white",
            "linecolor": "white",
            "ticks": ""
           }
          },
          "scene": {
           "xaxis": {
            "backgroundcolor": "#E5ECF6",
            "gridcolor": "white",
            "gridwidth": 2,
            "linecolor": "white",
            "showbackground": true,
            "ticks": "",
            "zerolinecolor": "white"
           },
           "yaxis": {
            "backgroundcolor": "#E5ECF6",
            "gridcolor": "white",
            "gridwidth": 2,
            "linecolor": "white",
            "showbackground": true,
            "ticks": "",
            "zerolinecolor": "white"
           },
           "zaxis": {
            "backgroundcolor": "#E5ECF6",
            "gridcolor": "white",
            "gridwidth": 2,
            "linecolor": "white",
            "showbackground": true,
            "ticks": "",
            "zerolinecolor": "white"
           }
          },
          "shapedefaults": {
           "line": {
            "color": "#2a3f5f"
           }
          },
          "ternary": {
           "aaxis": {
            "gridcolor": "white",
            "linecolor": "white",
            "ticks": ""
           },
           "baxis": {
            "gridcolor": "white",
            "linecolor": "white",
            "ticks": ""
           },
           "bgcolor": "#E5ECF6",
           "caxis": {
            "gridcolor": "white",
            "linecolor": "white",
            "ticks": ""
           }
          },
          "title": {
           "x": 0.05
          },
          "xaxis": {
           "automargin": true,
           "gridcolor": "white",
           "linecolor": "white",
           "ticks": "",
           "title": {
            "standoff": 15
           },
           "zerolinecolor": "white",
           "zerolinewidth": 2
          },
          "yaxis": {
           "automargin": true,
           "gridcolor": "white",
           "linecolor": "white",
           "ticks": "",
           "title": {
            "standoff": 15
           },
           "zerolinecolor": "white",
           "zerolinewidth": 2
          }
         }
        },
        "title": {
         "text": "Information for Florida (1991 to 2017)"
        },
        "width": 1200,
        "xaxis": {
         "anchor": "y",
         "domain": [
          0,
          0.45
         ]
        },
        "xaxis2": {
         "anchor": "y2",
         "domain": [
          0,
          0.45
         ]
        },
        "xaxis3": {
         "anchor": "y3",
         "domain": [
          0.55,
          1
         ]
        },
        "xaxis4": {
         "anchor": "y4",
         "domain": [
          0,
          0.45
         ]
        },
        "xaxis5": {
         "anchor": "y5",
         "domain": [
          0.55,
          1
         ]
        },
        "yaxis": {
         "anchor": "x",
         "domain": [
          0.7777777777777778,
          1
         ]
        },
        "yaxis2": {
         "anchor": "x2",
         "domain": [
          0.3888888888888889,
          0.6111111111111112
         ]
        },
        "yaxis3": {
         "anchor": "x3",
         "domain": [
          0.3888888888888889,
          0.6111111111111112
         ]
        },
        "yaxis4": {
         "anchor": "x4",
         "domain": [
          0,
          0.22222222222222224
         ]
        },
        "yaxis5": {
         "anchor": "x5",
         "domain": [
          0,
          0.22222222222222224
         ]
        }
       }
      }
     },
     "metadata": {},
     "output_type": "display_data"
    }
   ],
   "source": [
    "fig = make_subplots(\n",
    "    rows=3, cols=2,\n",
    "    specs=[[{}, {\"type\": \"domain\"}], [{}, {\"type\": \"xy\"}], [{}, {}]],\n",
    "    subplot_titles=(f\"Number of colonies\",\"Neocotinoids % usage\", f\"{neo_name} usage (kg) over years\", \"Honey yield per colony (kg)\", \"Production\")\n",
    ")\n",
    "\n",
    "fig.add_trace(go.Scatter(x=df_state.year, y=df_state.numcol), row=1, col=1)\n",
    "fig.add_trace(go.Pie(values=neonics.values, labels=neonics.index), row=1, col=2)\n",
    "fig.add_trace(go.Scatter(x=df_state.year, y=df_state[f'{neo}']), row=2, col=1)\n",
    "fig.add_trace(go.Bar(y=df_state.yieldpercol, x=df_state.year), row=2, col=2)\n",
    "fig.add_trace(go.Scatter(x=df_state.year, y=df_state.totalprod), row=3, col=1)\n",
    "\n",
    "fig.update_layout(\n",
    "    showlegend=False, \n",
    "    title_text=f\"Information for {state} (1991 to 2017)\",  \n",
    "    autosize=False,\n",
    "    width=1200,\n",
    "    height=800,)\n",
    "\n",
    "\n",
    "fig.show()"
   ]
  },
  {
   "cell_type": "code",
   "execution_count": 25,
   "metadata": {},
   "outputs": [
    {
     "data": {
      "application/vnd.plotly.v1+json": {
       "config": {
        "plotlyServerURL": "https://plot.ly"
       },
       "data": [
        {
         "hovertemplate": "numcol=%{x}<br>nAllNeonic=%{y}<extra></extra>",
         "legendgroup": "",
         "marker": {
          "color": "#636efa",
          "opacity": 0.65,
          "symbol": "circle"
         },
         "mode": "markers",
         "name": "",
         "orientation": "v",
         "showlegend": false,
         "type": "scatter",
         "x": [
          225000,
          220000,
          200000,
          230000,
          230000,
          240000,
          240000,
          230000,
          228000,
          232000,
          220000,
          220000,
          210000,
          205000,
          160000,
          170000,
          160000,
          150000,
          170000,
          200000,
          180000,
          193000,
          220000,
          245000,
          220000,
          215000,
          205000
         ],
         "xaxis": "x",
         "y": [
          null,
          null,
          null,
          3039.4,
          4828.5,
          12278,
          9347.5,
          11049.1,
          11173.8,
          6003.8,
          9378.8,
          7856.7,
          35597.6,
          16997.7,
          28811.1,
          21462,
          43614.8,
          33508.2,
          34864.8,
          33995.7,
          52534.8,
          58058.4,
          75748.8,
          44672.7,
          46749.8,
          64318.4,
          null
         ],
         "yaxis": "y"
        },
        {
         "hovertemplate": "<b>OLS trendline</b><br>nAllNeonic = -0.240971 * numcol + 78906.1<br>R<sup>2</sup>=0.108451<br><br>numcol=%{x}<br>nAllNeonic=%{y} <b>(trend)</b><extra></extra>",
         "legendgroup": "",
         "line": {
          "color": "darkblue"
         },
         "marker": {
          "color": "#636efa",
          "symbol": "circle"
         },
         "mode": "lines",
         "name": "",
         "showlegend": false,
         "type": "scatter",
         "x": [
          150000,
          160000,
          160000,
          170000,
          170000,
          180000,
          193000,
          200000,
          205000,
          210000,
          215000,
          220000,
          220000,
          220000,
          220000,
          228000,
          230000,
          230000,
          230000,
          232000,
          240000,
          240000,
          245000
         ],
         "xaxis": "x",
         "y": [
          42760.43651774576,
          40350.727565483605,
          40350.727565483605,
          37941.018613221444,
          37941.018613221444,
          35531.30966095928,
          32398.688023018483,
          30711.89175643497,
          29507.03728030389,
          28302.182804172815,
          27097.32832804173,
          25892.473851910654,
          25892.473851910654,
          25892.473851910654,
          25892.473851910654,
          23964.70669010093,
          23482.7648996485,
          23482.7648996485,
          23482.7648996485,
          23000.823109196062,
          21073.05594738634,
          21073.05594738634,
          19868.201471255263
         ],
         "yaxis": "y"
        }
       ],
       "layout": {
        "autosize": false,
        "height": 350,
        "legend": {
         "tracegroupgap": 0
        },
        "margin": {
         "t": 60
        },
        "showlegend": false,
        "template": {
         "data": {
          "bar": [
           {
            "error_x": {
             "color": "#2a3f5f"
            },
            "error_y": {
             "color": "#2a3f5f"
            },
            "marker": {
             "line": {
              "color": "#E5ECF6",
              "width": 0.5
             },
             "pattern": {
              "fillmode": "overlay",
              "size": 10,
              "solidity": 0.2
             }
            },
            "type": "bar"
           }
          ],
          "barpolar": [
           {
            "marker": {
             "line": {
              "color": "#E5ECF6",
              "width": 0.5
             },
             "pattern": {
              "fillmode": "overlay",
              "size": 10,
              "solidity": 0.2
             }
            },
            "type": "barpolar"
           }
          ],
          "carpet": [
           {
            "aaxis": {
             "endlinecolor": "#2a3f5f",
             "gridcolor": "white",
             "linecolor": "white",
             "minorgridcolor": "white",
             "startlinecolor": "#2a3f5f"
            },
            "baxis": {
             "endlinecolor": "#2a3f5f",
             "gridcolor": "white",
             "linecolor": "white",
             "minorgridcolor": "white",
             "startlinecolor": "#2a3f5f"
            },
            "type": "carpet"
           }
          ],
          "choropleth": [
           {
            "colorbar": {
             "outlinewidth": 0,
             "ticks": ""
            },
            "type": "choropleth"
           }
          ],
          "contour": [
           {
            "colorbar": {
             "outlinewidth": 0,
             "ticks": ""
            },
            "colorscale": [
             [
              0,
              "#0d0887"
             ],
             [
              0.1111111111111111,
              "#46039f"
             ],
             [
              0.2222222222222222,
              "#7201a8"
             ],
             [
              0.3333333333333333,
              "#9c179e"
             ],
             [
              0.4444444444444444,
              "#bd3786"
             ],
             [
              0.5555555555555556,
              "#d8576b"
             ],
             [
              0.6666666666666666,
              "#ed7953"
             ],
             [
              0.7777777777777778,
              "#fb9f3a"
             ],
             [
              0.8888888888888888,
              "#fdca26"
             ],
             [
              1,
              "#f0f921"
             ]
            ],
            "type": "contour"
           }
          ],
          "contourcarpet": [
           {
            "colorbar": {
             "outlinewidth": 0,
             "ticks": ""
            },
            "type": "contourcarpet"
           }
          ],
          "heatmap": [
           {
            "colorbar": {
             "outlinewidth": 0,
             "ticks": ""
            },
            "colorscale": [
             [
              0,
              "#0d0887"
             ],
             [
              0.1111111111111111,
              "#46039f"
             ],
             [
              0.2222222222222222,
              "#7201a8"
             ],
             [
              0.3333333333333333,
              "#9c179e"
             ],
             [
              0.4444444444444444,
              "#bd3786"
             ],
             [
              0.5555555555555556,
              "#d8576b"
             ],
             [
              0.6666666666666666,
              "#ed7953"
             ],
             [
              0.7777777777777778,
              "#fb9f3a"
             ],
             [
              0.8888888888888888,
              "#fdca26"
             ],
             [
              1,
              "#f0f921"
             ]
            ],
            "type": "heatmap"
           }
          ],
          "heatmapgl": [
           {
            "colorbar": {
             "outlinewidth": 0,
             "ticks": ""
            },
            "colorscale": [
             [
              0,
              "#0d0887"
             ],
             [
              0.1111111111111111,
              "#46039f"
             ],
             [
              0.2222222222222222,
              "#7201a8"
             ],
             [
              0.3333333333333333,
              "#9c179e"
             ],
             [
              0.4444444444444444,
              "#bd3786"
             ],
             [
              0.5555555555555556,
              "#d8576b"
             ],
             [
              0.6666666666666666,
              "#ed7953"
             ],
             [
              0.7777777777777778,
              "#fb9f3a"
             ],
             [
              0.8888888888888888,
              "#fdca26"
             ],
             [
              1,
              "#f0f921"
             ]
            ],
            "type": "heatmapgl"
           }
          ],
          "histogram": [
           {
            "marker": {
             "pattern": {
              "fillmode": "overlay",
              "size": 10,
              "solidity": 0.2
             }
            },
            "type": "histogram"
           }
          ],
          "histogram2d": [
           {
            "colorbar": {
             "outlinewidth": 0,
             "ticks": ""
            },
            "colorscale": [
             [
              0,
              "#0d0887"
             ],
             [
              0.1111111111111111,
              "#46039f"
             ],
             [
              0.2222222222222222,
              "#7201a8"
             ],
             [
              0.3333333333333333,
              "#9c179e"
             ],
             [
              0.4444444444444444,
              "#bd3786"
             ],
             [
              0.5555555555555556,
              "#d8576b"
             ],
             [
              0.6666666666666666,
              "#ed7953"
             ],
             [
              0.7777777777777778,
              "#fb9f3a"
             ],
             [
              0.8888888888888888,
              "#fdca26"
             ],
             [
              1,
              "#f0f921"
             ]
            ],
            "type": "histogram2d"
           }
          ],
          "histogram2dcontour": [
           {
            "colorbar": {
             "outlinewidth": 0,
             "ticks": ""
            },
            "colorscale": [
             [
              0,
              "#0d0887"
             ],
             [
              0.1111111111111111,
              "#46039f"
             ],
             [
              0.2222222222222222,
              "#7201a8"
             ],
             [
              0.3333333333333333,
              "#9c179e"
             ],
             [
              0.4444444444444444,
              "#bd3786"
             ],
             [
              0.5555555555555556,
              "#d8576b"
             ],
             [
              0.6666666666666666,
              "#ed7953"
             ],
             [
              0.7777777777777778,
              "#fb9f3a"
             ],
             [
              0.8888888888888888,
              "#fdca26"
             ],
             [
              1,
              "#f0f921"
             ]
            ],
            "type": "histogram2dcontour"
           }
          ],
          "mesh3d": [
           {
            "colorbar": {
             "outlinewidth": 0,
             "ticks": ""
            },
            "type": "mesh3d"
           }
          ],
          "parcoords": [
           {
            "line": {
             "colorbar": {
              "outlinewidth": 0,
              "ticks": ""
             }
            },
            "type": "parcoords"
           }
          ],
          "pie": [
           {
            "automargin": true,
            "type": "pie"
           }
          ],
          "scatter": [
           {
            "marker": {
             "colorbar": {
              "outlinewidth": 0,
              "ticks": ""
             }
            },
            "type": "scatter"
           }
          ],
          "scatter3d": [
           {
            "line": {
             "colorbar": {
              "outlinewidth": 0,
              "ticks": ""
             }
            },
            "marker": {
             "colorbar": {
              "outlinewidth": 0,
              "ticks": ""
             }
            },
            "type": "scatter3d"
           }
          ],
          "scattercarpet": [
           {
            "marker": {
             "colorbar": {
              "outlinewidth": 0,
              "ticks": ""
             }
            },
            "type": "scattercarpet"
           }
          ],
          "scattergeo": [
           {
            "marker": {
             "colorbar": {
              "outlinewidth": 0,
              "ticks": ""
             }
            },
            "type": "scattergeo"
           }
          ],
          "scattergl": [
           {
            "marker": {
             "colorbar": {
              "outlinewidth": 0,
              "ticks": ""
             }
            },
            "type": "scattergl"
           }
          ],
          "scattermapbox": [
           {
            "marker": {
             "colorbar": {
              "outlinewidth": 0,
              "ticks": ""
             }
            },
            "type": "scattermapbox"
           }
          ],
          "scatterpolar": [
           {
            "marker": {
             "colorbar": {
              "outlinewidth": 0,
              "ticks": ""
             }
            },
            "type": "scatterpolar"
           }
          ],
          "scatterpolargl": [
           {
            "marker": {
             "colorbar": {
              "outlinewidth": 0,
              "ticks": ""
             }
            },
            "type": "scatterpolargl"
           }
          ],
          "scatterternary": [
           {
            "marker": {
             "colorbar": {
              "outlinewidth": 0,
              "ticks": ""
             }
            },
            "type": "scatterternary"
           }
          ],
          "surface": [
           {
            "colorbar": {
             "outlinewidth": 0,
             "ticks": ""
            },
            "colorscale": [
             [
              0,
              "#0d0887"
             ],
             [
              0.1111111111111111,
              "#46039f"
             ],
             [
              0.2222222222222222,
              "#7201a8"
             ],
             [
              0.3333333333333333,
              "#9c179e"
             ],
             [
              0.4444444444444444,
              "#bd3786"
             ],
             [
              0.5555555555555556,
              "#d8576b"
             ],
             [
              0.6666666666666666,
              "#ed7953"
             ],
             [
              0.7777777777777778,
              "#fb9f3a"
             ],
             [
              0.8888888888888888,
              "#fdca26"
             ],
             [
              1,
              "#f0f921"
             ]
            ],
            "type": "surface"
           }
          ],
          "table": [
           {
            "cells": {
             "fill": {
              "color": "#EBF0F8"
             },
             "line": {
              "color": "white"
             }
            },
            "header": {
             "fill": {
              "color": "#C8D4E3"
             },
             "line": {
              "color": "white"
             }
            },
            "type": "table"
           }
          ]
         },
         "layout": {
          "annotationdefaults": {
           "arrowcolor": "#2a3f5f",
           "arrowhead": 0,
           "arrowwidth": 1
          },
          "autotypenumbers": "strict",
          "coloraxis": {
           "colorbar": {
            "outlinewidth": 0,
            "ticks": ""
           }
          },
          "colorscale": {
           "diverging": [
            [
             0,
             "#8e0152"
            ],
            [
             0.1,
             "#c51b7d"
            ],
            [
             0.2,
             "#de77ae"
            ],
            [
             0.3,
             "#f1b6da"
            ],
            [
             0.4,
             "#fde0ef"
            ],
            [
             0.5,
             "#f7f7f7"
            ],
            [
             0.6,
             "#e6f5d0"
            ],
            [
             0.7,
             "#b8e186"
            ],
            [
             0.8,
             "#7fbc41"
            ],
            [
             0.9,
             "#4d9221"
            ],
            [
             1,
             "#276419"
            ]
           ],
           "sequential": [
            [
             0,
             "#0d0887"
            ],
            [
             0.1111111111111111,
             "#46039f"
            ],
            [
             0.2222222222222222,
             "#7201a8"
            ],
            [
             0.3333333333333333,
             "#9c179e"
            ],
            [
             0.4444444444444444,
             "#bd3786"
            ],
            [
             0.5555555555555556,
             "#d8576b"
            ],
            [
             0.6666666666666666,
             "#ed7953"
            ],
            [
             0.7777777777777778,
             "#fb9f3a"
            ],
            [
             0.8888888888888888,
             "#fdca26"
            ],
            [
             1,
             "#f0f921"
            ]
           ],
           "sequentialminus": [
            [
             0,
             "#0d0887"
            ],
            [
             0.1111111111111111,
             "#46039f"
            ],
            [
             0.2222222222222222,
             "#7201a8"
            ],
            [
             0.3333333333333333,
             "#9c179e"
            ],
            [
             0.4444444444444444,
             "#bd3786"
            ],
            [
             0.5555555555555556,
             "#d8576b"
            ],
            [
             0.6666666666666666,
             "#ed7953"
            ],
            [
             0.7777777777777778,
             "#fb9f3a"
            ],
            [
             0.8888888888888888,
             "#fdca26"
            ],
            [
             1,
             "#f0f921"
            ]
           ]
          },
          "colorway": [
           "#636efa",
           "#EF553B",
           "#00cc96",
           "#ab63fa",
           "#FFA15A",
           "#19d3f3",
           "#FF6692",
           "#B6E880",
           "#FF97FF",
           "#FECB52"
          ],
          "font": {
           "color": "#2a3f5f"
          },
          "geo": {
           "bgcolor": "white",
           "lakecolor": "white",
           "landcolor": "#E5ECF6",
           "showlakes": true,
           "showland": true,
           "subunitcolor": "white"
          },
          "hoverlabel": {
           "align": "left"
          },
          "hovermode": "closest",
          "mapbox": {
           "style": "light"
          },
          "paper_bgcolor": "white",
          "plot_bgcolor": "#E5ECF6",
          "polar": {
           "angularaxis": {
            "gridcolor": "white",
            "linecolor": "white",
            "ticks": ""
           },
           "bgcolor": "#E5ECF6",
           "radialaxis": {
            "gridcolor": "white",
            "linecolor": "white",
            "ticks": ""
           }
          },
          "scene": {
           "xaxis": {
            "backgroundcolor": "#E5ECF6",
            "gridcolor": "white",
            "gridwidth": 2,
            "linecolor": "white",
            "showbackground": true,
            "ticks": "",
            "zerolinecolor": "white"
           },
           "yaxis": {
            "backgroundcolor": "#E5ECF6",
            "gridcolor": "white",
            "gridwidth": 2,
            "linecolor": "white",
            "showbackground": true,
            "ticks": "",
            "zerolinecolor": "white"
           },
           "zaxis": {
            "backgroundcolor": "#E5ECF6",
            "gridcolor": "white",
            "gridwidth": 2,
            "linecolor": "white",
            "showbackground": true,
            "ticks": "",
            "zerolinecolor": "white"
           }
          },
          "shapedefaults": {
           "line": {
            "color": "#2a3f5f"
           }
          },
          "ternary": {
           "aaxis": {
            "gridcolor": "white",
            "linecolor": "white",
            "ticks": ""
           },
           "baxis": {
            "gridcolor": "white",
            "linecolor": "white",
            "ticks": ""
           },
           "bgcolor": "#E5ECF6",
           "caxis": {
            "gridcolor": "white",
            "linecolor": "white",
            "ticks": ""
           }
          },
          "title": {
           "x": 0.05
          },
          "xaxis": {
           "automargin": true,
           "gridcolor": "white",
           "linecolor": "white",
           "ticks": "",
           "title": {
            "standoff": 15
           },
           "zerolinecolor": "white",
           "zerolinewidth": 2
          },
          "yaxis": {
           "automargin": true,
           "gridcolor": "white",
           "linecolor": "white",
           "ticks": "",
           "title": {
            "standoff": 15
           },
           "zerolinecolor": "white",
           "zerolinewidth": 2
          }
         }
        },
        "title": {
         "text": "Information for Florida (1991 to 2017)"
        },
        "width": 500,
        "xaxis": {
         "anchor": "y",
         "domain": [
          0,
          1
         ],
         "title": {
          "text": "numcol"
         }
        },
        "yaxis": {
         "anchor": "x",
         "domain": [
          0,
          1
         ],
         "title": {
          "text": "nAllNeonic"
         }
        }
       }
      }
     },
     "metadata": {},
     "output_type": "display_data"
    }
   ],
   "source": [
    "fig = px.scatter(\n",
    "    df_state, x='numcol', y=f'{neo}', opacity=0.65,\n",
    "    trendline='ols', trendline_color_override='darkblue'\n",
    ")\n",
    "\n",
    "fig.update_layout(\n",
    "    showlegend=False, \n",
    "    title_text=f\"Information for {state} (1991 to 2017)\",  \n",
    "    autosize=False,\n",
    "    width=500,\n",
    "    height=350,)\n",
    "\n",
    "fig.show()"
   ]
  },
  {
   "cell_type": "markdown",
   "metadata": {},
   "source": [
    "# Generate info fot testing fetch"
   ]
  },
  {
   "cell_type": "code",
   "execution_count": null,
   "metadata": {},
   "outputs": [],
   "source": []
  },
  {
   "cell_type": "code",
   "execution_count": 26,
   "metadata": {},
   "outputs": [
    {
     "data": {
      "application/vnd.plotly.v1+json": {
       "config": {
        "plotlyServerURL": "https://plot.ly"
       },
       "data": [
        {
         "hovertemplate": "StateName=Arizona<br>year=%{x}<br>nCLOTHIANIDIN=%{y}<extra></extra>",
         "legendgroup": "Arizona",
         "line": {
          "color": "#636efa",
          "dash": "solid"
         },
         "marker": {
          "symbol": "circle"
         },
         "mode": "lines",
         "name": "Arizona",
         "orientation": "v",
         "showlegend": true,
         "type": "scatter",
         "x": [
          1991,
          1992,
          1993,
          1994,
          1995,
          1996,
          1997,
          1998,
          1999,
          2000,
          2001,
          2002,
          2003,
          2004,
          2005,
          2006,
          2007,
          2008,
          2009,
          2010,
          2011,
          2012,
          2013,
          2014,
          2015,
          2016,
          2017
         ],
         "xaxis": "x",
         "y": [
          null,
          null,
          null,
          0,
          0,
          0,
          0,
          0,
          0,
          0,
          0,
          0,
          0,
          96.7,
          0,
          48.7,
          48.7,
          0,
          266,
          921.7,
          1188.3,
          2036.4,
          2139.8,
          2262.1,
          223.1,
          null,
          null
         ],
         "yaxis": "y"
        },
        {
         "hovertemplate": "StateName=California<br>year=%{x}<br>nCLOTHIANIDIN=%{y}<extra></extra>",
         "legendgroup": "California",
         "line": {
          "color": "#EF553B",
          "dash": "solid"
         },
         "marker": {
          "symbol": "circle"
         },
         "mode": "lines",
         "name": "California",
         "orientation": "v",
         "showlegend": true,
         "type": "scatter",
         "x": [
          1991,
          1992,
          1993,
          1994,
          1995,
          1996,
          1997,
          1998,
          1999,
          2000,
          2001,
          2002,
          2003,
          2004,
          2005,
          2006,
          2007,
          2008,
          2009,
          2010,
          2011,
          2012,
          2013,
          2014,
          2015,
          2016,
          2017
         ],
         "xaxis": "x",
         "y": [
          null,
          null,
          null,
          0,
          0,
          0,
          0,
          0,
          0,
          0,
          0,
          0,
          0,
          0,
          0,
          0,
          1.3,
          608,
          796.9,
          1410.8,
          14229.5,
          2898.1,
          6569.3,
          7845.2,
          143619.6,
          null,
          null
         ],
         "yaxis": "y"
        },
        {
         "hovertemplate": "StateName=Colorado<br>year=%{x}<br>nCLOTHIANIDIN=%{y}<extra></extra>",
         "legendgroup": "Colorado",
         "line": {
          "color": "#00cc96",
          "dash": "solid"
         },
         "marker": {
          "symbol": "circle"
         },
         "mode": "lines",
         "name": "Colorado",
         "orientation": "v",
         "showlegend": true,
         "type": "scatter",
         "x": [
          1991,
          1992,
          1993,
          1994,
          1995,
          1996,
          1997,
          1998,
          1999,
          2000,
          2001,
          2002,
          2003,
          2004,
          2005,
          2006,
          2007,
          2008,
          2009,
          2010,
          2011,
          2012,
          2013,
          2014,
          2015,
          2016,
          2017
         ],
         "xaxis": "x",
         "y": [
          null,
          null,
          null,
          null,
          0,
          0,
          0,
          0,
          0,
          0,
          0,
          0,
          0,
          1861.5,
          5369.9,
          3165.9,
          2223.3,
          4894.1,
          7375.4,
          16623.2,
          20234.1,
          12283.8,
          9791.5,
          8658.2,
          0,
          null,
          null
         ],
         "yaxis": "y"
        },
        {
         "hovertemplate": "StateName=Hawaii<br>year=%{x}<br>nCLOTHIANIDIN=%{y}<extra></extra>",
         "legendgroup": "Hawaii",
         "line": {
          "color": "#ab63fa",
          "dash": "solid"
         },
         "marker": {
          "symbol": "circle"
         },
         "mode": "lines",
         "name": "Hawaii",
         "orientation": "v",
         "showlegend": true,
         "type": "scatter",
         "x": [
          1991,
          1992,
          1993,
          1994,
          1995,
          1996,
          1997,
          1998,
          1999,
          2000,
          2001,
          2002,
          2003,
          2004,
          2005,
          2006,
          2007,
          2008,
          2009,
          2010,
          2011,
          2012,
          2013,
          2014,
          2015,
          2016,
          2017
         ],
         "xaxis": "x",
         "y": [
          null,
          null,
          null,
          null,
          null,
          null,
          null,
          null,
          null,
          null,
          null,
          null,
          null,
          null,
          null,
          null,
          null,
          null,
          null,
          null,
          null,
          null,
          null,
          null,
          null,
          null,
          null
         ],
         "yaxis": "y"
        },
        {
         "hovertemplate": "StateName=Idaho<br>year=%{x}<br>nCLOTHIANIDIN=%{y}<extra></extra>",
         "legendgroup": "Idaho",
         "line": {
          "color": "#FFA15A",
          "dash": "solid"
         },
         "marker": {
          "symbol": "circle"
         },
         "mode": "lines",
         "name": "Idaho",
         "orientation": "v",
         "showlegend": true,
         "type": "scatter",
         "x": [
          1991,
          1992,
          1993,
          1994,
          1995,
          1996,
          1997,
          1998,
          1999,
          2000,
          2001,
          2002,
          2003,
          2004,
          2005,
          2006,
          2007,
          2008,
          2009,
          2010,
          2011,
          2012,
          2013,
          2014,
          2015,
          2016,
          2017
         ],
         "xaxis": "x",
         "y": [
          null,
          null,
          null,
          0,
          0,
          0,
          0,
          0,
          0,
          0,
          0,
          0,
          0,
          0.3,
          99.1,
          1186.8,
          60.6,
          470.2,
          2353.4,
          4288.3,
          1157.6,
          3325.7,
          4217.4,
          6741.1,
          0.3,
          1.1,
          null
         ],
         "yaxis": "y"
        },
        {
         "hovertemplate": "StateName=Montana<br>year=%{x}<br>nCLOTHIANIDIN=%{y}<extra></extra>",
         "legendgroup": "Montana",
         "line": {
          "color": "#19d3f3",
          "dash": "solid"
         },
         "marker": {
          "symbol": "circle"
         },
         "mode": "lines",
         "name": "Montana",
         "orientation": "v",
         "showlegend": true,
         "type": "scatter",
         "x": [
          1991,
          1992,
          1993,
          1994,
          1995,
          1996,
          1997,
          1998,
          1999,
          2000,
          2001,
          2002,
          2003,
          2004,
          2005,
          2006,
          2007,
          2008,
          2009,
          2010,
          2011,
          2012,
          2013,
          2014,
          2015,
          2016,
          2017
         ],
         "xaxis": "x",
         "y": [
          null,
          null,
          null,
          null,
          0,
          0,
          0,
          0,
          0,
          0,
          0,
          0,
          0,
          110,
          87.4,
          17.5,
          96.1,
          443.8,
          621.9,
          2595.9,
          801.9,
          1460.8,
          1438.8,
          2529.9,
          0,
          0,
          null
         ],
         "yaxis": "y"
        },
        {
         "hovertemplate": "StateName=Nevada<br>year=%{x}<br>nCLOTHIANIDIN=%{y}<extra></extra>",
         "legendgroup": "Nevada",
         "line": {
          "color": "#FF6692",
          "dash": "solid"
         },
         "marker": {
          "symbol": "circle"
         },
         "mode": "lines",
         "name": "Nevada",
         "orientation": "v",
         "showlegend": true,
         "type": "scatter",
         "x": [
          1991,
          1992,
          1993,
          1994,
          1995,
          1996,
          1997,
          1998,
          1999,
          2000,
          2001,
          2002,
          2003,
          2004,
          2005,
          2006,
          2007,
          2008
         ],
         "xaxis": "x",
         "y": [
          null,
          null,
          null,
          0,
          0,
          0,
          0,
          0,
          0,
          0,
          0,
          0,
          0,
          7.4,
          1.1,
          20.5,
          1.1,
          5.3
         ],
         "yaxis": "y"
        },
        {
         "hovertemplate": "StateName=New Mexico<br>year=%{x}<br>nCLOTHIANIDIN=%{y}<extra></extra>",
         "legendgroup": "New Mexico",
         "line": {
          "color": "#B6E880",
          "dash": "solid"
         },
         "marker": {
          "symbol": "circle"
         },
         "mode": "lines",
         "name": "New Mexico",
         "orientation": "v",
         "showlegend": true,
         "type": "scatter",
         "x": [
          1991,
          1992,
          1993,
          1994,
          1995,
          1996,
          1997,
          1998,
          1999,
          2000,
          2001,
          2002,
          2003,
          2004,
          2005,
          2006,
          2007,
          2008,
          2009,
          2010,
          2011,
          2012
         ],
         "xaxis": "x",
         "y": [
          null,
          null,
          null,
          null,
          0,
          0,
          0,
          0,
          0,
          0,
          0,
          0,
          0,
          157.9,
          682.3,
          222.6,
          478.1,
          876.2,
          661.2,
          1111.4,
          779.5,
          2160.8
         ],
         "yaxis": "y"
        },
        {
         "hovertemplate": "StateName=Oregon<br>year=%{x}<br>nCLOTHIANIDIN=%{y}<extra></extra>",
         "legendgroup": "Oregon",
         "line": {
          "color": "#FF97FF",
          "dash": "solid"
         },
         "marker": {
          "symbol": "circle"
         },
         "mode": "lines",
         "name": "Oregon",
         "orientation": "v",
         "showlegend": true,
         "type": "scatter",
         "x": [
          1991,
          1992,
          1993,
          1994,
          1995,
          1996,
          1997,
          1998,
          1999,
          2000,
          2001,
          2002,
          2003,
          2004,
          2005,
          2006,
          2007,
          2008,
          2009,
          2010,
          2011,
          2012,
          2013,
          2014,
          2015,
          2016,
          2017
         ],
         "xaxis": "x",
         "y": [
          null,
          null,
          null,
          0,
          0,
          0,
          0,
          0,
          0,
          0,
          0,
          0,
          0,
          59.2,
          244.9,
          543.4,
          1173.6,
          336.7,
          1027.1,
          1289.4,
          451.8,
          571.2,
          1189.2,
          993.3,
          65.3,
          327.6,
          null
         ],
         "yaxis": "y"
        },
        {
         "hovertemplate": "StateName=Utah<br>year=%{x}<br>nCLOTHIANIDIN=%{y}<extra></extra>",
         "legendgroup": "Utah",
         "line": {
          "color": "#FECB52",
          "dash": "solid"
         },
         "marker": {
          "symbol": "circle"
         },
         "mode": "lines",
         "name": "Utah",
         "orientation": "v",
         "showlegend": true,
         "type": "scatter",
         "x": [
          1991,
          1992,
          1993,
          1994,
          1995,
          1996,
          1997,
          1998,
          1999,
          2000,
          2001,
          2002,
          2003,
          2004,
          2005,
          2006,
          2007,
          2008,
          2009,
          2010,
          2011,
          2012,
          2013,
          2014,
          2015,
          2016,
          2017
         ],
         "xaxis": "x",
         "y": [
          null,
          null,
          null,
          null,
          0,
          0,
          0,
          0,
          0,
          0,
          0,
          0,
          0,
          100.3,
          76.6,
          48.3,
          11.9,
          150.2,
          80.9,
          155.4,
          141.7,
          700.6,
          536.7,
          892.3,
          0,
          0,
          null
         ],
         "yaxis": "y"
        },
        {
         "hovertemplate": "StateName=Washington<br>year=%{x}<br>nCLOTHIANIDIN=%{y}<extra></extra>",
         "legendgroup": "Washington",
         "line": {
          "color": "#636efa",
          "dash": "solid"
         },
         "marker": {
          "symbol": "circle"
         },
         "mode": "lines",
         "name": "Washington",
         "orientation": "v",
         "showlegend": true,
         "type": "scatter",
         "x": [
          1991,
          1992,
          1993,
          1994,
          1995,
          1996,
          1997,
          1998,
          1999,
          2000,
          2001,
          2002,
          2003,
          2004,
          2005,
          2006,
          2007,
          2008,
          2009,
          2010,
          2011,
          2012,
          2013,
          2014,
          2015,
          2016,
          2017
         ],
         "xaxis": "x",
         "y": [
          null,
          null,
          null,
          0,
          0,
          0,
          0,
          0,
          0,
          0,
          0,
          0,
          0,
          23.6,
          3393.6,
          387.7,
          2433.3,
          1424.6,
          1633.3,
          1046.9,
          5530.4,
          4485,
          4413.2,
          3319.3,
          419.9,
          3280.3,
          null
         ],
         "yaxis": "y"
        },
        {
         "hovertemplate": "StateName=Wyoming<br>year=%{x}<br>nCLOTHIANIDIN=%{y}<extra></extra>",
         "legendgroup": "Wyoming",
         "line": {
          "color": "#EF553B",
          "dash": "solid"
         },
         "marker": {
          "symbol": "circle"
         },
         "mode": "lines",
         "name": "Wyoming",
         "orientation": "v",
         "showlegend": true,
         "type": "scatter",
         "x": [
          1991,
          1992,
          1993,
          1994,
          1995,
          1996,
          1997,
          1998,
          1999,
          2000,
          2001,
          2002,
          2003,
          2004,
          2005,
          2006,
          2007,
          2008,
          2009,
          2010,
          2011,
          2012,
          2013,
          2014,
          2015,
          2016,
          2017
         ],
         "xaxis": "x",
         "y": [
          null,
          null,
          null,
          null,
          0,
          0,
          0,
          0,
          0,
          0,
          0,
          0,
          0,
          217.8,
          182.7,
          218.1,
          122.2,
          391.7,
          901.3,
          756.3,
          802.7,
          1174.9,
          840.9,
          1262,
          0,
          0,
          null
         ],
         "yaxis": "y"
        }
       ],
       "layout": {
        "autosize": false,
        "height": 600,
        "legend": {
         "title": {
          "text": "StateName"
         },
         "tracegroupgap": 0
        },
        "margin": {
         "t": 60
        },
        "showlegend": true,
        "template": {
         "data": {
          "bar": [
           {
            "error_x": {
             "color": "#2a3f5f"
            },
            "error_y": {
             "color": "#2a3f5f"
            },
            "marker": {
             "line": {
              "color": "#E5ECF6",
              "width": 0.5
             },
             "pattern": {
              "fillmode": "overlay",
              "size": 10,
              "solidity": 0.2
             }
            },
            "type": "bar"
           }
          ],
          "barpolar": [
           {
            "marker": {
             "line": {
              "color": "#E5ECF6",
              "width": 0.5
             },
             "pattern": {
              "fillmode": "overlay",
              "size": 10,
              "solidity": 0.2
             }
            },
            "type": "barpolar"
           }
          ],
          "carpet": [
           {
            "aaxis": {
             "endlinecolor": "#2a3f5f",
             "gridcolor": "white",
             "linecolor": "white",
             "minorgridcolor": "white",
             "startlinecolor": "#2a3f5f"
            },
            "baxis": {
             "endlinecolor": "#2a3f5f",
             "gridcolor": "white",
             "linecolor": "white",
             "minorgridcolor": "white",
             "startlinecolor": "#2a3f5f"
            },
            "type": "carpet"
           }
          ],
          "choropleth": [
           {
            "colorbar": {
             "outlinewidth": 0,
             "ticks": ""
            },
            "type": "choropleth"
           }
          ],
          "contour": [
           {
            "colorbar": {
             "outlinewidth": 0,
             "ticks": ""
            },
            "colorscale": [
             [
              0,
              "#0d0887"
             ],
             [
              0.1111111111111111,
              "#46039f"
             ],
             [
              0.2222222222222222,
              "#7201a8"
             ],
             [
              0.3333333333333333,
              "#9c179e"
             ],
             [
              0.4444444444444444,
              "#bd3786"
             ],
             [
              0.5555555555555556,
              "#d8576b"
             ],
             [
              0.6666666666666666,
              "#ed7953"
             ],
             [
              0.7777777777777778,
              "#fb9f3a"
             ],
             [
              0.8888888888888888,
              "#fdca26"
             ],
             [
              1,
              "#f0f921"
             ]
            ],
            "type": "contour"
           }
          ],
          "contourcarpet": [
           {
            "colorbar": {
             "outlinewidth": 0,
             "ticks": ""
            },
            "type": "contourcarpet"
           }
          ],
          "heatmap": [
           {
            "colorbar": {
             "outlinewidth": 0,
             "ticks": ""
            },
            "colorscale": [
             [
              0,
              "#0d0887"
             ],
             [
              0.1111111111111111,
              "#46039f"
             ],
             [
              0.2222222222222222,
              "#7201a8"
             ],
             [
              0.3333333333333333,
              "#9c179e"
             ],
             [
              0.4444444444444444,
              "#bd3786"
             ],
             [
              0.5555555555555556,
              "#d8576b"
             ],
             [
              0.6666666666666666,
              "#ed7953"
             ],
             [
              0.7777777777777778,
              "#fb9f3a"
             ],
             [
              0.8888888888888888,
              "#fdca26"
             ],
             [
              1,
              "#f0f921"
             ]
            ],
            "type": "heatmap"
           }
          ],
          "heatmapgl": [
           {
            "colorbar": {
             "outlinewidth": 0,
             "ticks": ""
            },
            "colorscale": [
             [
              0,
              "#0d0887"
             ],
             [
              0.1111111111111111,
              "#46039f"
             ],
             [
              0.2222222222222222,
              "#7201a8"
             ],
             [
              0.3333333333333333,
              "#9c179e"
             ],
             [
              0.4444444444444444,
              "#bd3786"
             ],
             [
              0.5555555555555556,
              "#d8576b"
             ],
             [
              0.6666666666666666,
              "#ed7953"
             ],
             [
              0.7777777777777778,
              "#fb9f3a"
             ],
             [
              0.8888888888888888,
              "#fdca26"
             ],
             [
              1,
              "#f0f921"
             ]
            ],
            "type": "heatmapgl"
           }
          ],
          "histogram": [
           {
            "marker": {
             "pattern": {
              "fillmode": "overlay",
              "size": 10,
              "solidity": 0.2
             }
            },
            "type": "histogram"
           }
          ],
          "histogram2d": [
           {
            "colorbar": {
             "outlinewidth": 0,
             "ticks": ""
            },
            "colorscale": [
             [
              0,
              "#0d0887"
             ],
             [
              0.1111111111111111,
              "#46039f"
             ],
             [
              0.2222222222222222,
              "#7201a8"
             ],
             [
              0.3333333333333333,
              "#9c179e"
             ],
             [
              0.4444444444444444,
              "#bd3786"
             ],
             [
              0.5555555555555556,
              "#d8576b"
             ],
             [
              0.6666666666666666,
              "#ed7953"
             ],
             [
              0.7777777777777778,
              "#fb9f3a"
             ],
             [
              0.8888888888888888,
              "#fdca26"
             ],
             [
              1,
              "#f0f921"
             ]
            ],
            "type": "histogram2d"
           }
          ],
          "histogram2dcontour": [
           {
            "colorbar": {
             "outlinewidth": 0,
             "ticks": ""
            },
            "colorscale": [
             [
              0,
              "#0d0887"
             ],
             [
              0.1111111111111111,
              "#46039f"
             ],
             [
              0.2222222222222222,
              "#7201a8"
             ],
             [
              0.3333333333333333,
              "#9c179e"
             ],
             [
              0.4444444444444444,
              "#bd3786"
             ],
             [
              0.5555555555555556,
              "#d8576b"
             ],
             [
              0.6666666666666666,
              "#ed7953"
             ],
             [
              0.7777777777777778,
              "#fb9f3a"
             ],
             [
              0.8888888888888888,
              "#fdca26"
             ],
             [
              1,
              "#f0f921"
             ]
            ],
            "type": "histogram2dcontour"
           }
          ],
          "mesh3d": [
           {
            "colorbar": {
             "outlinewidth": 0,
             "ticks": ""
            },
            "type": "mesh3d"
           }
          ],
          "parcoords": [
           {
            "line": {
             "colorbar": {
              "outlinewidth": 0,
              "ticks": ""
             }
            },
            "type": "parcoords"
           }
          ],
          "pie": [
           {
            "automargin": true,
            "type": "pie"
           }
          ],
          "scatter": [
           {
            "marker": {
             "colorbar": {
              "outlinewidth": 0,
              "ticks": ""
             }
            },
            "type": "scatter"
           }
          ],
          "scatter3d": [
           {
            "line": {
             "colorbar": {
              "outlinewidth": 0,
              "ticks": ""
             }
            },
            "marker": {
             "colorbar": {
              "outlinewidth": 0,
              "ticks": ""
             }
            },
            "type": "scatter3d"
           }
          ],
          "scattercarpet": [
           {
            "marker": {
             "colorbar": {
              "outlinewidth": 0,
              "ticks": ""
             }
            },
            "type": "scattercarpet"
           }
          ],
          "scattergeo": [
           {
            "marker": {
             "colorbar": {
              "outlinewidth": 0,
              "ticks": ""
             }
            },
            "type": "scattergeo"
           }
          ],
          "scattergl": [
           {
            "marker": {
             "colorbar": {
              "outlinewidth": 0,
              "ticks": ""
             }
            },
            "type": "scattergl"
           }
          ],
          "scattermapbox": [
           {
            "marker": {
             "colorbar": {
              "outlinewidth": 0,
              "ticks": ""
             }
            },
            "type": "scattermapbox"
           }
          ],
          "scatterpolar": [
           {
            "marker": {
             "colorbar": {
              "outlinewidth": 0,
              "ticks": ""
             }
            },
            "type": "scatterpolar"
           }
          ],
          "scatterpolargl": [
           {
            "marker": {
             "colorbar": {
              "outlinewidth": 0,
              "ticks": ""
             }
            },
            "type": "scatterpolargl"
           }
          ],
          "scatterternary": [
           {
            "marker": {
             "colorbar": {
              "outlinewidth": 0,
              "ticks": ""
             }
            },
            "type": "scatterternary"
           }
          ],
          "surface": [
           {
            "colorbar": {
             "outlinewidth": 0,
             "ticks": ""
            },
            "colorscale": [
             [
              0,
              "#0d0887"
             ],
             [
              0.1111111111111111,
              "#46039f"
             ],
             [
              0.2222222222222222,
              "#7201a8"
             ],
             [
              0.3333333333333333,
              "#9c179e"
             ],
             [
              0.4444444444444444,
              "#bd3786"
             ],
             [
              0.5555555555555556,
              "#d8576b"
             ],
             [
              0.6666666666666666,
              "#ed7953"
             ],
             [
              0.7777777777777778,
              "#fb9f3a"
             ],
             [
              0.8888888888888888,
              "#fdca26"
             ],
             [
              1,
              "#f0f921"
             ]
            ],
            "type": "surface"
           }
          ],
          "table": [
           {
            "cells": {
             "fill": {
              "color": "#EBF0F8"
             },
             "line": {
              "color": "white"
             }
            },
            "header": {
             "fill": {
              "color": "#C8D4E3"
             },
             "line": {
              "color": "white"
             }
            },
            "type": "table"
           }
          ]
         },
         "layout": {
          "annotationdefaults": {
           "arrowcolor": "#2a3f5f",
           "arrowhead": 0,
           "arrowwidth": 1
          },
          "autotypenumbers": "strict",
          "coloraxis": {
           "colorbar": {
            "outlinewidth": 0,
            "ticks": ""
           }
          },
          "colorscale": {
           "diverging": [
            [
             0,
             "#8e0152"
            ],
            [
             0.1,
             "#c51b7d"
            ],
            [
             0.2,
             "#de77ae"
            ],
            [
             0.3,
             "#f1b6da"
            ],
            [
             0.4,
             "#fde0ef"
            ],
            [
             0.5,
             "#f7f7f7"
            ],
            [
             0.6,
             "#e6f5d0"
            ],
            [
             0.7,
             "#b8e186"
            ],
            [
             0.8,
             "#7fbc41"
            ],
            [
             0.9,
             "#4d9221"
            ],
            [
             1,
             "#276419"
            ]
           ],
           "sequential": [
            [
             0,
             "#0d0887"
            ],
            [
             0.1111111111111111,
             "#46039f"
            ],
            [
             0.2222222222222222,
             "#7201a8"
            ],
            [
             0.3333333333333333,
             "#9c179e"
            ],
            [
             0.4444444444444444,
             "#bd3786"
            ],
            [
             0.5555555555555556,
             "#d8576b"
            ],
            [
             0.6666666666666666,
             "#ed7953"
            ],
            [
             0.7777777777777778,
             "#fb9f3a"
            ],
            [
             0.8888888888888888,
             "#fdca26"
            ],
            [
             1,
             "#f0f921"
            ]
           ],
           "sequentialminus": [
            [
             0,
             "#0d0887"
            ],
            [
             0.1111111111111111,
             "#46039f"
            ],
            [
             0.2222222222222222,
             "#7201a8"
            ],
            [
             0.3333333333333333,
             "#9c179e"
            ],
            [
             0.4444444444444444,
             "#bd3786"
            ],
            [
             0.5555555555555556,
             "#d8576b"
            ],
            [
             0.6666666666666666,
             "#ed7953"
            ],
            [
             0.7777777777777778,
             "#fb9f3a"
            ],
            [
             0.8888888888888888,
             "#fdca26"
            ],
            [
             1,
             "#f0f921"
            ]
           ]
          },
          "colorway": [
           "#636efa",
           "#EF553B",
           "#00cc96",
           "#ab63fa",
           "#FFA15A",
           "#19d3f3",
           "#FF6692",
           "#B6E880",
           "#FF97FF",
           "#FECB52"
          ],
          "font": {
           "color": "#2a3f5f"
          },
          "geo": {
           "bgcolor": "white",
           "lakecolor": "white",
           "landcolor": "#E5ECF6",
           "showlakes": true,
           "showland": true,
           "subunitcolor": "white"
          },
          "hoverlabel": {
           "align": "left"
          },
          "hovermode": "closest",
          "mapbox": {
           "style": "light"
          },
          "paper_bgcolor": "white",
          "plot_bgcolor": "#E5ECF6",
          "polar": {
           "angularaxis": {
            "gridcolor": "white",
            "linecolor": "white",
            "ticks": ""
           },
           "bgcolor": "#E5ECF6",
           "radialaxis": {
            "gridcolor": "white",
            "linecolor": "white",
            "ticks": ""
           }
          },
          "scene": {
           "xaxis": {
            "backgroundcolor": "#E5ECF6",
            "gridcolor": "white",
            "gridwidth": 2,
            "linecolor": "white",
            "showbackground": true,
            "ticks": "",
            "zerolinecolor": "white"
           },
           "yaxis": {
            "backgroundcolor": "#E5ECF6",
            "gridcolor": "white",
            "gridwidth": 2,
            "linecolor": "white",
            "showbackground": true,
            "ticks": "",
            "zerolinecolor": "white"
           },
           "zaxis": {
            "backgroundcolor": "#E5ECF6",
            "gridcolor": "white",
            "gridwidth": 2,
            "linecolor": "white",
            "showbackground": true,
            "ticks": "",
            "zerolinecolor": "white"
           }
          },
          "shapedefaults": {
           "line": {
            "color": "#2a3f5f"
           }
          },
          "ternary": {
           "aaxis": {
            "gridcolor": "white",
            "linecolor": "white",
            "ticks": ""
           },
           "baxis": {
            "gridcolor": "white",
            "linecolor": "white",
            "ticks": ""
           },
           "bgcolor": "#E5ECF6",
           "caxis": {
            "gridcolor": "white",
            "linecolor": "white",
            "ticks": ""
           }
          },
          "title": {
           "x": 0.05
          },
          "xaxis": {
           "automargin": true,
           "gridcolor": "white",
           "linecolor": "white",
           "ticks": "",
           "title": {
            "standoff": 15
           },
           "zerolinecolor": "white",
           "zerolinewidth": 2
          },
          "yaxis": {
           "automargin": true,
           "gridcolor": "white",
           "linecolor": "white",
           "ticks": "",
           "title": {
            "standoff": 15
           },
           "zerolinecolor": "white",
           "zerolinewidth": 2
          }
         }
        },
        "title": {
         "text": "Neonics usage for the West region"
        },
        "width": 800,
        "xaxis": {
         "anchor": "y",
         "domain": [
          0,
          1
         ],
         "title": {
          "text": "year"
         }
        },
        "yaxis": {
         "anchor": "x",
         "domain": [
          0,
          1
         ],
         "title": {
          "text": "nCLOTHIANIDIN"
         }
        }
       }
      }
     },
     "metadata": {},
     "output_type": "display_data"
    }
   ],
   "source": [
    "region = 'West' # 'South', 'West', 'Midwest', 'Northeast'\n",
    "neo = 'nCLOTHIANIDIN' # nCLOTHIANIDIN\tnIMIDACLOPRID\tnTHIAMETHOXAM\tnACETAMIPRID\tnTHIACLOPRID\tnAllNeonic\n",
    "\n",
    "df_rg_west = df.query(f\"Region == '{region}'\")\n",
    "fig = px.line(df_rg, x='year', y=f'{neo}', color='StateName')\n",
    "fig.update_layout(\n",
    "    showlegend=True, \n",
    "    title_text=f\"Neonics usage for the {region} region\",     \n",
    "    autosize=False,\n",
    "    width=800,\n",
    "    height=600,)\n",
    "fig.show()"
   ]
  },
  {
   "cell_type": "code",
   "execution_count": 27,
   "metadata": {},
   "outputs": [
    {
     "data": {
      "text/html": [
       "<div>\n",
       "<style scoped>\n",
       "    .dataframe tbody tr th:only-of-type {\n",
       "        vertical-align: middle;\n",
       "    }\n",
       "\n",
       "    .dataframe tbody tr th {\n",
       "        vertical-align: top;\n",
       "    }\n",
       "\n",
       "    .dataframe thead th {\n",
       "        text-align: right;\n",
       "    }\n",
       "</style>\n",
       "<table border=\"1\" class=\"dataframe\">\n",
       "  <thead>\n",
       "    <tr style=\"text-align: right;\">\n",
       "      <th></th>\n",
       "      <th>state</th>\n",
       "      <th>numcol</th>\n",
       "      <th>yieldpercol</th>\n",
       "      <th>totalprod</th>\n",
       "      <th>stocks</th>\n",
       "      <th>priceperlb</th>\n",
       "      <th>prodvalue</th>\n",
       "      <th>year</th>\n",
       "      <th>StateName</th>\n",
       "      <th>Region</th>\n",
       "      <th>FIPS</th>\n",
       "      <th>nCLOTHIANIDIN</th>\n",
       "      <th>nIMIDACLOPRID</th>\n",
       "      <th>nTHIAMETHOXAM</th>\n",
       "      <th>nACETAMIPRID</th>\n",
       "      <th>nTHIACLOPRID</th>\n",
       "      <th>nAllNeonic</th>\n",
       "    </tr>\n",
       "  </thead>\n",
       "  <tbody>\n",
       "    <tr>\n",
       "      <th>60</th>\n",
       "      <td>AZ</td>\n",
       "      <td>75000.0</td>\n",
       "      <td>50</td>\n",
       "      <td>3750000.0</td>\n",
       "      <td>750000.0</td>\n",
       "      <td>0.53</td>\n",
       "      <td>1988000.0</td>\n",
       "      <td>1991</td>\n",
       "      <td>Arizona</td>\n",
       "      <td>West</td>\n",
       "      <td>4</td>\n",
       "      <td>NaN</td>\n",
       "      <td>NaN</td>\n",
       "      <td>NaN</td>\n",
       "      <td>NaN</td>\n",
       "      <td>NaN</td>\n",
       "      <td>NaN</td>\n",
       "    </tr>\n",
       "    <tr>\n",
       "      <th>59</th>\n",
       "      <td>AZ</td>\n",
       "      <td>70000.0</td>\n",
       "      <td>54</td>\n",
       "      <td>3780000.0</td>\n",
       "      <td>1285000.0</td>\n",
       "      <td>0.55</td>\n",
       "      <td>2079000.0</td>\n",
       "      <td>1992</td>\n",
       "      <td>Arizona</td>\n",
       "      <td>West</td>\n",
       "      <td>4</td>\n",
       "      <td>NaN</td>\n",
       "      <td>NaN</td>\n",
       "      <td>NaN</td>\n",
       "      <td>NaN</td>\n",
       "      <td>NaN</td>\n",
       "      <td>NaN</td>\n",
       "    </tr>\n",
       "    <tr>\n",
       "      <th>58</th>\n",
       "      <td>AZ</td>\n",
       "      <td>55000.0</td>\n",
       "      <td>77</td>\n",
       "      <td>4235000.0</td>\n",
       "      <td>932000.0</td>\n",
       "      <td>0.52</td>\n",
       "      <td>2202000.0</td>\n",
       "      <td>1993</td>\n",
       "      <td>Arizona</td>\n",
       "      <td>West</td>\n",
       "      <td>4</td>\n",
       "      <td>NaN</td>\n",
       "      <td>NaN</td>\n",
       "      <td>NaN</td>\n",
       "      <td>NaN</td>\n",
       "      <td>NaN</td>\n",
       "      <td>NaN</td>\n",
       "    </tr>\n",
       "    <tr>\n",
       "      <th>56</th>\n",
       "      <td>AZ</td>\n",
       "      <td>47000.0</td>\n",
       "      <td>59</td>\n",
       "      <td>2773000.0</td>\n",
       "      <td>166000.0</td>\n",
       "      <td>0.51</td>\n",
       "      <td>1414000.0</td>\n",
       "      <td>1994</td>\n",
       "      <td>Arizona</td>\n",
       "      <td>West</td>\n",
       "      <td>4</td>\n",
       "      <td>0.0</td>\n",
       "      <td>2653.2</td>\n",
       "      <td>0.0</td>\n",
       "      <td>0.0</td>\n",
       "      <td>0.0</td>\n",
       "      <td>2653.2</td>\n",
       "    </tr>\n",
       "    <tr>\n",
       "      <th>57</th>\n",
       "      <td>AZ</td>\n",
       "      <td>52000.0</td>\n",
       "      <td>79</td>\n",
       "      <td>4108000.0</td>\n",
       "      <td>986000.0</td>\n",
       "      <td>0.65</td>\n",
       "      <td>2670000.0</td>\n",
       "      <td>1995</td>\n",
       "      <td>Arizona</td>\n",
       "      <td>West</td>\n",
       "      <td>4</td>\n",
       "      <td>0.0</td>\n",
       "      <td>8260.6</td>\n",
       "      <td>0.0</td>\n",
       "      <td>0.0</td>\n",
       "      <td>0.0</td>\n",
       "      <td>8260.6</td>\n",
       "    </tr>\n",
       "    <tr>\n",
       "      <th>...</th>\n",
       "      <td>...</td>\n",
       "      <td>...</td>\n",
       "      <td>...</td>\n",
       "      <td>...</td>\n",
       "      <td>...</td>\n",
       "      <td>...</td>\n",
       "      <td>...</td>\n",
       "      <td>...</td>\n",
       "      <td>...</td>\n",
       "      <td>...</td>\n",
       "      <td>...</td>\n",
       "      <td>...</td>\n",
       "      <td>...</td>\n",
       "      <td>...</td>\n",
       "      <td>...</td>\n",
       "      <td>...</td>\n",
       "      <td>...</td>\n",
       "    </tr>\n",
       "    <tr>\n",
       "      <th>1130</th>\n",
       "      <td>WY</td>\n",
       "      <td>47000.0</td>\n",
       "      <td>66</td>\n",
       "      <td>3102000.0</td>\n",
       "      <td>558000.0</td>\n",
       "      <td>2.11</td>\n",
       "      <td>6545000.0</td>\n",
       "      <td>2013</td>\n",
       "      <td>Wyoming</td>\n",
       "      <td>West</td>\n",
       "      <td>56</td>\n",
       "      <td>840.9</td>\n",
       "      <td>155.9</td>\n",
       "      <td>526.2</td>\n",
       "      <td>0.0</td>\n",
       "      <td>0.0</td>\n",
       "      <td>1523.0</td>\n",
       "    </tr>\n",
       "    <tr>\n",
       "      <th>1116</th>\n",
       "      <td>WY</td>\n",
       "      <td>38000.0</td>\n",
       "      <td>61</td>\n",
       "      <td>2318000.0</td>\n",
       "      <td>255000.0</td>\n",
       "      <td>2.08</td>\n",
       "      <td>4821000.0</td>\n",
       "      <td>2014</td>\n",
       "      <td>Wyoming</td>\n",
       "      <td>West</td>\n",
       "      <td>56</td>\n",
       "      <td>1262.0</td>\n",
       "      <td>258.2</td>\n",
       "      <td>566.1</td>\n",
       "      <td>0.0</td>\n",
       "      <td>0.0</td>\n",
       "      <td>2086.3</td>\n",
       "    </tr>\n",
       "    <tr>\n",
       "      <th>1118</th>\n",
       "      <td>WY</td>\n",
       "      <td>38000.0</td>\n",
       "      <td>77</td>\n",
       "      <td>2926000.0</td>\n",
       "      <td>146000.0</td>\n",
       "      <td>1.90</td>\n",
       "      <td>5559000.0</td>\n",
       "      <td>2015</td>\n",
       "      <td>Wyoming</td>\n",
       "      <td>West</td>\n",
       "      <td>56</td>\n",
       "      <td>0.0</td>\n",
       "      <td>114.4</td>\n",
       "      <td>19.0</td>\n",
       "      <td>0.0</td>\n",
       "      <td>0.0</td>\n",
       "      <td>133.4</td>\n",
       "    </tr>\n",
       "    <tr>\n",
       "      <th>1127</th>\n",
       "      <td>WY</td>\n",
       "      <td>40000.0</td>\n",
       "      <td>68</td>\n",
       "      <td>2720000.0</td>\n",
       "      <td>190000.0</td>\n",
       "      <td>1.78</td>\n",
       "      <td>4842000.0</td>\n",
       "      <td>2016</td>\n",
       "      <td>Wyoming</td>\n",
       "      <td>West</td>\n",
       "      <td>56</td>\n",
       "      <td>0.0</td>\n",
       "      <td>27.5</td>\n",
       "      <td>9.4</td>\n",
       "      <td>0.0</td>\n",
       "      <td>0.0</td>\n",
       "      <td>36.9</td>\n",
       "    </tr>\n",
       "    <tr>\n",
       "      <th>1120</th>\n",
       "      <td>WY</td>\n",
       "      <td>39000.0</td>\n",
       "      <td>53</td>\n",
       "      <td>2067000.0</td>\n",
       "      <td>186000.0</td>\n",
       "      <td>1.59</td>\n",
       "      <td>3287000.0</td>\n",
       "      <td>2017</td>\n",
       "      <td>Wyoming</td>\n",
       "      <td>West</td>\n",
       "      <td>56</td>\n",
       "      <td>NaN</td>\n",
       "      <td>NaN</td>\n",
       "      <td>NaN</td>\n",
       "      <td>NaN</td>\n",
       "      <td>NaN</td>\n",
       "      <td>NaN</td>\n",
       "    </tr>\n",
       "  </tbody>\n",
       "</table>\n",
       "<p>310 rows × 17 columns</p>\n",
       "</div>"
      ],
      "text/plain": [
       "     state   numcol  yieldpercol  totalprod     stocks  priceperlb  prodvalue  \\\n",
       "60      AZ  75000.0           50  3750000.0   750000.0        0.53  1988000.0   \n",
       "59      AZ  70000.0           54  3780000.0  1285000.0        0.55  2079000.0   \n",
       "58      AZ  55000.0           77  4235000.0   932000.0        0.52  2202000.0   \n",
       "56      AZ  47000.0           59  2773000.0   166000.0        0.51  1414000.0   \n",
       "57      AZ  52000.0           79  4108000.0   986000.0        0.65  2670000.0   \n",
       "...    ...      ...          ...        ...        ...         ...        ...   \n",
       "1130    WY  47000.0           66  3102000.0   558000.0        2.11  6545000.0   \n",
       "1116    WY  38000.0           61  2318000.0   255000.0        2.08  4821000.0   \n",
       "1118    WY  38000.0           77  2926000.0   146000.0        1.90  5559000.0   \n",
       "1127    WY  40000.0           68  2720000.0   190000.0        1.78  4842000.0   \n",
       "1120    WY  39000.0           53  2067000.0   186000.0        1.59  3287000.0   \n",
       "\n",
       "      year StateName Region  FIPS  nCLOTHIANIDIN  nIMIDACLOPRID  \\\n",
       "60    1991   Arizona   West     4            NaN            NaN   \n",
       "59    1992   Arizona   West     4            NaN            NaN   \n",
       "58    1993   Arizona   West     4            NaN            NaN   \n",
       "56    1994   Arizona   West     4            0.0         2653.2   \n",
       "57    1995   Arizona   West     4            0.0         8260.6   \n",
       "...    ...       ...    ...   ...            ...            ...   \n",
       "1130  2013   Wyoming   West    56          840.9          155.9   \n",
       "1116  2014   Wyoming   West    56         1262.0          258.2   \n",
       "1118  2015   Wyoming   West    56            0.0          114.4   \n",
       "1127  2016   Wyoming   West    56            0.0           27.5   \n",
       "1120  2017   Wyoming   West    56            NaN            NaN   \n",
       "\n",
       "      nTHIAMETHOXAM  nACETAMIPRID  nTHIACLOPRID  nAllNeonic  \n",
       "60              NaN           NaN           NaN         NaN  \n",
       "59              NaN           NaN           NaN         NaN  \n",
       "58              NaN           NaN           NaN         NaN  \n",
       "56              0.0           0.0           0.0      2653.2  \n",
       "57              0.0           0.0           0.0      8260.6  \n",
       "...             ...           ...           ...         ...  \n",
       "1130          526.2           0.0           0.0      1523.0  \n",
       "1116          566.1           0.0           0.0      2086.3  \n",
       "1118           19.0           0.0           0.0       133.4  \n",
       "1127            9.4           0.0           0.0        36.9  \n",
       "1120            NaN           NaN           NaN         NaN  \n",
       "\n",
       "[310 rows x 17 columns]"
      ]
     },
     "execution_count": 27,
     "metadata": {},
     "output_type": "execute_result"
    }
   ],
   "source": [
    "df_rg_west"
   ]
  },
  {
   "cell_type": "code",
   "execution_count": 28,
   "metadata": {},
   "outputs": [],
   "source": [
    "region = 'West' # 'South', 'West', 'Midwest', 'Northeast'\n",
    "neo = 'nCLOTHIANIDIN' # nCLOTHIANIDIN\tnIMIDACLOPRID\tnTHIAMETHOXAM\tnACETAMIPRID\tnTHIACLOPRID\tnAllNeonic\n",
    "\n",
    "df_region = df.query(f\"Region == '{region}'\")[['StateName', 'nCLOTHIANIDIN',\t'nIMIDACLOPRID',\t'nTHIAMETHOXAM',\t'nACETAMIPRID',\t'nTHIACLOPRID',\t'nAllNeonic']]"
   ]
  },
  {
   "cell_type": "code",
   "execution_count": 29,
   "metadata": {},
   "outputs": [],
   "source": [
    "# filter information\n",
    "years = df['year'].unique().tolist() # years\n",
    "states = df_region['StateName'].value_counts().index.tolist() # states for a region\n",
    "regions = regions = df['Region'].unique().tolist()\n",
    "neonics = df.columns[11:].tolist()"
   ]
  },
  {
   "cell_type": "code",
   "execution_count": 43,
   "metadata": {},
   "outputs": [],
   "source": [
    "neo = 'nCLOTHIANIDIN'\n",
    "\n",
    "\n",
    "def makedict(region, neo):\n",
    "    # thedict = {'region': f'{region}', 'neonic': f'{neo}', 'states_metrics': [], 'years': f'{years}'}\n",
    "    years = df['year'].unique().tolist() # years\n",
    "    thedict = {'states_metrics': [], 'years': f'{years}'}\n",
    "    df_ = df[['StateName', 'Region', f'{neo}']].query(f\"Region == '{region}'\").replace(np.nan, 'null')\n",
    "    states = df_['StateName'].value_counts().index.tolist()\n",
    "    thedict['region'] = region\n",
    "    thedict['states'] = states\n",
    "    thedict['neonic'] = neo\n",
    "    for statename in df_['StateName'].value_counts().index.tolist():\n",
    "        df_filtered = df_.query(f\"StateName == '{statename}'\")\n",
    "        thedict['states_metrics'].append({f'{statename}': df_filtered[f'{neo}'].tolist()})\n",
    "    return thedict\n"
   ]
  },
  {
   "cell_type": "code",
   "execution_count": 44,
   "metadata": {},
   "outputs": [],
   "source": [
    "thedict = makedict('West', 'nCLOTHIANIDIN')"
   ]
  },
  {
   "cell_type": "code",
   "execution_count": 45,
   "metadata": {},
   "outputs": [],
   "source": [
    "import json\n",
    "\n",
    "result = json.dumps(thedict)\n",
    "#parsed = json.loads(result)\n",
    "\n",
    "with open(f'data/dataset1.json', 'w') as f:\n",
    "   json.dump(result, f)"
   ]
  },
  {
   "cell_type": "code",
   "execution_count": 39,
   "metadata": {},
   "outputs": [
    {
     "name": "stdout",
     "output_type": "stream",
     "text": [
      "<class 'str'>\n",
      "<class 'dict'>\n"
     ]
    }
   ],
   "source": [
    "import json\n",
    "result = df.to_json(orient=\"split\")\n",
    "print(type(result))\n",
    "parsed = json.loads(result)\n",
    "print(type(parsed))\n",
    "\n",
    "with open(f'data/dataset2.json', 'w') as f:\n",
    "   json.dump(parsed, f)"
   ]
  },
  {
   "cell_type": "code",
   "execution_count": 34,
   "metadata": {},
   "outputs": [
    {
     "name": "stdout",
     "output_type": "stream",
     "text": [
      "<class 'dict'>\n"
     ]
    }
   ],
   "source": [
    "import json\n",
    "result = df.to_json(orient=\"split\")\n",
    "print(type(result))\n",
    "parsed = json.loads(result)\n",
    "print(type(parsed))\n",
    "\n",
    "with open(f'data/dataset3.json', 'w') as f:\n",
    "   json.dump(parsed, f)"
   ]
  },
  {
   "cell_type": "code",
   "execution_count": null,
   "metadata": {},
   "outputs": [],
   "source": []
  },
  {
   "cell_type": "code",
   "execution_count": null,
   "metadata": {},
   "outputs": [],
   "source": []
  },
  {
   "cell_type": "code",
   "execution_count": null,
   "metadata": {},
   "outputs": [],
   "source": []
  },
  {
   "cell_type": "code",
   "execution_count": null,
   "metadata": {},
   "outputs": [],
   "source": []
  },
  {
   "cell_type": "code",
   "execution_count": null,
   "metadata": {},
   "outputs": [],
   "source": []
  },
  {
   "cell_type": "code",
   "execution_count": null,
   "metadata": {},
   "outputs": [],
   "source": []
  },
  {
   "cell_type": "code",
   "execution_count": null,
   "metadata": {},
   "outputs": [],
   "source": []
  }
 ],
 "metadata": {
  "interpreter": {
   "hash": "42dc61120d0f6cfaf0b6f5f237c01c73a1a3f56a361a036036de8b52e8c358dc"
  },
  "kernelspec": {
   "display_name": "Python 3.8.5 64-bit ('base': conda)",
   "language": "python",
   "name": "python3"
  },
  "language_info": {
   "codemirror_mode": {
    "name": "ipython",
    "version": 3
   },
   "file_extension": ".py",
   "mimetype": "text/x-python",
   "name": "python",
   "nbconvert_exporter": "python",
   "pygments_lexer": "ipython3",
   "version": "3.8.5"
  },
  "orig_nbformat": 4
 },
 "nbformat": 4,
 "nbformat_minor": 2
}
